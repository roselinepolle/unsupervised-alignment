{
 "cells": [
  {
   "cell_type": "code",
   "execution_count": 1,
   "metadata": {},
   "outputs": [],
   "source": [
    "pref = 'knn_pretrain_angles_radius_best_'\n",
    "def prefix(dic,pref):\n",
    "    for key in dic:\n",
    "        dic[key] = [pref+scen for scen in dic[key]]\n",
    "    return dic"
   ]
  },
  {
   "cell_type": "code",
   "execution_count": 2,
   "metadata": {},
   "outputs": [
    {
     "name": "stdout",
     "output_type": "stream",
     "text": [
      "['knn_pretrain_angles_radius_best_base', 'knn_pretrain_angles_radius_best_clump2', 'knn_pretrain_angles_radius_best_clump3', 'knn_pretrain_angles_radius_best_clump4', 'knn_pretrain_angles_radius_best_clump5', 'knn_pretrain_angles_radius_best_clump6', 'knn_pretrain_angles_radius_best_clump7']\n"
     ]
    }
   ],
   "source": [
    "from utils import flatten_list_of_list as flat\n",
    "import copy\n",
    "scen_folder = 'knn_pretrain_angles_radius_best' #Folder in which all experiments are stored. \n",
    "dict_file_names = {}\n",
    "dict_file_names['clump'] = flat([['base'],[\"clump%d\"%i for i in range(2,8)]]) #base as has ceiling accuracy\n",
    "dict_file_names['embdim'] = ['base',\"embdim3\",\"embdim4\",\"embdim5\",\"embdim7\",\"embdim10\"]\n",
    "dict_file_names['noise'] = ['base','noise5e-3','noise1e-2','noise2e-2']\n",
    "dict_file_names['ncon'] = ['ncon50','ncon100','base','ncon300']\n",
    "#dict_file_names['embdim_noise'] =['noise001_embdim2','noise001_embdim3','noise001_embdim4','noise001_embdim5']\n",
    "dict_file_names = prefix(dict_file_names,pref)\n",
    "print(dict_file_names['clump'])\n",
    "#Exp names if need to change\n",
    "dict_exp_names = copy.deepcopy(dict_file_names)\n",
    "#Names to replace with\n",
    "dict_new_names = copy.deepcopy(dict_exp_names)\n",
    "dict_new_names['clump'] = flat([['clump1 \\n (base)'],[\"clump%d\"%i for i in range(2,8)]])\n",
    "dict_new_names['embdim'] = ['emdim2 \\n (base)',\"embdim3\",\"embdim4\",\"embdim5\",\"embdim7\",\"embdim10\"]\n",
    "dict_new_names['noise'] = ['noise1e-3 \\n (base)','noise5e-3','noise1e-2','noise2e-2']\n",
    "dict_new_names['ncon'] = ['ncon50','ncon100','ncon200 \\n (base)','ncon300']\n",
    "#dict_new_names['embdim_noise'] = ['noise001 \\n embdim2','noise001 \\n embdim3','noise001 \\n embdim4','noise001 \\n embdim5']"
   ]
  },
  {
   "cell_type": "code",
   "execution_count": 3,
   "metadata": {},
   "outputs": [],
   "source": [
    "#Paths\n",
    "import os\n",
    "from pathlib import Path\n",
    "fp_repo = \"/Users/roseline/Docs/AI/GITHUB/unsupervised-alignment\"\n",
    "#fp_repo = '/content/gdrive/My Drive/unsupervised-alignment-team-master'\n",
    "fp_intersect = fp_repo / Path('python','assets','intersect')\n",
    "fp_save = fp_repo / Path('save',scen_folder)\n",
    "os.chdir(fp_repo / Path('python'))"
   ]
  },
  {
   "cell_type": "code",
   "execution_count": 4,
   "metadata": {},
   "outputs": [
    {
     "name": "stderr",
     "output_type": "stream",
     "text": [
      "Using TensorFlow backend.\n"
     ]
    }
   ],
   "source": [
    "import pickle\n",
    "import numpy as np\n",
    "import pandas as pd\n",
    "import matplotlib.pyplot as plt\n",
    "import scipy.stats as stats\n",
    "import seaborn as sns\n",
    "import time\n",
    "from matplotlib import gridspec\n",
    "import matplotlib\n",
    "from matplotlib.ticker import MaxNLocator\n",
    "#Custom\n",
    "import utils\n",
    "import models\n",
    "#KERAS\n",
    "import tensorflow as tf\n",
    "import keras\n",
    "from tensorflow.keras.models import load_model\n",
    "sns.set(font_scale=1)"
   ]
  },
  {
   "cell_type": "code",
   "execution_count": 5,
   "metadata": {},
   "outputs": [],
   "source": [
    "def get_exps_dfs(fp_save,exp_names,file_names):\n",
    "    #== Get path of save folder/ models and data\n",
    "    n_exp = len(file_names)\n",
    "    fp_runs_list = []\n",
    "    fp_models_list = []\n",
    "    for i in range(n_exp):\n",
    "        save_folder = file_names[i]\n",
    "        fp_runs_list.append(fp_save / Path(save_folder))\n",
    "        fp_models_list.append(fp_save / Path(save_folder,'models'))\n",
    "    #====Get params====\n",
    "    dict_params_list = []\n",
    "    for i in range(n_exp):\n",
    "        fp_runs = fp_runs_list[i]\n",
    "        with open(fp_runs /Path('dict_params.pickle'), 'rb') as handle:\n",
    "            dict_params = pickle.load(handle)\n",
    "            dict_params_list.append(dict_params)\n",
    "    #display(pd.DataFrame(dict_params_list))\n",
    "    df_params = pd.DataFrame(dict_params_list)\n",
    "    ##========GET RESULTS==========\n",
    "    df_all_res_list = []\n",
    "    df_summary_res_list = []\n",
    "    for i in range(n_exp):\n",
    "        fp_runs = fp_runs_list[i]\n",
    "        with open(str(fp_runs)+'/all_res.pickle', 'rb') as handle:\n",
    "            all_res = pickle.load(handle)\n",
    "        with open(str(fp_runs)+'/summary_res.pickle', 'rb') as handle:\n",
    "            summary_res = pickle.load(handle)\n",
    "            df_all_res = pd.DataFrame(utils.flatten_list_of_list(all_res))\n",
    "            df_summary_res = pd.DataFrame(summary_res)\n",
    "        df_all_res_list.append(df_all_res)\n",
    "        df_summary_res_list.append(df_summary_res)\n",
    "    df_all_res = pd.concat(df_all_res_list)\n",
    "    df_summary_res = pd.concat(df_summary_res_list)\n",
    "    #==Add columns for average accuracies to df_all_res\n",
    "    df_all_res = add_avg_acc_columns(df_all_res)\n",
    "    return df_all_res,df_summary_res, df_params\n",
    "def add_avg_acc_columns(df_all_res):\n",
    "    #==Add columns for average accuracies to df_all_res\n",
    "    for s in ['1','5','10','half']:\n",
    "        df_all_res['acc%s'%s] = 1/2 *(df_all_res['acc_f%s'%s]+df_all_res['acc_g%s'%s])\n",
    "    return df_all_res\n",
    "def get_exp_data_per_run(exp,df_epoch29_newfg,threshs,n_runs=10,n_restarts=100):\n",
    "    df = utils.get_df(df_epoch29_newfg, exp = exp)\n",
    "    #Loop through runs\n",
    "    exp_data_per_run = np.zeros((n_runs,n_restarts))\n",
    "    exp_n_good_per_run = np.zeros((n_runs,))\n",
    "    for j in range(n_runs):\n",
    "        thresh = threshs[j] #thresh for specific run\n",
    "        df_run = utils.get_df(df, run = j)\n",
    "        run_data =  np.array(list(df_run['acc1']))\n",
    "        exp_data_per_run[j,:] = list(run_data) #1 row, 1 run. Transpose\n",
    "        exp_n_good_per_run[j] = len(np.where(run_data>thresh)[0])\n",
    "    return exp_data_per_run,exp_n_good_per_run\n",
    "def get_exp_ceil_accs(exp,df_summary_res):\n",
    "    df= utils.get_df(df_summary_res,exp=exp)\n",
    "    ceil_accs = np.array(list(df['ceil_acc_1']))\n",
    "    return ceil_accs\n",
    "def get_exp_matches_accs(exp,df_summary_res):\n",
    "    df= utils.get_df(df_summary_res,exp=exp)\n",
    "    matches_accs = np.array(list(df['matches_acc']))\n",
    "    return matches_accs\n",
    "def get_useful_data_for_plotting(new_names,df_all_res,df_summary_res):\n",
    "    '''\n",
    "    Returns:\n",
    "        all_exp_data (nexp,nruns,nrestart)\n",
    "        all_ceil_accs (nexp,n_runs)\n",
    "        n_good_per_run (nexp,n_runs)\n",
    "    '''\n",
    "    n_exp = len(new_names)\n",
    "    #Filter df_all_res\n",
    "    df_epoch29_newfg = utils.get_df(df_all_res, epoch=29, new_f=True, new_g=True)\n",
    "    #Loop through exp\n",
    "    all_ceil_accs = np.zeros((n_exp,10))\n",
    "    n_good_per_run = np.zeros((n_exp,10)) #Each row is one exp\n",
    "    all_exp_data = np.zeros((n_exp,10,100))\n",
    "    all_matches_accs = np.zeros((n_exp,10))\n",
    "    for i in range(n_exp):\n",
    "        exp = new_names[i]\n",
    "        ceil_accs = get_exp_ceil_accs(exp,df_summary_res)\n",
    "        threshs = 0.9*ceil_accs\n",
    "        exp_data_per_run,exp_n_good_per_run = get_exp_data_per_run(exp,df_epoch29_newfg,threshs,n_runs=10,n_restarts=100)\n",
    "        exp_data_all = exp_data_per_run.reshape(-1)\n",
    "        matches_accs = get_exp_matches_accs(exp,df_summary_res)\n",
    "        #Store\n",
    "        n_good_per_run[i,:] = exp_n_good_per_run\n",
    "        all_ceil_accs[i,:]= ceil_accs\n",
    "        all_exp_data[i,:,:] = exp_data_per_run\n",
    "        all_matches_accs[i,:]= matches_accs\n",
    "    return all_exp_data, all_ceil_accs,n_good_per_run,all_matches_accs"
   ]
  },
  {
   "cell_type": "code",
   "execution_count": 6,
   "metadata": {},
   "outputs": [],
   "source": [
    "#exp_list = ['clump','embdim']\n",
    "exp_list = list(dict_file_names)"
   ]
  },
  {
   "cell_type": "code",
   "execution_count": 7,
   "metadata": {},
   "outputs": [
    {
     "name": "stdout",
     "output_type": "stream",
     "text": [
      "['clump1', 'clump2', 'clump3', 'clump4', 'clump5', 'clump6', 'clump7']\n",
      "['emdim2', 'embdim3', 'embdim4', 'embdim5', 'embdim7', 'embdim10']\n",
      "['noise1e-3', 'noise5e-3', 'noise1e-2', 'noise2e-2']\n",
      "['ncon50', 'ncon100', 'ncon200', 'ncon300']\n"
     ]
    }
   ],
   "source": [
    "#GEt ALL ALL DATA\n",
    "n_exp = len(dict_file_names)\n",
    "exceptions = [] \n",
    "all_n_good_per_run = []\n",
    "all_labels = []\n",
    "all_matches_acc = []\n",
    "df_all_res_list ,df_summary_res_list, df_params_list  = [],[],[]\n",
    "for key in exp_list:\n",
    "    if key not in exceptions:\n",
    "        #==Get files and data\n",
    "        file_names,exp_names,new_names = dict_file_names[key],dict_exp_names[key],dict_new_names[key]\n",
    "        new_names = [n.replace(\" \\n (base)\", \"\") for n in new_names]\n",
    "        print(new_names)\n",
    "        all_labels.append(new_names)\n",
    "        df_all_res_i,df_summary_res_i, df_params_i = get_exps_dfs(fp_save,exp_names,file_names)\n",
    "        for df in [df_all_res_i,df_summary_res_i]:\n",
    "                df[\"experiment_name\"] = df[\"experiment_name\"].replace(exp_names,new_names)\n",
    "        df_summary_res_i.insert(loc=2, column='run', value=df_summary_res_i.index)\n",
    "        df_all_res_list.append(df_all_res_i)\n",
    "        df_summary_res_list.append(df_summary_res_i)\n",
    "        df_params_list.append(df_params_i)\n",
    "        all_exp_data, all_ceil_accs,n_good_per_run,matches_acc = get_useful_data_for_plotting(new_names,df_all_res_i,df_summary_res_i)\n",
    "        all_n_good_per_run.append(n_good_per_run)\n",
    "        all_matches_acc.append(matches_acc)\n",
    "# all_labels = flat(all_labels)        \n",
    "# all_n_good_per_run = np.concatenate(all_n_good_per_run,axis = 0)\n",
    "# all_matches_acc = np.concatenate(all_matches_acc,axis = 0)\n",
    "# df_all_res = pd.concat(df_all_res_list)\n",
    "# df_summary_res = pd.concat(df_summary_res_list)\n",
    "# df_params = pd.concat(df_params_list)\n",
    "# print(all_n_good_per_run.shape)\n",
    "# print(all_matches_acc.shape)\n",
    "# print(all_matches_acc)\n",
    "# display(df_summary_res)"
   ]
  },
  {
   "cell_type": "code",
   "execution_count": 8,
   "metadata": {},
   "outputs": [],
   "source": [
    "def find_scen_index(scen,all_labels):\n",
    "    i = 0\n",
    "    for l in all_labels:\n",
    "        print(scen in l)\n",
    "        if scen in l:\n",
    "            j = l.index(scen)\n",
    "            break\n",
    "        else:\n",
    "            i +=1\n",
    "    return i,j\n",
    "def get_subset(exps,exp_list,all_n_good_per_run,all_matches_acc):\n",
    "    idxs = [exp_list.index(e) for e in exps]\n",
    "    sub_n_good_per_run = [all_n_good_per_run[i] for i in idxs] #np.concatenate(all_n_good_per_run,axis = 0)[idxs].reshape(-1)\n",
    "    sub_matches_acc = [all_matches_acc[i] for i in idxs] # np.concatenate(all_matches_acc,axis = 0)[idxs].reshape(-1)\n",
    "    return sub_matches_acc,sub_n_good_per_run"
   ]
  },
  {
   "cell_type": "code",
   "execution_count": 18,
   "metadata": {},
   "outputs": [
    {
     "name": "stdout",
     "output_type": "stream",
     "text": [
      "[array([[0.9, 1. , 1. , 0.9, 0.8, 1. , 0.8, 1. , 1. , 1. ],\n",
      "       [0.6, 1. , 0.9, 1. , 1. , 1. , 1. , 0.6, 0.9, 0.9],\n",
      "       [0.9, 1. , 0.8, 0.7, 0.4, 0.5, 0.8, 0.5, 0.3, 0.9],\n",
      "       [0. , 0. , 0.3, 0.5, 0.5, 0.7, 0.3, 0.1, 0.3, 0.8],\n",
      "       [0.8, 0.8, 1. , 0.8, 0.8, 0.7, 1. , 0.8, 0.7, 0.9],\n",
      "       [0.3, 0.8, 0.9, 0.7, 0.9, 0.8, 0.5, 0.7, 0.7, 1. ],\n",
      "       [0. , 0.7, 0.6, 0.7, 0.7, 0.6, 0.5, 0.6, 0.3, 0.6]]), array([[0.9, 1. , 1. , 0.9, 0.8, 1. , 0.8, 1. , 1. , 1. ],\n",
      "       [0.7, 0.8, 1. , 0.9, 1. , 1. , 1. , 1. , 1. , 0.9],\n",
      "       [1. , 1. , 0.8, 0.9, 1. , 0.8, 1. , 0.8, 1. , 0.9],\n",
      "       [1. , 0.6, 1. , 1. , 0.8, 1. , 1. , 1. , 1. , 0.7],\n",
      "       [0.6, 1. , 1. , 0.8, 1. , 0.8, 0.8, 1. , 0.8, 0.9],\n",
      "       [1. , 1. , 1. , 0.5, 0.9, 0.6, 0.7, 0.6, 0.7, 0.6]]), array([[0.9, 1. , 1. , 0.9, 0.8, 1. , 0.8, 1. , 1. , 1. ],\n",
      "       [0.6, 0.7, 0.6, 0.8, 0.6, 0.5, 0.8, 0.4, 0.8, 0.9],\n",
      "       [0.5, 0.4, 0.3, 0.5, 0.6, 0.4, 0.6, 0.3, 0.7, 0.4],\n",
      "       [0.1, 0.2, 0.3, 0.4, 0.5, 0.3, 0.6, 0.2, 0.4, 0.4]]), array([[1. , 0.9, 0.9, 1. , 0.9, 0.8, 0.9, 0.9, 0.7, 0.9],\n",
      "       [0.8, 1. , 1. , 0.7, 0.9, 0.8, 0.5, 1. , 1. , 0.9],\n",
      "       [0.9, 1. , 1. , 0.9, 0.8, 1. , 0.8, 1. , 1. , 1. ],\n",
      "       [1. , 1. , 0.2, 1. , 0.9, 1. , 1. , 1. , 0.6, 0.9]])] [array([[89., 84., 78., 77., 34., 92., 73., 83., 73., 90.],\n",
      "       [43., 90., 85., 87., 89., 86., 64., 59., 33., 89.],\n",
      "       [ 4., 26.,  7., 74.,  1., 50.,  5.,  3.,  6., 22.],\n",
      "       [ 0.,  0.,  0., 31.,  4.,  0.,  0.,  0., 13.,  0.],\n",
      "       [78., 83., 95., 88., 88., 86., 83., 47., 96., 97.],\n",
      "       [29.,  9., 80., 40., 15., 92., 82., 20., 78., 89.],\n",
      "       [ 1.,  0.,  9.,  7.,  0., 46.,  9., 59., 19., 21.]]), array([[ 89.,  84.,  78.,  77.,  34.,  92.,  73.,  83.,  73.,  90.],\n",
      "       [ 96.,  96., 100.,  90., 100.,  82.,  79.,  96.,  97.,  94.],\n",
      "       [100., 100., 100., 100., 100.,  83.,  98.,   2.,  98.,  99.],\n",
      "       [ 99.,  97., 100.,  99.,  91.,  87., 100., 100., 100.,  98.],\n",
      "       [  8., 100., 100.,  98., 100.,  92.,  98., 100.,  13., 100.],\n",
      "       [100., 100., 100.,  47., 100.,  90.,  99.,  54.,  82.,  30.]]), array([[89., 84., 78., 77., 34., 92., 73., 83., 73., 90.],\n",
      "       [94., 77., 63., 95., 14., 77., 76., 29., 64., 74.],\n",
      "       [ 1., 74., 78., 36., 14., 28., 67.,  8., 84.,  0.],\n",
      "       [ 1.,  0., 39.,  2.,  4.,  8., 40., 10.,  2., 89.]]), array([[ 98.,  99., 100.,  96., 100.,  89., 100.,  96., 100.,  96.],\n",
      "       [ 91.,  96.,  92.,  74.,  61.,  85.,  52.,  93.,  83.,  89.],\n",
      "       [ 89.,  84.,  78.,  77.,  34.,  92.,  73.,  83.,  73.,  90.],\n",
      "       [ 64.,  74.,  57.,  64.,  71.,  66.,  46.,  65.,  57.,  74.]])]\n"
     ]
    },
    {
     "data": {
      "text/plain": [
       "<matplotlib.legend.Legend at 0x1a3a64a250>"
      ]
     },
     "execution_count": 18,
     "metadata": {},
     "output_type": "execute_result"
    },
    {
     "data": {
      "image/png": "[encoded data removed]",
      "text/plain": [
       "<Figure size 432x288 with 1 Axes>"
      ]
     },
     "metadata": {},
     "output_type": "display_data"
    }
   ],
   "source": [
    "exps = exp_list #['clump','embdim']\n",
    "sub_matches_acc,sub_n_good_per_run = get_subset(exps,exp_list,all_n_good_per_run,all_matches_acc)\n",
    "print(sub_matches_acc,sub_n_good_per_run)\n",
    "for i,(m,s) in enumerate(zip(sub_matches_acc,sub_n_good_per_run)): \n",
    "    plt.scatter(m,s,label = exps[i])\n",
    "plt.xlabel('matches accuracy')\n",
    "plt.ylabel('n success')\n",
    "plt.legend()"
   ]
  },
  {
   "cell_type": "code",
   "execution_count": 15,
   "metadata": {},
   "outputs": [
    {
     "name": "stdout",
     "output_type": "stream",
     "text": [
      "['noise1e-3', 'noise5e-3', 'noise1e-2', 'noise2e-2']\n"
     ]
    },
    {
     "data": {
      "text/plain": [
       "<matplotlib.legend.Legend at 0x1a3b16ff50>"
      ]
     },
     "execution_count": 15,
     "metadata": {},
     "output_type": "execute_result"
    },
    {
     "data": {
      "image/png": "[encoded data removed]",
      "text/plain": [
       "<Figure size 432x288 with 1 Axes>"
      ]
     },
     "metadata": {},
     "output_type": "display_data"
    }
   ],
   "source": [
    "exp = ['noise']\n",
    "labels = all_labels[exp_list.index(exp[0])]\n",
    "print(labels)\n",
    "sub_matches_acc,sub_n_good_per_run = get_subset(exp,exp_list,all_n_good_per_run,all_matches_acc)\n",
    "matches_acc,n_good_per_run = sub_matches_acc[0],sub_n_good_per_run[0]\n",
    "n_scen = matches_acc.shape[0]\n",
    "for i in range(n_scen): \n",
    "    m,s = matches_acc[i],n_good_per_run[i]\n",
    "    plt.scatter(m,s,label = labels[i])\n",
    "plt.xlabel('matches accuracy')\n",
    "plt.ylabel('n success')\n",
    "plt.legend()"
   ]
  },
  {
   "cell_type": "code",
   "execution_count": 11,
   "metadata": {},
   "outputs": [
    {
     "name": "stdout",
     "output_type": "stream",
     "text": [
      "True\n",
      "0 6\n"
     ]
    },
    {
     "data": {
      "text/plain": [
       "Text(0, 0.5, 'n success')"
      ]
     },
     "execution_count": 11,
     "metadata": {},
     "output_type": "execute_result"
    },
    {
     "data": {
      "image/png": "[encoded data removed]",
      "text/plain": [
       "<Figure size 432x288 with 1 Axes>"
      ]
     },
     "metadata": {},
     "output_type": "display_data"
    }
   ],
   "source": [
    "scen = 'clump7'\n",
    "i,j = find_scen_index(scen,all_labels)\n",
    "print(i,j)\n",
    "matches_acc = all_matches_acc[i][j]\n",
    "n_good_per_run = all_n_good_per_run[i][j]\n",
    "plt.scatter(matches_acc,n_good_per_run)\n",
    "plt.xlabel('matches accuracy')\n",
    "plt.ylabel('n success')"
   ]
  },
  {
   "cell_type": "code",
   "execution_count": null,
   "metadata": {},
   "outputs": [],
   "source": []
  }
 ],
 "metadata": {
  "kernelspec": {
   "display_name": "Python 3",
   "language": "python",
   "name": "python3"
  },
  "language_info": {
   "codemirror_mode": {
    "name": "ipython",
    "version": 3
   },
   "file_extension": ".py",
   "mimetype": "text/x-python",
   "name": "python",
   "nbconvert_exporter": "python",
   "pygments_lexer": "ipython3",
   "version": "3.7.4"
  }
 },
 "nbformat": 4,
 "nbformat_minor": 4
}
