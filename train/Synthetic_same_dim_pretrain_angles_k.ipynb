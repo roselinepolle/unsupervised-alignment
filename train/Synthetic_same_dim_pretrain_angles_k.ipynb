{
 "cells": [
  {
   "cell_type": "code",
   "execution_count": 1,
   "metadata": {
    "colab": {},
    "colab_type": "code",
    "executionInfo": {
     "elapsed": 509,
     "status": "ok",
     "timestamp": 1597281952071,
     "user": {
      "displayName": "Roseline",
      "photoUrl": "",
      "userId": "06567256556577965216"
     },
     "user_tz": -60
    },
    "id": "86dBMxv4p4Lm"
   },
   "outputs": [],
   "source": [
    "experiment_name = 'knn_pretrain_angles_k_base'\n",
    "k = 10\n",
    "Ncorr = 10"
   ]
  },
  {
   "cell_type": "markdown",
   "metadata": {
    "colab_type": "text",
    "id": "EWCVoN7oDpaV"
   },
   "source": [
    "# Colab settings"
   ]
  },
  {
   "cell_type": "code",
   "execution_count": 18,
   "metadata": {
    "colab": {
     "base_uri": "https://localhost:8080/",
     "height": 34
    },
    "colab_type": "code",
    "executionInfo": {
     "elapsed": 585,
     "status": "ok",
     "timestamp": 1597281952994,
     "user": {
      "displayName": "Roseline",
      "photoUrl": "",
      "userId": "06567256556577965216"
     },
     "user_tz": -60
    },
    "id": "l-oWypvjDogQ",
    "outputId": "4f2242f7-4054-4bfb-8120-f48aa3659667"
   },
   "outputs": [
    {
     "name": "stdout",
     "output_type": "stream",
     "text": [
      "Drive already mounted at /content/gdrive; to attempt to forcibly remount, call drive.mount(\"/content/gdrive\", force_remount=True).\n"
     ]
    }
   ],
   "source": [
    "#Mount gdrive\n",
    "from google.colab import drive\n",
    "drive.mount('/content/gdrive')"
   ]
  },
  {
   "cell_type": "markdown",
   "metadata": {
    "colab_type": "text",
    "id": "8Z3oEsybDORw"
   },
   "source": [
    "# Imports and Settings"
   ]
  },
  {
   "cell_type": "code",
   "execution_count": 4,
   "metadata": {
    "colab": {},
    "colab_type": "code",
    "executionInfo": {
     "elapsed": 380,
     "status": "ok",
     "timestamp": 1597281953805,
     "user": {
      "displayName": "Roseline",
      "photoUrl": "",
      "userId": "06567256556577965216"
     },
     "user_tz": -60
    },
    "id": "MES2en4ADOR7"
   },
   "outputs": [],
   "source": [
    "#Paths\n",
    "import os\n",
    "from pathlib import Path\n",
    "fp_repo = \"/Users/roseline/Docs/UCL/Projects/B.Roads/B.Roads code/Fork/unsupervised-alignment\"\n",
    "# fp_repo = '/content/gdrive/My Drive/unsupervised-alignment'\n",
    "fp_save = fp_repo / Path('save')\n",
    "os.chdir(fp_repo / Path('src'))"
   ]
  },
  {
   "cell_type": "code",
   "execution_count": 5,
   "metadata": {
    "colab": {},
    "colab_type": "code",
    "executionInfo": {
     "elapsed": 438,
     "status": "ok",
     "timestamp": 1597281954551,
     "user": {
      "displayName": "Roseline",
      "photoUrl": "",
      "userId": "06567256556577965216"
     },
     "user_tz": -60
    },
    "id": "zFppTe0uDORx"
   },
   "outputs": [
    {
     "name": "stderr",
     "output_type": "stream",
     "text": [
      "Using TensorFlow backend.\n"
     ]
    }
   ],
   "source": [
    "import pickle\n",
    "import numpy as np\n",
    "import matplotlib.pyplot as plt\n",
    "import tensorflow as tf\n",
    "import scipy as sp\n",
    "from tqdm.notebook import tqdm\n",
    "import pandas as pd\n",
    "import uuid\n",
    "import time\n",
    "import itertools\n",
    "#Custom modules\n",
    "import embeddings as emb \n",
    "import utils \n",
    "import models\n",
    "import losses\n",
    "import train\n",
    "import knn\n",
    "#KERAS\n",
    "import keras\n",
    "import tensorflow as tf\n",
    "#New\n",
    "from scipy.spatial import distance\n",
    "import scipy.interpolate as interpolate\n",
    "from scipy.integrate import quad\n",
    "import matplotlib.pyplot as plt"
   ]
  },
  {
   "cell_type": "code",
   "execution_count": 6,
   "metadata": {
    "colab": {
     "base_uri": "https://localhost:8080/",
     "height": 34
    },
    "colab_type": "code",
    "executionInfo": {
     "elapsed": 703,
     "status": "ok",
     "timestamp": 1597281955598,
     "user": {
      "displayName": "Roseline",
      "photoUrl": "",
      "userId": "06567256556577965216"
     },
     "user_tz": -60
    },
    "id": "IRtgp2pFIbjS",
    "outputId": "4fbd81a9-d923-4586-fc2e-d87e8d167b17"
   },
   "outputs": [
    {
     "name": "stdout",
     "output_type": "stream",
     "text": [
      "False\n"
     ]
    }
   ],
   "source": [
    "def gpu_avail():\n",
    "  is_avail = True\n",
    "  device_name = tf.test.gpu_device_name()\n",
    "  if device_name != '/device:GPU:0':\n",
    "    is_avail = False\n",
    "  return is_avail  \n",
    "print(gpu_avail())\n",
    "# tf.debugging.set_log_device_placement(True)"
   ]
  },
  {
   "cell_type": "markdown",
   "metadata": {
    "colab_type": "text",
    "id": "4k4DldSkDOR9"
   },
   "source": [
    "# Parameters"
   ]
  },
  {
   "cell_type": "code",
   "execution_count": 7,
   "metadata": {
    "colab": {
     "base_uri": "https://localhost:8080/",
     "height": 151
    },
    "colab_type": "code",
    "executionInfo": {
     "elapsed": 485,
     "status": "ok",
     "timestamp": 1597281972826,
     "user": {
      "displayName": "Roseline",
      "photoUrl": "",
      "userId": "06567256556577965216"
     },
     "user_tz": -60
    },
    "id": "hrwiuQYFDOR-",
    "outputId": "c91ec46a-d650-46a6-9013-5d906129516c"
   },
   "outputs": [
    {
     "name": "stdout",
     "output_type": "stream",
     "text": [
      "/Users/roseline/Docs/UCL/Projects/B.Roads/B.Roads code/Fork/unsupervised-alignment/save/knn_pretrain_angles_k_base\n"
     ]
    },
    {
     "data": {
      "text/html": [
       "<div>\n",
       "<style scoped>\n",
       "    .dataframe tbody tr th:only-of-type {\n",
       "        vertical-align: middle;\n",
       "    }\n",
       "\n",
       "    .dataframe tbody tr th {\n",
       "        vertical-align: top;\n",
       "    }\n",
       "\n",
       "    .dataframe thead th {\n",
       "        text-align: right;\n",
       "    }\n",
       "</style>\n",
       "<table border=\"1\" class=\"dataframe\">\n",
       "  <thead>\n",
       "    <tr style=\"text-align: right;\">\n",
       "      <th></th>\n",
       "      <th>experiment_name</th>\n",
       "      <th>experiment_id</th>\n",
       "      <th>n_systems</th>\n",
       "      <th>n_concepts</th>\n",
       "      <th>noise</th>\n",
       "      <th>emb_dim</th>\n",
       "      <th>n_epicentres</th>\n",
       "      <th>linearsep</th>\n",
       "      <th>n_runs</th>\n",
       "      <th>max_restart</th>\n",
       "      <th>max_epoch</th>\n",
       "      <th>batch_size</th>\n",
       "      <th>gmm_scale</th>\n",
       "      <th>loss_distr_scale</th>\n",
       "      <th>loss_cycle_scale</th>\n",
       "      <th>lr</th>\n",
       "    </tr>\n",
       "  </thead>\n",
       "  <tbody>\n",
       "    <tr>\n",
       "      <th>0</th>\n",
       "      <td>knn_pretrain_angles_k_base</td>\n",
       "      <td>3983eea7-b551-4d71-8b1d-62b3d74d8e53</td>\n",
       "      <td>2</td>\n",
       "      <td>200</td>\n",
       "      <td>0.001</td>\n",
       "      <td>2</td>\n",
       "      <td>1</td>\n",
       "      <td>1</td>\n",
       "      <td>10</td>\n",
       "      <td>110</td>\n",
       "      <td>30</td>\n",
       "      <td>100</td>\n",
       "      <td>0.01</td>\n",
       "      <td>1.0</td>\n",
       "      <td>10000.0</td>\n",
       "      <td>0.001</td>\n",
       "    </tr>\n",
       "  </tbody>\n",
       "</table>\n",
       "</div>"
      ],
      "text/plain": [
       "              experiment_name                         experiment_id  \\\n",
       "0  knn_pretrain_angles_k_base  3983eea7-b551-4d71-8b1d-62b3d74d8e53   \n",
       "\n",
       "   n_systems  n_concepts  noise  emb_dim  n_epicentres  linearsep  n_runs  \\\n",
       "0          2         200  0.001        2             1          1      10   \n",
       "\n",
       "   max_restart  max_epoch  batch_size  gmm_scale  loss_distr_scale  \\\n",
       "0          110         30         100       0.01               1.0   \n",
       "\n",
       "   loss_cycle_scale     lr  \n",
       "0           10000.0  0.001  "
      ]
     },
     "metadata": {},
     "output_type": "display_data"
    }
   ],
   "source": [
    "#===PARAMETERS===\\\n",
    "override = False\n",
    "sd = 56 #This should make the subsequend rd seed generation reproducible\n",
    "tf.random.set_seed(sd)\n",
    "np.random.seed(sd)\n",
    "#=Synthetic data\n",
    "n_systems = 2\n",
    "n_concepts = 200\n",
    "noise = 0.001\n",
    "emb_dim = 2\n",
    "n_epicentres = 1\n",
    "linearsep = 1\n",
    "#=Neural net\n",
    "n_runs = 10\n",
    "max_restart = 110 #10 last restarts to fine tune best\n",
    "max_epoch = 30\n",
    "batch_size = np.minimum(100, n_concepts) #64/100\n",
    "#max_patience = 5\n",
    "#=losses\n",
    "gmm_scale = 0.01\n",
    "loss_distr_scale = 1.0\n",
    "loss_cycle_scale = 10000.0\n",
    "#=Define models / optimizer/losses\n",
    "lr = 0.001\n",
    "optimizer = tf.keras.optimizers.Adam(learning_rate=lr)\n",
    "#==SETUP=====\n",
    "template_ceil = '    Ceiling\\n    Accuracy 1: {0:.2f} 5: {1:.2f} 10: {2:.2f} Half: {3:.2f}\\n'\n",
    "template_loss = '    Epoch {0} Loss | total: {1:.5g} | cycle: {2:.3g} | f_dist: {3:.3g} | g_dist: {4:.3g}'\n",
    "template_acc = '{0} = | 1: {1:.2f} | 5: {2:.2f} | 10: {3:.2f} | half: {4:.2f}'\n",
    "template_res = '{0} = | f1: {1:.2f} | fhalf: {2:.2f} | g1: {3:.2f} | ghalf: {4:.2f} | total: {5:.2f} cycle: {6:.2f} | f_dist: {7:.2f} | g_dist: {8:.2f} '\n",
    "n_batch = int(np.ceil(n_concepts / batch_size))\n",
    "#==Set folders to save results and models===\n",
    "fp_save_runs,fp_save_models = utils.create_save_folder(fp_save,override,n_systems,n_concepts,noise,emb_dim,\n",
    "                                                 n_epicentres,linearsep,max_restart,max_epoch,batch_size,name = experiment_name)\n",
    "print(fp_save_runs)\n",
    "#===Get seed lists\n",
    "sd_run_list = list(np.random.choice(10000, n_runs, replace=False))\n",
    "#===Save params\n",
    "experiment_id = uuid.uuid4()\n",
    "dict_params = {'experiment_name':experiment_name,'experiment_id':experiment_id,'n_systems':n_systems,'n_concepts':n_concepts,'noise':noise,'emb_dim':emb_dim,'n_epicentres':n_epicentres,'linearsep':linearsep,\n",
    "               'n_runs':n_runs,'max_restart':max_restart,'max_epoch':max_epoch,'batch_size':batch_size,'gmm_scale':gmm_scale,'loss_distr_scale':loss_distr_scale,\n",
    "               'loss_cycle_scale':loss_cycle_scale,'lr':lr}\n",
    "with open(str(fp_save_runs)+'/dict_params.pickle', 'wb') as handle:\n",
    "  pickle.dump(dict_params, handle, protocol=pickle.HIGHEST_PROTOCOL)\n",
    "display(pd.DataFrame([dict_params]))"
   ]
  },
  {
   "cell_type": "markdown",
   "metadata": {
    "colab_type": "text",
    "id": "8Vxvhq7LDOSD"
   },
   "source": [
    "# Prepare synthetic data"
   ]
  },
  {
   "cell_type": "code",
   "execution_count": 8,
   "metadata": {
    "colab": {
     "base_uri": "https://localhost:8080/",
     "height": 836
    },
    "colab_type": "code",
    "executionInfo": {
     "elapsed": 1803,
     "status": "ok",
     "timestamp": 1597281975338,
     "user": {
      "displayName": "Roseline",
      "photoUrl": "",
      "userId": "06567256556577965216"
     },
     "user_tz": -60
    },
    "id": "zQLWulxnDOSD",
    "outputId": "5bdc58bb-5252-4722-8c66-8417452237b4"
   },
   "outputs": [
    {
     "data": {
      "image/png": "[encoded data removed]",
      "text/plain": [
       "<Figure size 432x288 with 2 Axes>"
      ]
     },
     "metadata": {
      "needs_background": "light"
     },
     "output_type": "display_data"
    },
    {
     "name": "stdout",
     "output_type": "stream",
     "text": [
      "    Ceiling\n",
      "    Accuracy 1: 1.00 5: 1.00 10: 1.00 Half: 1.00\n",
      "\n"
     ]
    },
    {
     "data": {
      "image/png": "[encoded data removed]",
      "text/plain": [
       "<Figure size 432x288 with 2 Axes>"
      ]
     },
     "metadata": {
      "needs_background": "light"
     },
     "output_type": "display_data"
    },
    {
     "name": "stdout",
     "output_type": "stream",
     "text": [
      "6 right over 10 tot\n",
      "0.6\n",
      "[[196  45  45]\n",
      " [ 72  79  79]\n",
      " [105 129 129]\n",
      " [199  37 157]\n",
      " [ 44  91 160]\n",
      " [183   9 106]\n",
      " [ 63 130 130]\n",
      " [192 189 189]\n",
      " [192  30 189]\n",
      " [182  38  38]]\n",
      "(10, 2) (10, 2)\n",
      "Took : 0.98 s\n"
     ]
    }
   ],
   "source": [
    "A,B,X_A,X_B,B_shuff,B_idx_map = emb.get_data(n_systems,n_concepts,emb_dim,noise,n_epicentres,linearsep,sd,bplot=True)\n",
    "# Determine ceiling performance.\n",
    "acc_1, acc_5, acc_10, acc_half = utils.mapping_accuracy(X_A, X_B)\n",
    "print(template_ceil.format(acc_1, acc_5, acc_10, acc_half))\n",
    "#Print distance matrix local faetures\n",
    "start = time.time()\n",
    "D_XY = knn.get_DXY_angles(A,B_shuff,k=k,bplot = True)\n",
    "X_pretrain,Y_pretrain, matches = knn.get_corres_data(A,B_shuff,D_XY,Ncorr)\n",
    "acc , mat = knn.check_corresp(matches,B_idx_map)\n",
    "print(acc)\n",
    "print(mat)\n",
    "print(X_pretrain.shape,Y_pretrain.shape)\n",
    "end = time.time()\n",
    "print(\"Took : %.2f s\"%(end-start))"
   ]
  },
  {
   "cell_type": "code",
   "execution_count": 9,
   "metadata": {
    "colab": {},
    "colab_type": "code",
    "executionInfo": {
     "elapsed": 1018,
     "status": "ok",
     "timestamp": 1597281975340,
     "user": {
      "displayName": "Roseline",
      "photoUrl": "",
      "userId": "06567256556577965216"
     },
     "user_tz": -60
    },
    "id": "ecynlhoeBPIN"
   },
   "outputs": [],
   "source": [
    "def pretrain(model_f,model_g,optimizer,x_pretrain, y_pretrain):\n",
    "      with tf.GradientTape() as tape_pretrain_f:\n",
    "        f_x = model_f(x_pretrain)\n",
    "        corr_loss_f = tf.reduce_mean(tf.keras.losses.MSE(f_x, y_pretrain))\n",
    "      gradients_pretrain_f = tape_pretrain_f.gradient(corr_loss_f, model_f.trainable_variables)\n",
    "      with tf.GradientTape() as tape_pretrain_g:\n",
    "        g_y = model_g(y_pretrain)\n",
    "        corr_loss_g = tf.reduce_mean(tf.keras.losses.MSE(g_y, x_pretrain))\n",
    "      gradients_pretrain_g = tape_pretrain_g.gradient(corr_loss_g, model_g.trainable_variables)\n",
    "      # Combine gradients.\n",
    "      optimizer.apply_gradients(zip(gradients_pretrain_f, model_f.trainable_variables))\n",
    "      optimizer.apply_gradients(zip(gradients_pretrain_g, model_g.trainable_variables))\n",
    "      return corr_loss_f, corr_loss_g\n",
    "\n",
    "def train_batch_step(model_f,model_g,optimizer,x_batch, y_batch, loss_cycle_scale):\n",
    "        with tf.GradientTape(persistent=True) as tape_cycle:\n",
    "            x_c = model_g(model_f(x_batch))\n",
    "            y_c = model_f(model_g(y_batch))\n",
    "            cycle_loss = loss_cycle_scale * losses.flex_cycle_loss([x_batch,y_batch],[x_c,y_c], norm_type = 'l2')\n",
    "        gradients_cycle_f = tape_cycle.gradient(cycle_loss, model_f.trainable_variables)\n",
    "        gradients_cycle_g = tape_cycle.gradient(cycle_loss, model_g.trainable_variables)\n",
    "        del tape_cycle\n",
    "        optimizer.apply_gradients(zip(gradients_cycle_f, model_f.trainable_variables))\n",
    "        optimizer.apply_gradients(zip(gradients_cycle_g, model_g.trainable_variables))\n",
    "        return cycle_loss\n",
    "    \n",
    "def train_full_step(model_f,model_g,optimizer,x_all, y_all, loss_distr_scale,gmm_scale):\n",
    "        k = 5\n",
    "        beta = 0.1\n",
    "        loss_knn_scale = 1\n",
    "        with tf.GradientTape() as tape_f0:\n",
    "            f_x = model_f(x_all)\n",
    "            dist_loss_f = loss_distr_scale * losses.distribution_loss(y_all, f_x, gmm_scale)\n",
    "            knn_loss_f = 0 #loss_knn_scale * knn_loss_calcX(y_all,f_x,k,beta)\n",
    "            tot_loss_f = dist_loss_f + knn_loss_f\n",
    "        gradients_target_fx = tape_f0.gradient(tot_loss_f, model_f.trainable_variables)\n",
    "        with tf.GradientTape() as tape_g0:\n",
    "            g_y = model_g(y_all)\n",
    "            dist_loss_g = loss_distr_scale * losses.distribution_loss(x_all, g_y, gmm_scale)\n",
    "            knn_loss_g = 0 #loss_knn_scale * knn_loss_calcX(x_all,g_y,k,beta)\n",
    "            tot_loss_g = dist_loss_g + knn_loss_g\n",
    "        gradients_target_gy = tape_g0.gradient(tot_loss_g, model_g.trainable_variables)\n",
    "        # Combine gradients.\n",
    "        optimizer.apply_gradients(zip(gradients_target_fx, model_f.trainable_variables))\n",
    "        optimizer.apply_gradients(zip(gradients_target_gy, model_g.trainable_variables))\n",
    "        return dist_loss_f, dist_loss_g , knn_loss_f , knn_loss_g"
   ]
  },
  {
   "cell_type": "code",
   "execution_count": 12,
   "metadata": {
    "colab": {},
    "colab_type": "code",
    "executionInfo": {
     "elapsed": 503,
     "status": "ok",
     "timestamp": 1597281975342,
     "user": {
      "displayName": "Roseline",
      "photoUrl": "",
      "userId": "06567256556577965216"
     },
     "user_tz": -60
    },
    "id": "RY52zUq7DOSL"
   },
   "outputs": [],
   "source": [
    "def train_models_one_restart(i_run,i_restart,sd_restart,x,y,y_idx_map,model_f,model_g,max_epoch,n_batch,x_0,x_1):\n",
    "    #LOOP THROUGH EPOCHS\n",
    "    epochs_dict_list = []\n",
    "    for i_epoch in range(max_epoch):\n",
    "        for x_batch, y_batch in utils.get_batch(x, y, batch_size):        \n",
    "            #cycle_loss = train.train_batch_step(model_f,model_g,optimizer,x_batch, y_batch, loss_cycle_scale)\n",
    "            cycle_loss = train_batch_step(model_f,model_g,optimizer,x_batch, y_batch, loss_cycle_scale)\n",
    "        #dist_loss_f, dist_loss_g, knn_loss = train.train_full_step(model_f,model_g,optimizer,x, y,loss_distr_scale,gmm_scale)\n",
    "        dist_loss_f, dist_loss_g, knn_loss_f , knn_loss_g = train_full_step(model_f,model_g,optimizer,x, y,loss_distr_scale,gmm_scale)\n",
    "        knn_loss = knn_loss_f + knn_loss_g\n",
    "        loss_total = dist_loss_f + dist_loss_g + cycle_loss + knn_loss\n",
    "        # Project concept using current models\n",
    "        f_x = model_f(x).numpy()\n",
    "        g_y = model_g(y).numpy()\n",
    "        #Get accuracies\n",
    "        if y_idx_map is not None:\n",
    "#             acc_f1, acc_f5, acc_f10, acc_fhalf = utils.mapping_accuracy(f_x, y.numpy()[y_idx_map]) #Does not work on local CPU\n",
    "#             acc_g1, acc_g5, acc_g10, acc_ghalf = utils.mapping_accuracy(g_y[y_idx_map], x.numpy()) #Does not work on local CPU\n",
    "            acc_f1, acc_f5, acc_f10, acc_fhalf = utils.mapping_accuracy(f_x, y[y_idx_map])\n",
    "            acc_g1, acc_g5, acc_g10, acc_ghalf = utils.mapping_accuracy(g_y[y_idx_map], x)\n",
    "        #Record all data in dict. \n",
    "        dict_entry = {'experiment_name':experiment_name,'experiment_id':experiment_id,'run':i_run,'restart':i_restart,'sd_restart':sd_restart,'epoch':i_epoch,'loss_total':loss_total.numpy(),\n",
    "                      'cycle_loss':cycle_loss.numpy(),'dist_loss_f':dist_loss_f.numpy(),'dist_loss_g':dist_loss_g.numpy(),\n",
    "                     'acc_f1':acc_f1, 'acc_f5':acc_f5, 'acc_f10':acc_f10, 'acc_fhalf':acc_fhalf,\n",
    "                     'acc_g1':acc_g1, 'acc_g5':acc_g5, 'acc_g10':acc_g10, 'acc_ghalf':acc_ghalf}\n",
    "        epochs_dict_list.append(dict_entry)\n",
    "        #Print current results\n",
    "        if i_epoch % max_epoch ==0 or i_epoch==max_epoch-1:\n",
    "            print(template_res.format(i_epoch,acc_f1,acc_fhalf,acc_g1,acc_ghalf,loss_total,cycle_loss,dist_loss_f,dist_loss_g))\n",
    "            #print('Epoch %d -'%i_epoch,template_acc.format('f(x)', acc_f1, acc_f5, acc_f10, acc_fhalf),template_acc.format('g(x)', acc_g1, acc_g5, acc_g10, acc_ghalf)) \n",
    "    #Plot final epoch\n",
    "    #utils.plot_systems_results(x,y,f_x,g_y,x_0,x_1)\n",
    "    return model_f,model_g,epochs_dict_list"
   ]
  },
  {
   "cell_type": "code",
   "execution_count": 13,
   "metadata": {
    "colab": {
     "base_uri": "https://localhost:8080/",
     "height": 1000,
     "referenced_widgets": [
      "3615dd15c0c843a7b5153b706d77b9af",
      "120121686b7f44d88477c0d7031d1f4a",
      "716511fb2f12489ab8b3910201e9ab0f",
      "afc5bec7adea4f1397feb2ae8c6774d4",
      "275c2f3ad221441f882e7a2cb8be5ca2",
      "0618eb6dc09845d8812215d235c8afc5",
      "2d2cf5cf9a3940ccaef5b873ab5ddc31",
      "1523b525a1294894856adb08d4329d2e",
      "8d5e8f68b6194e358527cfd8c73fcf66",
      "d9c03cf66d774390b80b6567f0cf38cc",
      "aa6d9ba18eca4661bc1a39d87dcfe137",
      "79175ece246949fcaf0cf2b08aa76a78",
      "ec8c33592c344fd4b64f73338f8f4c87",
      "8169d008e4334494958ac60ed6c5879f",
      "4efc9237d3c04aefa84940f141b67d79",
      "288f14f964664c2ab96ee4ab78227b65",
      "4101e2541d0f446a9be811d7e1989098",
      "1e9d60dd849a42e4a6ee39bbc46689a5",
      "48f0a531538745c3b1ce2d8b2ca1e84e",
      "f5bc67aa923d4dc794f94047e5ff9e3c",
      "824de0282b344a80bba6bccd6e826072",
      "bfb9fbc9e7554a6fa61adaa7451f1372",
      "b7b232528a91417b987c5e2d2643cc3b",
      "eb71c27dfac94adf925f094263d91a36"
     ]
    },
    "colab_type": "code",
    "executionInfo": {
     "elapsed": 23438,
     "status": "ok",
     "timestamp": 1597281998682,
     "user": {
      "displayName": "Roseline",
      "photoUrl": "",
      "userId": "06567256556577965216"
     },
     "user_tz": -60
    },
    "id": "1lg5dAk6DOSO",
    "outputId": "4a6b1aaf-7c2d-4d70-8ab6-1a51999e8d7e"
   },
   "outputs": [
    {
     "name": "stdout",
     "output_type": "stream",
     "text": [
      "===============================\n",
      "======Run 0======\n",
      "===============================\n",
      "Seed :  4941\n"
     ]
    },
    {
     "data": {
      "image/png": "[encoded data removed]",
      "text/plain": [
       "<Figure size 432x288 with 2 Axes>"
      ]
     },
     "metadata": {
      "needs_background": "light"
     },
     "output_type": "display_data"
    },
    {
     "name": "stdout",
     "output_type": "stream",
     "text": [
      "    Ceiling\n",
      "    Accuracy 1: 0.99 5: 1.00 10: 1.00 Half: 1.00\n",
      "\n",
      "    Threshold accuracy : 0.89\n",
      "7 right over 10 tot\n"
     ]
    },
    {
     "data": {
      "application/vnd.jupyter.widget-view+json": {
       "model_id": "102e125a59f94d10b32119da5c2bdeb1",
       "version_major": 2,
       "version_minor": 0
      },
      "text/plain": [
       "HBox(children=(FloatProgress(value=0.0, max=110.0), HTML(value='')))"
      ]
     },
     "metadata": {},
     "output_type": "display_data"
    },
    {
     "name": "stdout",
     "output_type": "stream",
     "text": [
      "======Restart 0======\n",
      "    New model_f\n",
      "    New model_g\n",
      "0 = | f1: 0.03 | fhalf: 1.00 | g1: 0.04 | ghalf: 0.99 | total: 96.29 cycle: 57.84 | f_dist: 19.97 | g_dist: 18.47 \n",
      "29 = | f1: 0.98 | fhalf: 1.00 | g1: 0.98 | ghalf: 1.00 | total: 0.08 cycle: 0.04 | f_dist: 0.02 | g_dist: 0.02 \n",
      "    Beat best model_f.\n",
      "    Beat best model_g.\n",
      "1 restarts necessary\n",
      "======Restart 1======\n",
      "    New model_f\n",
      "    New model_g\n",
      "0 = | f1: 0.02 | fhalf: 0.90 | g1: 0.04 | ghalf: 1.00 | total: 105.85 cycle: 82.25 | f_dist: 13.42 | g_dist: 10.17 \n",
      "\n"
     ]
    },
    {
     "ename": "KeyboardInterrupt",
     "evalue": "",
     "output_type": "error",
     "traceback": [
      "\u001b[0;31m---------------------------------------------------------------------------\u001b[0m",
      "\u001b[0;31mKeyboardInterrupt\u001b[0m                         Traceback (most recent call last)",
      "\u001b[0;32m<ipython-input-13-48a182ebfbf5>\u001b[0m in \u001b[0;36m<module>\u001b[0;34m\u001b[0m\n\u001b[1;32m     62\u001b[0m         \u001b[0;31m#==Train\u001b[0m\u001b[0;34m\u001b[0m\u001b[0;34m\u001b[0m\u001b[0;34m\u001b[0m\u001b[0m\n\u001b[1;32m     63\u001b[0m         model_f,model_g,epochs_dict_list = train_models_one_restart(i_run,i_restart,sd_restart,\n\u001b[0;32m---> 64\u001b[0;31m                                                                     x,y,y_idx_map,model_f,model_g,max_epoch,n_batch,X_A,X_B)\n\u001b[0m\u001b[1;32m     65\u001b[0m         \u001b[0;31m#Get final losses and accuracies\u001b[0m\u001b[0;34m\u001b[0m\u001b[0;34m\u001b[0m\u001b[0;34m\u001b[0m\u001b[0m\n\u001b[1;32m     66\u001b[0m         \u001b[0mlast_epoch_dict\u001b[0m \u001b[0;34m=\u001b[0m \u001b[0mepochs_dict_list\u001b[0m\u001b[0;34m[\u001b[0m\u001b[0;34m-\u001b[0m\u001b[0;36m1\u001b[0m\u001b[0;34m]\u001b[0m\u001b[0;34m\u001b[0m\u001b[0;34m\u001b[0m\u001b[0m\n",
      "\u001b[0;32m<ipython-input-12-9dd69e959c78>\u001b[0m in \u001b[0;36mtrain_models_one_restart\u001b[0;34m(i_run, i_restart, sd_restart, x, y, y_idx_map, model_f, model_g, max_epoch, n_batch, x_0, x_1)\u001b[0m\n\u001b[1;32m      5\u001b[0m         \u001b[0;32mfor\u001b[0m \u001b[0mx_batch\u001b[0m\u001b[0;34m,\u001b[0m \u001b[0my_batch\u001b[0m \u001b[0;32min\u001b[0m \u001b[0mutils\u001b[0m\u001b[0;34m.\u001b[0m\u001b[0mget_batch\u001b[0m\u001b[0;34m(\u001b[0m\u001b[0mx\u001b[0m\u001b[0;34m,\u001b[0m \u001b[0my\u001b[0m\u001b[0;34m,\u001b[0m \u001b[0mbatch_size\u001b[0m\u001b[0;34m)\u001b[0m\u001b[0;34m:\u001b[0m\u001b[0;34m\u001b[0m\u001b[0;34m\u001b[0m\u001b[0m\n\u001b[1;32m      6\u001b[0m             \u001b[0;31m#cycle_loss = train.train_batch_step(model_f,model_g,optimizer,x_batch, y_batch, loss_cycle_scale)\u001b[0m\u001b[0;34m\u001b[0m\u001b[0;34m\u001b[0m\u001b[0;34m\u001b[0m\u001b[0m\n\u001b[0;32m----> 7\u001b[0;31m             \u001b[0mcycle_loss\u001b[0m \u001b[0;34m=\u001b[0m \u001b[0mtrain_batch_step\u001b[0m\u001b[0;34m(\u001b[0m\u001b[0mmodel_f\u001b[0m\u001b[0;34m,\u001b[0m\u001b[0mmodel_g\u001b[0m\u001b[0;34m,\u001b[0m\u001b[0moptimizer\u001b[0m\u001b[0;34m,\u001b[0m\u001b[0mx_batch\u001b[0m\u001b[0;34m,\u001b[0m \u001b[0my_batch\u001b[0m\u001b[0;34m,\u001b[0m \u001b[0mloss_cycle_scale\u001b[0m\u001b[0;34m)\u001b[0m\u001b[0;34m\u001b[0m\u001b[0;34m\u001b[0m\u001b[0m\n\u001b[0m\u001b[1;32m      8\u001b[0m         \u001b[0;31m#dist_loss_f, dist_loss_g, knn_loss = train.train_full_step(model_f,model_g,optimizer,x, y,loss_distr_scale,gmm_scale)\u001b[0m\u001b[0;34m\u001b[0m\u001b[0;34m\u001b[0m\u001b[0;34m\u001b[0m\u001b[0m\n\u001b[1;32m      9\u001b[0m         \u001b[0mdist_loss_f\u001b[0m\u001b[0;34m,\u001b[0m \u001b[0mdist_loss_g\u001b[0m\u001b[0;34m,\u001b[0m \u001b[0mknn_loss_f\u001b[0m \u001b[0;34m,\u001b[0m \u001b[0mknn_loss_g\u001b[0m \u001b[0;34m=\u001b[0m \u001b[0mtrain_full_step\u001b[0m\u001b[0;34m(\u001b[0m\u001b[0mmodel_f\u001b[0m\u001b[0;34m,\u001b[0m\u001b[0mmodel_g\u001b[0m\u001b[0;34m,\u001b[0m\u001b[0moptimizer\u001b[0m\u001b[0;34m,\u001b[0m\u001b[0mx\u001b[0m\u001b[0;34m,\u001b[0m \u001b[0my\u001b[0m\u001b[0;34m,\u001b[0m\u001b[0mloss_distr_scale\u001b[0m\u001b[0;34m,\u001b[0m\u001b[0mgmm_scale\u001b[0m\u001b[0;34m)\u001b[0m\u001b[0;34m\u001b[0m\u001b[0;34m\u001b[0m\u001b[0m\n",
      "\u001b[0;32m<ipython-input-9-b6f1027f9440>\u001b[0m in \u001b[0;36mtrain_batch_step\u001b[0;34m(model_f, model_g, optimizer, x_batch, y_batch, loss_cycle_scale)\u001b[0m\n\u001b[1;32m     19\u001b[0m             \u001b[0mcycle_loss\u001b[0m \u001b[0;34m=\u001b[0m \u001b[0mloss_cycle_scale\u001b[0m \u001b[0;34m*\u001b[0m \u001b[0mlosses\u001b[0m\u001b[0;34m.\u001b[0m\u001b[0mflex_cycle_loss\u001b[0m\u001b[0;34m(\u001b[0m\u001b[0;34m[\u001b[0m\u001b[0mx_batch\u001b[0m\u001b[0;34m,\u001b[0m\u001b[0my_batch\u001b[0m\u001b[0;34m]\u001b[0m\u001b[0;34m,\u001b[0m\u001b[0;34m[\u001b[0m\u001b[0mx_c\u001b[0m\u001b[0;34m,\u001b[0m\u001b[0my_c\u001b[0m\u001b[0;34m]\u001b[0m\u001b[0;34m,\u001b[0m \u001b[0mnorm_type\u001b[0m \u001b[0;34m=\u001b[0m \u001b[0;34m'l2'\u001b[0m\u001b[0;34m)\u001b[0m\u001b[0;34m\u001b[0m\u001b[0;34m\u001b[0m\u001b[0m\n\u001b[1;32m     20\u001b[0m         \u001b[0mgradients_cycle_f\u001b[0m \u001b[0;34m=\u001b[0m \u001b[0mtape_cycle\u001b[0m\u001b[0;34m.\u001b[0m\u001b[0mgradient\u001b[0m\u001b[0;34m(\u001b[0m\u001b[0mcycle_loss\u001b[0m\u001b[0;34m,\u001b[0m \u001b[0mmodel_f\u001b[0m\u001b[0;34m.\u001b[0m\u001b[0mtrainable_variables\u001b[0m\u001b[0;34m)\u001b[0m\u001b[0;34m\u001b[0m\u001b[0;34m\u001b[0m\u001b[0m\n\u001b[0;32m---> 21\u001b[0;31m         \u001b[0mgradients_cycle_g\u001b[0m \u001b[0;34m=\u001b[0m \u001b[0mtape_cycle\u001b[0m\u001b[0;34m.\u001b[0m\u001b[0mgradient\u001b[0m\u001b[0;34m(\u001b[0m\u001b[0mcycle_loss\u001b[0m\u001b[0;34m,\u001b[0m \u001b[0mmodel_g\u001b[0m\u001b[0;34m.\u001b[0m\u001b[0mtrainable_variables\u001b[0m\u001b[0;34m)\u001b[0m\u001b[0;34m\u001b[0m\u001b[0;34m\u001b[0m\u001b[0m\n\u001b[0m\u001b[1;32m     22\u001b[0m         \u001b[0;32mdel\u001b[0m \u001b[0mtape_cycle\u001b[0m\u001b[0;34m\u001b[0m\u001b[0;34m\u001b[0m\u001b[0m\n\u001b[1;32m     23\u001b[0m         \u001b[0moptimizer\u001b[0m\u001b[0;34m.\u001b[0m\u001b[0mapply_gradients\u001b[0m\u001b[0;34m(\u001b[0m\u001b[0mzip\u001b[0m\u001b[0;34m(\u001b[0m\u001b[0mgradients_cycle_f\u001b[0m\u001b[0;34m,\u001b[0m \u001b[0mmodel_f\u001b[0m\u001b[0;34m.\u001b[0m\u001b[0mtrainable_variables\u001b[0m\u001b[0;34m)\u001b[0m\u001b[0;34m)\u001b[0m\u001b[0;34m\u001b[0m\u001b[0;34m\u001b[0m\u001b[0m\n",
      "\u001b[0;32m/opt/anaconda3/lib/python3.7/site-packages/tensorflow_core/python/eager/backprop.py\u001b[0m in \u001b[0;36mgradient\u001b[0;34m(self, target, sources, output_gradients, unconnected_gradients)\u001b[0m\n\u001b[1;32m   1027\u001b[0m         \u001b[0moutput_gradients\u001b[0m\u001b[0;34m=\u001b[0m\u001b[0moutput_gradients\u001b[0m\u001b[0;34m,\u001b[0m\u001b[0;34m\u001b[0m\u001b[0;34m\u001b[0m\u001b[0m\n\u001b[1;32m   1028\u001b[0m         \u001b[0msources_raw\u001b[0m\u001b[0;34m=\u001b[0m\u001b[0mflat_sources_raw\u001b[0m\u001b[0;34m,\u001b[0m\u001b[0;34m\u001b[0m\u001b[0;34m\u001b[0m\u001b[0m\n\u001b[0;32m-> 1029\u001b[0;31m         unconnected_gradients=unconnected_gradients)\n\u001b[0m\u001b[1;32m   1030\u001b[0m \u001b[0;34m\u001b[0m\u001b[0m\n\u001b[1;32m   1031\u001b[0m     \u001b[0;32mif\u001b[0m \u001b[0;32mnot\u001b[0m \u001b[0mself\u001b[0m\u001b[0;34m.\u001b[0m\u001b[0m_persistent\u001b[0m\u001b[0;34m:\u001b[0m\u001b[0;34m\u001b[0m\u001b[0;34m\u001b[0m\u001b[0m\n",
      "\u001b[0;32m/opt/anaconda3/lib/python3.7/site-packages/tensorflow_core/python/eager/imperative_grad.py\u001b[0m in \u001b[0;36mimperative_grad\u001b[0;34m(tape, target, sources, output_gradients, sources_raw, unconnected_gradients)\u001b[0m\n\u001b[1;32m     75\u001b[0m       \u001b[0moutput_gradients\u001b[0m\u001b[0;34m,\u001b[0m\u001b[0;34m\u001b[0m\u001b[0;34m\u001b[0m\u001b[0m\n\u001b[1;32m     76\u001b[0m       \u001b[0msources_raw\u001b[0m\u001b[0;34m,\u001b[0m\u001b[0;34m\u001b[0m\u001b[0;34m\u001b[0m\u001b[0m\n\u001b[0;32m---> 77\u001b[0;31m       compat.as_str(unconnected_gradients.value))\n\u001b[0m",
      "\u001b[0;32m/opt/anaconda3/lib/python3.7/site-packages/tensorflow_core/python/eager/backprop.py\u001b[0m in \u001b[0;36m_gradient_function\u001b[0;34m(op_name, attr_tuple, num_inputs, inputs, outputs, out_grads, skip_input_indices)\u001b[0m\n\u001b[1;32m    139\u001b[0m     \u001b[0;32mreturn\u001b[0m \u001b[0;34m[\u001b[0m\u001b[0;32mNone\u001b[0m\u001b[0;34m]\u001b[0m \u001b[0;34m*\u001b[0m \u001b[0mnum_inputs\u001b[0m\u001b[0;34m\u001b[0m\u001b[0;34m\u001b[0m\u001b[0m\n\u001b[1;32m    140\u001b[0m \u001b[0;34m\u001b[0m\u001b[0m\n\u001b[0;32m--> 141\u001b[0;31m   \u001b[0;32mreturn\u001b[0m \u001b[0mgrad_fn\u001b[0m\u001b[0;34m(\u001b[0m\u001b[0mmock_op\u001b[0m\u001b[0;34m,\u001b[0m \u001b[0;34m*\u001b[0m\u001b[0mout_grads\u001b[0m\u001b[0;34m)\u001b[0m\u001b[0;34m\u001b[0m\u001b[0;34m\u001b[0m\u001b[0m\n\u001b[0m\u001b[1;32m    142\u001b[0m \u001b[0;34m\u001b[0m\u001b[0m\n\u001b[1;32m    143\u001b[0m \u001b[0;34m\u001b[0m\u001b[0m\n",
      "\u001b[0;32m/opt/anaconda3/lib/python3.7/site-packages/tensorflow_core/python/ops/math_grad.py\u001b[0m in \u001b[0;36m_MatMulGrad\u001b[0;34m(op, grad)\u001b[0m\n\u001b[1;32m   1629\u001b[0m   \u001b[0;32mif\u001b[0m \u001b[0;32mnot\u001b[0m \u001b[0mt_a\u001b[0m \u001b[0;32mand\u001b[0m \u001b[0;32mnot\u001b[0m \u001b[0mt_b\u001b[0m\u001b[0;34m:\u001b[0m\u001b[0;34m\u001b[0m\u001b[0;34m\u001b[0m\u001b[0m\n\u001b[1;32m   1630\u001b[0m     \u001b[0mgrad_a\u001b[0m \u001b[0;34m=\u001b[0m \u001b[0mgen_math_ops\u001b[0m\u001b[0;34m.\u001b[0m\u001b[0mmat_mul\u001b[0m\u001b[0;34m(\u001b[0m\u001b[0mgrad\u001b[0m\u001b[0;34m,\u001b[0m \u001b[0mb\u001b[0m\u001b[0;34m,\u001b[0m \u001b[0mtranspose_b\u001b[0m\u001b[0;34m=\u001b[0m\u001b[0;32mTrue\u001b[0m\u001b[0;34m)\u001b[0m\u001b[0;34m\u001b[0m\u001b[0;34m\u001b[0m\u001b[0m\n\u001b[0;32m-> 1631\u001b[0;31m     \u001b[0mgrad_b\u001b[0m \u001b[0;34m=\u001b[0m \u001b[0mgen_math_ops\u001b[0m\u001b[0;34m.\u001b[0m\u001b[0mmat_mul\u001b[0m\u001b[0;34m(\u001b[0m\u001b[0ma\u001b[0m\u001b[0;34m,\u001b[0m \u001b[0mgrad\u001b[0m\u001b[0;34m,\u001b[0m \u001b[0mtranspose_a\u001b[0m\u001b[0;34m=\u001b[0m\u001b[0;32mTrue\u001b[0m\u001b[0;34m)\u001b[0m\u001b[0;34m\u001b[0m\u001b[0;34m\u001b[0m\u001b[0m\n\u001b[0m\u001b[1;32m   1632\u001b[0m   \u001b[0;32melif\u001b[0m \u001b[0;32mnot\u001b[0m \u001b[0mt_a\u001b[0m \u001b[0;32mand\u001b[0m \u001b[0mt_b\u001b[0m\u001b[0;34m:\u001b[0m\u001b[0;34m\u001b[0m\u001b[0;34m\u001b[0m\u001b[0m\n\u001b[1;32m   1633\u001b[0m     \u001b[0mgrad_a\u001b[0m \u001b[0;34m=\u001b[0m \u001b[0mgen_math_ops\u001b[0m\u001b[0;34m.\u001b[0m\u001b[0mmat_mul\u001b[0m\u001b[0;34m(\u001b[0m\u001b[0mgrad\u001b[0m\u001b[0;34m,\u001b[0m \u001b[0mb\u001b[0m\u001b[0;34m)\u001b[0m\u001b[0;34m\u001b[0m\u001b[0;34m\u001b[0m\u001b[0m\n",
      "\u001b[0;32m/opt/anaconda3/lib/python3.7/site-packages/tensorflow_core/python/ops/gen_math_ops.py\u001b[0m in \u001b[0;36mmat_mul\u001b[0;34m(a, b, transpose_a, transpose_b, name)\u001b[0m\n\u001b[1;32m   5604\u001b[0m         \u001b[0m_ctx\u001b[0m\u001b[0;34m.\u001b[0m\u001b[0m_context_handle\u001b[0m\u001b[0;34m,\u001b[0m \u001b[0mtld\u001b[0m\u001b[0;34m.\u001b[0m\u001b[0mdevice_name\u001b[0m\u001b[0;34m,\u001b[0m \u001b[0;34m\"MatMul\"\u001b[0m\u001b[0;34m,\u001b[0m \u001b[0mname\u001b[0m\u001b[0;34m,\u001b[0m\u001b[0;34m\u001b[0m\u001b[0;34m\u001b[0m\u001b[0m\n\u001b[1;32m   5605\u001b[0m         \u001b[0mtld\u001b[0m\u001b[0;34m.\u001b[0m\u001b[0mop_callbacks\u001b[0m\u001b[0;34m,\u001b[0m \u001b[0ma\u001b[0m\u001b[0;34m,\u001b[0m \u001b[0mb\u001b[0m\u001b[0;34m,\u001b[0m \u001b[0;34m\"transpose_a\"\u001b[0m\u001b[0;34m,\u001b[0m \u001b[0mtranspose_a\u001b[0m\u001b[0;34m,\u001b[0m \u001b[0;34m\"transpose_b\"\u001b[0m\u001b[0;34m,\u001b[0m\u001b[0;34m\u001b[0m\u001b[0;34m\u001b[0m\u001b[0m\n\u001b[0;32m-> 5606\u001b[0;31m         transpose_b)\n\u001b[0m\u001b[1;32m   5607\u001b[0m       \u001b[0;32mreturn\u001b[0m \u001b[0m_result\u001b[0m\u001b[0;34m\u001b[0m\u001b[0;34m\u001b[0m\u001b[0m\n\u001b[1;32m   5608\u001b[0m     \u001b[0;32mexcept\u001b[0m \u001b[0m_core\u001b[0m\u001b[0;34m.\u001b[0m\u001b[0m_FallbackException\u001b[0m\u001b[0;34m:\u001b[0m\u001b[0;34m\u001b[0m\u001b[0;34m\u001b[0m\u001b[0m\n",
      "\u001b[0;31mKeyboardInterrupt\u001b[0m: "
     ]
    }
   ],
   "source": [
    "all_res = []\n",
    "summary_res = []\n",
    "for i_run in range(n_runs):\n",
    "    print('===============================')\n",
    "    print('======Run {0}======'.format(i_run))\n",
    "    print('===============================')\n",
    "    sd_run = utils.set_seed_np_tf(sd_run_list[i_run])\n",
    "    print(\"Seed : \", sd_run)\n",
    "    sd_restart_list = list(np.random.choice(10000, max_restart, replace=False))\n",
    "    run_folder = fp_save_models+'/run'+str(i_run)\n",
    "    utils.create_folder(run_folder+ '/final') #Same as last restart\n",
    "    #==Get data \n",
    "    A,B,X_A,X_B,B_shuff,B_idx_map = emb.get_data(n_systems,n_concepts,emb_dim,noise,n_epicentres,linearsep,sd_run,bplot=True)\n",
    "    ceil_acc_1, ceil_acc_5, ceil_acc_10, ceil_acc_half = utils.mapping_accuracy(X_A, X_B)\n",
    "    print(template_ceil.format(ceil_acc_1, ceil_acc_5, ceil_acc_10, ceil_acc_half))\n",
    "    thresh_acc = ceil_acc_1 * 0.9\n",
    "    print(\"    Threshold accuracy : %.2f\" %thresh_acc )\n",
    "    x, y , y_idx_map = A , B_shuff , B_idx_map\n",
    "#     x = tf.convert_to_tensor(x, dtype = np.float32()) #Does not work on local CPU\n",
    "#     y = tf.convert_to_tensor(y, dtype = np.float32()) #Does not work on local CPU\n",
    "    #==PRETRAIN - Get data\n",
    "    D_xy = knn.get_DXY_angles(x,y,k=k,bplot = False)\n",
    "    x_pretrain, y_pretrain, matches = knn.get_corres_data(x,y,D_xy,Ncorr)\n",
    "    matches_acc , matches_mat = knn.check_corresp(matches,y_idx_map)\n",
    "    #Save data\n",
    "    with open(str(run_folder)+'/x.pickle', 'wb') as handle:\n",
    "        pickle.dump(x, handle, protocol=pickle.HIGHEST_PROTOCOL)\n",
    "    with open(str(run_folder)+'/y.pickle', 'wb') as handle:\n",
    "        pickle.dump(y, handle, protocol=pickle.HIGHEST_PROTOCOL)\n",
    "    #print(x.shape,y.shape)\n",
    "    #==Loop through restarts\n",
    "    #=init best\n",
    "    loss_best = np.inf\n",
    "    best_model_f = models.MLP(emb_dim, emb_dim)\n",
    "    best_model_g = models.MLP(emb_dim, emb_dim)\n",
    "    dist_loss_g_best = np.inf\n",
    "    dist_loss_f_best = np.inf\n",
    "    #=Loop\n",
    "    last_restarts = []\n",
    "    restarts_dict_list = []\n",
    "    acc_f1, acc_g1 = 0,0\n",
    "    last_restart = -1\n",
    "    for i_restart in tqdm(range(max_restart)):\n",
    "        sd_restart = utils.set_seed_np_tf(sd_restart_list[i_restart])\n",
    "        print('======Restart {0}======'.format(i_restart))\n",
    "        #==init models\n",
    "        thresh = 0 #if 0, always a new model except if use_best_model=True. \n",
    "        force_best_model = (i_restart>=max_restart-10) #if True, use best mode, else, random depends on thresh\n",
    "        model_f,new_f = models.init_model(force_best_model,thresh,i_restart,sd_restart,emb_dim,best_model_f)\n",
    "        model_g,new_g = models.init_model(force_best_model,thresh,i_restart,sd_restart,emb_dim,best_model_g)\n",
    "        if new_f : print('    New model_f')\n",
    "        if new_g : print('    New model_g')\n",
    "        #==Pretrain\n",
    "        for i_epoch in range(max_epoch):\n",
    "          corr_loss_f, corr_loss_g = pretrain(model_f,model_g,optimizer,x_pretrain, y_pretrain)\n",
    "        # f_x = model_f(x).numpy()\n",
    "        # g_y = model_g(y).numpy()\n",
    "        # acc_f1, acc_f5, acc_f10, acc_fhalf = utils.mapping_accuracy(f_x, y.numpy()[y_idx_map])\n",
    "        # print(\"After pretraining...\")\n",
    "        # print(template_acc.format(-1,acc_f1,acc_f5,acc_f10,acc_fhalf))\n",
    "        # utils.plot_systems_results(x,y,f_x,g_y,X_A,X_B)\n",
    "        #==Train\n",
    "        model_f,model_g,epochs_dict_list = train_models_one_restart(i_run,i_restart,sd_restart,\n",
    "                                                                    x,y,y_idx_map,model_f,model_g,max_epoch,n_batch,X_A,X_B)\n",
    "        #Get final losses and accuracies\n",
    "        last_epoch_dict = epochs_dict_list[-1]\n",
    "        loss_total, cycle_loss, dist_loss_f, dist_loss_g = utils.get_losses_from_dict(last_epoch_dict)\n",
    "        acc_f1, acc_f5, acc_f10, acc_fhalf,acc_g1, acc_g5, acc_g10, acc_ghalf = utils.get_acc_from_dict(last_epoch_dict)\n",
    "        #Save best model\n",
    "        best_f,best_g = False,False\n",
    "        if dist_loss_f < dist_loss_f_best:\n",
    "                dist_loss_f_best = dist_loss_f\n",
    "                best_model_f = model_f\n",
    "                best_f = True\n",
    "                print('    Beat best model_f.')\n",
    "        if dist_loss_g < dist_loss_g_best:\n",
    "            dist_loss_g_best = dist_loss_g\n",
    "            best_model_g = model_g\n",
    "            best_g = True\n",
    "            print('    Beat best model_g.')  \n",
    "        #Add and Store data\n",
    "        for i in range(len(epochs_dict_list)):\n",
    "            epochs_dict_list[i]['new_f']=new_f\n",
    "            epochs_dict_list[i]['new_g']=new_g\n",
    "            epochs_dict_list[i]['best_f']=best_f\n",
    "            epochs_dict_list[i]['best_g']=best_g\n",
    "        restarts_dict_list.append(epochs_dict_list)\n",
    "        #====Save restart model\n",
    "        restart_folder = run_folder + '/restart' + str(i_restart)\n",
    "        utils.create_folder(restart_folder)\n",
    "        utils.save_models(model_f,model_g,restart_folder)\n",
    "        #====Breaking loop\n",
    "        if (acc_f1>thresh_acc and acc_g1>thresh_acc) and last_restart==-1: #last_restart = -1 if this does not happen\n",
    "            last_restart = i_restart\n",
    "            print(\"%d restarts necessary\" %(i_restart+1))\n",
    "            #break\n",
    "    if last_restart==-1: \n",
    "      last_restart = max_restart\n",
    "    all_dict_entries = utils.flatten_list_of_list(restarts_dict_list) \n",
    "    all_res.append(all_dict_entries)\n",
    "    #STORE FINAL RESULTS\n",
    "    summary_dict = {'experiment_name':experiment_name,'experiment_id':experiment_id,'sd_run':sd_run,'last_restart': last_restart,'loss_total':loss_total,'cycle_loss':cycle_loss,\n",
    "                    'dist_loss_f':dist_loss_f,'dist_loss_g':dist_loss_g,\n",
    "                    'acc_f1':acc_f1, 'acc_f5':acc_f5, 'acc_f10':acc_f10, 'acc_fhalf':acc_fhalf,\n",
    "                    'acc_g1':acc_g1, 'acc_g5':acc_g5, 'acc_g10':acc_g10, 'acc_ghalf':acc_ghalf,\n",
    "                    'ceil_acc_1':ceil_acc_1, 'ceil_acc_5':ceil_acc_5, 'ceil_acc_10':ceil_acc_10, 'ceil_acc_half':ceil_acc_half,\n",
    "                    'matches_acc':matches_acc,'matches_mat':matches_mat}\n",
    "    summary_res.append(summary_dict)\n",
    "    print(print('======Run Summary======'))\n",
    "    print(display(pd.DataFrame([summary_dict])))\n",
    "    #=====SAVE RUN MODEL====\n",
    "    utils.save_models(model_f,model_g,run_folder+ '/final')\n",
    "print('=========================')\n",
    "print('=======FINAL SUMMARY=====')\n",
    "print('=========================')\n",
    "df_summary = pd.DataFrame(summary_res)\n",
    "display(df_summary)\n",
    "#Save results\n",
    "with open(str(fp_save_runs)+'/all_res.pickle', 'wb') as handle:\n",
    "    pickle.dump(all_res, handle, protocol=pickle.HIGHEST_PROTOCOL)\n",
    "with open(str(fp_save_runs)+'/summary_res.pickle', 'wb') as handle:\n",
    "    pickle.dump(summary_res, handle, protocol=pickle.HIGHEST_PROTOCOL)"
   ]
  },
  {
   "cell_type": "code",
   "execution_count": null,
   "metadata": {
    "colab": {},
    "colab_type": "code",
    "id": "J3E_JBiNLYU5"
   },
   "outputs": [],
   "source": []
  }
 ],
 "metadata": {
  "accelerator": "GPU",
  "colab": {
   "collapsed_sections": [],
   "name": "Synthetic_same_dim_pretrain_angles_k.ipynb",
   "provenance": []
  },
  "kernelspec": {
   "display_name": "Python 3",
   "language": "python",
   "name": "python3"
  },
  "language_info": {
   "codemirror_mode": {
    "name": "ipython",
    "version": 3
   },
   "file_extension": ".py",
   "mimetype": "text/x-python",
   "name": "python",
   "nbconvert_exporter": "python",
   "pygments_lexer": "ipython3",
   "version": "3.7.4"
  },
  "widgets": {
   "application/vnd.jupyter.widget-state+json": {
    "0618eb6dc09845d8812215d235c8afc5": {
     "model_module": "@jupyter-widgets/base",
     "model_name": "LayoutModel",
     "state": {
      "_model_module": "@jupyter-widgets/base",
      "_model_module_version": "1.2.0",
      "_model_name": "LayoutModel",
      "_view_count": null,
      "_view_module": "@jupyter-widgets/base",
      "_view_module_version": "1.2.0",
      "_view_name": "LayoutView",
      "align_content": null,
      "align_items": null,
      "align_self": null,
      "border": null,
      "bottom": null,
      "display": null,
      "flex": null,
      "flex_flow": null,
      "grid_area": null,
      "grid_auto_columns": null,
      "grid_auto_flow": null,
      "grid_auto_rows": null,
      "grid_column": null,
      "grid_gap": null,
      "grid_row": null,
      "grid_template_areas": null,
      "grid_template_columns": null,
      "grid_template_rows": null,
      "height": null,
      "justify_content": null,
      "justify_items": null,
      "left": null,
      "margin": null,
      "max_height": null,
      "max_width": null,
      "min_height": null,
      "min_width": null,
      "object_fit": null,
      "object_position": null,
      "order": null,
      "overflow": null,
      "overflow_x": null,
      "overflow_y": null,
      "padding": null,
      "right": null,
      "top": null,
      "visibility": null,
      "width": null
     }
    },
    "120121686b7f44d88477c0d7031d1f4a": {
     "model_module": "@jupyter-widgets/base",
     "model_name": "LayoutModel",
     "state": {
      "_model_module": "@jupyter-widgets/base",
      "_model_module_version": "1.2.0",
      "_model_name": "LayoutModel",
      "_view_count": null,
      "_view_module": "@jupyter-widgets/base",
      "_view_module_version": "1.2.0",
      "_view_name": "LayoutView",
      "align_content": null,
      "align_items": null,
      "align_self": null,
      "border": null,
      "bottom": null,
      "display": null,
      "flex": null,
      "flex_flow": null,
      "grid_area": null,
      "grid_auto_columns": null,
      "grid_auto_flow": null,
      "grid_auto_rows": null,
      "grid_column": null,
      "grid_gap": null,
      "grid_row": null,
      "grid_template_areas": null,
      "grid_template_columns": null,
      "grid_template_rows": null,
      "height": null,
      "justify_content": null,
      "justify_items": null,
      "left": null,
      "margin": null,
      "max_height": null,
      "max_width": null,
      "min_height": null,
      "min_width": null,
      "object_fit": null,
      "object_position": null,
      "order": null,
      "overflow": null,
      "overflow_x": null,
      "overflow_y": null,
      "padding": null,
      "right": null,
      "top": null,
      "visibility": null,
      "width": null
     }
    },
    "1523b525a1294894856adb08d4329d2e": {
     "model_module": "@jupyter-widgets/base",
     "model_name": "LayoutModel",
     "state": {
      "_model_module": "@jupyter-widgets/base",
      "_model_module_version": "1.2.0",
      "_model_name": "LayoutModel",
      "_view_count": null,
      "_view_module": "@jupyter-widgets/base",
      "_view_module_version": "1.2.0",
      "_view_name": "LayoutView",
      "align_content": null,
      "align_items": null,
      "align_self": null,
      "border": null,
      "bottom": null,
      "display": null,
      "flex": null,
      "flex_flow": null,
      "grid_area": null,
      "grid_auto_columns": null,
      "grid_auto_flow": null,
      "grid_auto_rows": null,
      "grid_column": null,
      "grid_gap": null,
      "grid_row": null,
      "grid_template_areas": null,
      "grid_template_columns": null,
      "grid_template_rows": null,
      "height": null,
      "justify_content": null,
      "justify_items": null,
      "left": null,
      "margin": null,
      "max_height": null,
      "max_width": null,
      "min_height": null,
      "min_width": null,
      "object_fit": null,
      "object_position": null,
      "order": null,
      "overflow": null,
      "overflow_x": null,
      "overflow_y": null,
      "padding": null,
      "right": null,
      "top": null,
      "visibility": null,
      "width": null
     }
    },
    "1e9d60dd849a42e4a6ee39bbc46689a5": {
     "model_module": "@jupyter-widgets/base",
     "model_name": "LayoutModel",
     "state": {
      "_model_module": "@jupyter-widgets/base",
      "_model_module_version": "1.2.0",
      "_model_name": "LayoutModel",
      "_view_count": null,
      "_view_module": "@jupyter-widgets/base",
      "_view_module_version": "1.2.0",
      "_view_name": "LayoutView",
      "align_content": null,
      "align_items": null,
      "align_self": null,
      "border": null,
      "bottom": null,
      "display": null,
      "flex": null,
      "flex_flow": null,
      "grid_area": null,
      "grid_auto_columns": null,
      "grid_auto_flow": null,
      "grid_auto_rows": null,
      "grid_column": null,
      "grid_gap": null,
      "grid_row": null,
      "grid_template_areas": null,
      "grid_template_columns": null,
      "grid_template_rows": null,
      "height": null,
      "justify_content": null,
      "justify_items": null,
      "left": null,
      "margin": null,
      "max_height": null,
      "max_width": null,
      "min_height": null,
      "min_width": null,
      "object_fit": null,
      "object_position": null,
      "order": null,
      "overflow": null,
      "overflow_x": null,
      "overflow_y": null,
      "padding": null,
      "right": null,
      "top": null,
      "visibility": null,
      "width": null
     }
    },
    "275c2f3ad221441f882e7a2cb8be5ca2": {
     "model_module": "@jupyter-widgets/controls",
     "model_name": "ProgressStyleModel",
     "state": {
      "_model_module": "@jupyter-widgets/controls",
      "_model_module_version": "1.5.0",
      "_model_name": "ProgressStyleModel",
      "_view_count": null,
      "_view_module": "@jupyter-widgets/base",
      "_view_module_version": "1.2.0",
      "_view_name": "StyleView",
      "bar_color": null,
      "description_width": "initial"
     }
    },
    "288f14f964664c2ab96ee4ab78227b65": {
     "model_module": "@jupyter-widgets/base",
     "model_name": "LayoutModel",
     "state": {
      "_model_module": "@jupyter-widgets/base",
      "_model_module_version": "1.2.0",
      "_model_name": "LayoutModel",
      "_view_count": null,
      "_view_module": "@jupyter-widgets/base",
      "_view_module_version": "1.2.0",
      "_view_name": "LayoutView",
      "align_content": null,
      "align_items": null,
      "align_self": null,
      "border": null,
      "bottom": null,
      "display": null,
      "flex": null,
      "flex_flow": null,
      "grid_area": null,
      "grid_auto_columns": null,
      "grid_auto_flow": null,
      "grid_auto_rows": null,
      "grid_column": null,
      "grid_gap": null,
      "grid_row": null,
      "grid_template_areas": null,
      "grid_template_columns": null,
      "grid_template_rows": null,
      "height": null,
      "justify_content": null,
      "justify_items": null,
      "left": null,
      "margin": null,
      "max_height": null,
      "max_width": null,
      "min_height": null,
      "min_width": null,
      "object_fit": null,
      "object_position": null,
      "order": null,
      "overflow": null,
      "overflow_x": null,
      "overflow_y": null,
      "padding": null,
      "right": null,
      "top": null,
      "visibility": null,
      "width": null
     }
    },
    "2d2cf5cf9a3940ccaef5b873ab5ddc31": {
     "model_module": "@jupyter-widgets/controls",
     "model_name": "DescriptionStyleModel",
     "state": {
      "_model_module": "@jupyter-widgets/controls",
      "_model_module_version": "1.5.0",
      "_model_name": "DescriptionStyleModel",
      "_view_count": null,
      "_view_module": "@jupyter-widgets/base",
      "_view_module_version": "1.2.0",
      "_view_name": "StyleView",
      "description_width": ""
     }
    },
    "3615dd15c0c843a7b5153b706d77b9af": {
     "model_module": "@jupyter-widgets/controls",
     "model_name": "HBoxModel",
     "state": {
      "_dom_classes": [],
      "_model_module": "@jupyter-widgets/controls",
      "_model_module_version": "1.5.0",
      "_model_name": "HBoxModel",
      "_view_count": null,
      "_view_module": "@jupyter-widgets/controls",
      "_view_module_version": "1.5.0",
      "_view_name": "HBoxView",
      "box_style": "",
      "children": [
       "IPY_MODEL_716511fb2f12489ab8b3910201e9ab0f",
       "IPY_MODEL_afc5bec7adea4f1397feb2ae8c6774d4"
      ],
      "layout": "IPY_MODEL_120121686b7f44d88477c0d7031d1f4a"
     }
    },
    "4101e2541d0f446a9be811d7e1989098": {
     "model_module": "@jupyter-widgets/controls",
     "model_name": "HBoxModel",
     "state": {
      "_dom_classes": [],
      "_model_module": "@jupyter-widgets/controls",
      "_model_module_version": "1.5.0",
      "_model_name": "HBoxModel",
      "_view_count": null,
      "_view_module": "@jupyter-widgets/controls",
      "_view_module_version": "1.5.0",
      "_view_name": "HBoxView",
      "box_style": "",
      "children": [
       "IPY_MODEL_48f0a531538745c3b1ce2d8b2ca1e84e",
       "IPY_MODEL_f5bc67aa923d4dc794f94047e5ff9e3c"
      ],
      "layout": "IPY_MODEL_1e9d60dd849a42e4a6ee39bbc46689a5"
     }
    },
    "48f0a531538745c3b1ce2d8b2ca1e84e": {
     "model_module": "@jupyter-widgets/controls",
     "model_name": "FloatProgressModel",
     "state": {
      "_dom_classes": [],
      "_model_module": "@jupyter-widgets/controls",
      "_model_module_version": "1.5.0",
      "_model_name": "FloatProgressModel",
      "_view_count": null,
      "_view_module": "@jupyter-widgets/controls",
      "_view_module_version": "1.5.0",
      "_view_name": "ProgressView",
      "bar_style": "success",
      "description": "100%",
      "description_tooltip": null,
      "layout": "IPY_MODEL_bfb9fbc9e7554a6fa61adaa7451f1372",
      "max": 2,
      "min": 0,
      "orientation": "horizontal",
      "style": "IPY_MODEL_824de0282b344a80bba6bccd6e826072",
      "value": 2
     }
    },
    "4efc9237d3c04aefa84940f141b67d79": {
     "model_module": "@jupyter-widgets/controls",
     "model_name": "DescriptionStyleModel",
     "state": {
      "_model_module": "@jupyter-widgets/controls",
      "_model_module_version": "1.5.0",
      "_model_name": "DescriptionStyleModel",
      "_view_count": null,
      "_view_module": "@jupyter-widgets/base",
      "_view_module_version": "1.2.0",
      "_view_name": "StyleView",
      "description_width": ""
     }
    },
    "716511fb2f12489ab8b3910201e9ab0f": {
     "model_module": "@jupyter-widgets/controls",
     "model_name": "FloatProgressModel",
     "state": {
      "_dom_classes": [],
      "_model_module": "@jupyter-widgets/controls",
      "_model_module_version": "1.5.0",
      "_model_name": "FloatProgressModel",
      "_view_count": null,
      "_view_module": "@jupyter-widgets/controls",
      "_view_module_version": "1.5.0",
      "_view_name": "ProgressView",
      "bar_style": "success",
      "description": "100%",
      "description_tooltip": null,
      "layout": "IPY_MODEL_0618eb6dc09845d8812215d235c8afc5",
      "max": 2,
      "min": 0,
      "orientation": "horizontal",
      "style": "IPY_MODEL_275c2f3ad221441f882e7a2cb8be5ca2",
      "value": 2
     }
    },
    "79175ece246949fcaf0cf2b08aa76a78": {
     "model_module": "@jupyter-widgets/controls",
     "model_name": "HTMLModel",
     "state": {
      "_dom_classes": [],
      "_model_module": "@jupyter-widgets/controls",
      "_model_module_version": "1.5.0",
      "_model_name": "HTMLModel",
      "_view_count": null,
      "_view_module": "@jupyter-widgets/controls",
      "_view_module_version": "1.5.0",
      "_view_name": "HTMLView",
      "description": "",
      "description_tooltip": null,
      "layout": "IPY_MODEL_288f14f964664c2ab96ee4ab78227b65",
      "placeholder": "​",
      "style": "IPY_MODEL_4efc9237d3c04aefa84940f141b67d79",
      "value": " 2/2 [00:06&lt;00:00,  3.24s/it]"
     }
    },
    "8169d008e4334494958ac60ed6c5879f": {
     "model_module": "@jupyter-widgets/base",
     "model_name": "LayoutModel",
     "state": {
      "_model_module": "@jupyter-widgets/base",
      "_model_module_version": "1.2.0",
      "_model_name": "LayoutModel",
      "_view_count": null,
      "_view_module": "@jupyter-widgets/base",
      "_view_module_version": "1.2.0",
      "_view_name": "LayoutView",
      "align_content": null,
      "align_items": null,
      "align_self": null,
      "border": null,
      "bottom": null,
      "display": null,
      "flex": null,
      "flex_flow": null,
      "grid_area": null,
      "grid_auto_columns": null,
      "grid_auto_flow": null,
      "grid_auto_rows": null,
      "grid_column": null,
      "grid_gap": null,
      "grid_row": null,
      "grid_template_areas": null,
      "grid_template_columns": null,
      "grid_template_rows": null,
      "height": null,
      "justify_content": null,
      "justify_items": null,
      "left": null,
      "margin": null,
      "max_height": null,
      "max_width": null,
      "min_height": null,
      "min_width": null,
      "object_fit": null,
      "object_position": null,
      "order": null,
      "overflow": null,
      "overflow_x": null,
      "overflow_y": null,
      "padding": null,
      "right": null,
      "top": null,
      "visibility": null,
      "width": null
     }
    },
    "824de0282b344a80bba6bccd6e826072": {
     "model_module": "@jupyter-widgets/controls",
     "model_name": "ProgressStyleModel",
     "state": {
      "_model_module": "@jupyter-widgets/controls",
      "_model_module_version": "1.5.0",
      "_model_name": "ProgressStyleModel",
      "_view_count": null,
      "_view_module": "@jupyter-widgets/base",
      "_view_module_version": "1.2.0",
      "_view_name": "StyleView",
      "bar_color": null,
      "description_width": "initial"
     }
    },
    "8d5e8f68b6194e358527cfd8c73fcf66": {
     "model_module": "@jupyter-widgets/controls",
     "model_name": "HBoxModel",
     "state": {
      "_dom_classes": [],
      "_model_module": "@jupyter-widgets/controls",
      "_model_module_version": "1.5.0",
      "_model_name": "HBoxModel",
      "_view_count": null,
      "_view_module": "@jupyter-widgets/controls",
      "_view_module_version": "1.5.0",
      "_view_name": "HBoxView",
      "box_style": "",
      "children": [
       "IPY_MODEL_aa6d9ba18eca4661bc1a39d87dcfe137",
       "IPY_MODEL_79175ece246949fcaf0cf2b08aa76a78"
      ],
      "layout": "IPY_MODEL_d9c03cf66d774390b80b6567f0cf38cc"
     }
    },
    "aa6d9ba18eca4661bc1a39d87dcfe137": {
     "model_module": "@jupyter-widgets/controls",
     "model_name": "FloatProgressModel",
     "state": {
      "_dom_classes": [],
      "_model_module": "@jupyter-widgets/controls",
      "_model_module_version": "1.5.0",
      "_model_name": "FloatProgressModel",
      "_view_count": null,
      "_view_module": "@jupyter-widgets/controls",
      "_view_module_version": "1.5.0",
      "_view_name": "ProgressView",
      "bar_style": "success",
      "description": "100%",
      "description_tooltip": null,
      "layout": "IPY_MODEL_8169d008e4334494958ac60ed6c5879f",
      "max": 2,
      "min": 0,
      "orientation": "horizontal",
      "style": "IPY_MODEL_ec8c33592c344fd4b64f73338f8f4c87",
      "value": 2
     }
    },
    "afc5bec7adea4f1397feb2ae8c6774d4": {
     "model_module": "@jupyter-widgets/controls",
     "model_name": "HTMLModel",
     "state": {
      "_dom_classes": [],
      "_model_module": "@jupyter-widgets/controls",
      "_model_module_version": "1.5.0",
      "_model_name": "HTMLModel",
      "_view_count": null,
      "_view_module": "@jupyter-widgets/controls",
      "_view_module_version": "1.5.0",
      "_view_name": "HTMLView",
      "description": "",
      "description_tooltip": null,
      "layout": "IPY_MODEL_1523b525a1294894856adb08d4329d2e",
      "placeholder": "​",
      "style": "IPY_MODEL_2d2cf5cf9a3940ccaef5b873ab5ddc31",
      "value": " 2/2 [00:14&lt;00:00,  7.36s/it]"
     }
    },
    "b7b232528a91417b987c5e2d2643cc3b": {
     "model_module": "@jupyter-widgets/controls",
     "model_name": "DescriptionStyleModel",
     "state": {
      "_model_module": "@jupyter-widgets/controls",
      "_model_module_version": "1.5.0",
      "_model_name": "DescriptionStyleModel",
      "_view_count": null,
      "_view_module": "@jupyter-widgets/base",
      "_view_module_version": "1.2.0",
      "_view_name": "StyleView",
      "description_width": ""
     }
    },
    "bfb9fbc9e7554a6fa61adaa7451f1372": {
     "model_module": "@jupyter-widgets/base",
     "model_name": "LayoutModel",
     "state": {
      "_model_module": "@jupyter-widgets/base",
      "_model_module_version": "1.2.0",
      "_model_name": "LayoutModel",
      "_view_count": null,
      "_view_module": "@jupyter-widgets/base",
      "_view_module_version": "1.2.0",
      "_view_name": "LayoutView",
      "align_content": null,
      "align_items": null,
      "align_self": null,
      "border": null,
      "bottom": null,
      "display": null,
      "flex": null,
      "flex_flow": null,
      "grid_area": null,
      "grid_auto_columns": null,
      "grid_auto_flow": null,
      "grid_auto_rows": null,
      "grid_column": null,
      "grid_gap": null,
      "grid_row": null,
      "grid_template_areas": null,
      "grid_template_columns": null,
      "grid_template_rows": null,
      "height": null,
      "justify_content": null,
      "justify_items": null,
      "left": null,
      "margin": null,
      "max_height": null,
      "max_width": null,
      "min_height": null,
      "min_width": null,
      "object_fit": null,
      "object_position": null,
      "order": null,
      "overflow": null,
      "overflow_x": null,
      "overflow_y": null,
      "padding": null,
      "right": null,
      "top": null,
      "visibility": null,
      "width": null
     }
    },
    "d9c03cf66d774390b80b6567f0cf38cc": {
     "model_module": "@jupyter-widgets/base",
     "model_name": "LayoutModel",
     "state": {
      "_model_module": "@jupyter-widgets/base",
      "_model_module_version": "1.2.0",
      "_model_name": "LayoutModel",
      "_view_count": null,
      "_view_module": "@jupyter-widgets/base",
      "_view_module_version": "1.2.0",
      "_view_name": "LayoutView",
      "align_content": null,
      "align_items": null,
      "align_self": null,
      "border": null,
      "bottom": null,
      "display": null,
      "flex": null,
      "flex_flow": null,
      "grid_area": null,
      "grid_auto_columns": null,
      "grid_auto_flow": null,
      "grid_auto_rows": null,
      "grid_column": null,
      "grid_gap": null,
      "grid_row": null,
      "grid_template_areas": null,
      "grid_template_columns": null,
      "grid_template_rows": null,
      "height": null,
      "justify_content": null,
      "justify_items": null,
      "left": null,
      "margin": null,
      "max_height": null,
      "max_width": null,
      "min_height": null,
      "min_width": null,
      "object_fit": null,
      "object_position": null,
      "order": null,
      "overflow": null,
      "overflow_x": null,
      "overflow_y": null,
      "padding": null,
      "right": null,
      "top": null,
      "visibility": null,
      "width": null
     }
    },
    "eb71c27dfac94adf925f094263d91a36": {
     "model_module": "@jupyter-widgets/base",
     "model_name": "LayoutModel",
     "state": {
      "_model_module": "@jupyter-widgets/base",
      "_model_module_version": "1.2.0",
      "_model_name": "LayoutModel",
      "_view_count": null,
      "_view_module": "@jupyter-widgets/base",
      "_view_module_version": "1.2.0",
      "_view_name": "LayoutView",
      "align_content": null,
      "align_items": null,
      "align_self": null,
      "border": null,
      "bottom": null,
      "display": null,
      "flex": null,
      "flex_flow": null,
      "grid_area": null,
      "grid_auto_columns": null,
      "grid_auto_flow": null,
      "grid_auto_rows": null,
      "grid_column": null,
      "grid_gap": null,
      "grid_row": null,
      "grid_template_areas": null,
      "grid_template_columns": null,
      "grid_template_rows": null,
      "height": null,
      "justify_content": null,
      "justify_items": null,
      "left": null,
      "margin": null,
      "max_height": null,
      "max_width": null,
      "min_height": null,
      "min_width": null,
      "object_fit": null,
      "object_position": null,
      "order": null,
      "overflow": null,
      "overflow_x": null,
      "overflow_y": null,
      "padding": null,
      "right": null,
      "top": null,
      "visibility": null,
      "width": null
     }
    },
    "ec8c33592c344fd4b64f73338f8f4c87": {
     "model_module": "@jupyter-widgets/controls",
     "model_name": "ProgressStyleModel",
     "state": {
      "_model_module": "@jupyter-widgets/controls",
      "_model_module_version": "1.5.0",
      "_model_name": "ProgressStyleModel",
      "_view_count": null,
      "_view_module": "@jupyter-widgets/base",
      "_view_module_version": "1.2.0",
      "_view_name": "StyleView",
      "bar_color": null,
      "description_width": "initial"
     }
    },
    "f5bc67aa923d4dc794f94047e5ff9e3c": {
     "model_module": "@jupyter-widgets/controls",
     "model_name": "HTMLModel",
     "state": {
      "_dom_classes": [],
      "_model_module": "@jupyter-widgets/controls",
      "_model_module_version": "1.5.0",
      "_model_name": "HTMLModel",
      "_view_count": null,
      "_view_module": "@jupyter-widgets/controls",
      "_view_module_version": "1.5.0",
      "_view_name": "HTMLView",
      "description": "",
      "description_tooltip": null,
      "layout": "IPY_MODEL_eb71c27dfac94adf925f094263d91a36",
      "placeholder": "​",
      "style": "IPY_MODEL_b7b232528a91417b987c5e2d2643cc3b",
      "value": " 2/2 [00:06&lt;00:00,  3.33s/it]"
     }
    }
   }
  }
 },
 "nbformat": 4,
 "nbformat_minor": 1
}
