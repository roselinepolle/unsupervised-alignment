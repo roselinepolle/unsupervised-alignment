{
 "cells": [
  {
   "cell_type": "markdown",
   "metadata": {
    "colab_type": "text",
    "id": "nskCGI9d5uP-"
   },
   "source": [
    "Note: test mode\n",
    "*   force_restart set to False\n",
    "*   number of runs/restarts /epochs modified\n",
    "*   cycle scale to 1000 for some reason\n",
    "*   Alternate between ResNet and MLP\n",
    "\n",
    "For some reason ResNet gives bad init."
   ]
  },
  {
   "cell_type": "code",
   "execution_count": 1,
   "metadata": {
    "colab": {},
    "colab_type": "code",
    "executionInfo": {
     "elapsed": 1057,
     "status": "ok",
     "timestamp": 1596719528754,
     "user": {
      "displayName": "rose polle",
      "photoUrl": "https://lh3.googleusercontent.com/a-/AOh14Gi6fKRp-4ujTRpxuypgSxns-O7mZoYmhF49LKva=s64",
      "userId": "04284892521663947558"
     },
     "user_tz": -60
    },
    "id": "86dBMxv4p4Lm"
   },
   "outputs": [],
   "source": [
    "experiment_name = 'test'\n",
    "loss_norm_scale = 0"
   ]
  },
  {
   "cell_type": "markdown",
   "metadata": {
    "colab_type": "text",
    "id": "EWCVoN7oDpaV"
   },
   "source": [
    "# Colab settings"
   ]
  },
  {
   "cell_type": "code",
   "execution_count": 1,
   "metadata": {
    "colab": {
     "base_uri": "https://localhost:8080/",
     "height": 122
    },
    "colab_type": "code",
    "executionInfo": {
     "elapsed": 25514,
     "status": "ok",
     "timestamp": 1596719553268,
     "user": {
      "displayName": "rose polle",
      "photoUrl": "https://lh3.googleusercontent.com/a-/AOh14Gi6fKRp-4ujTRpxuypgSxns-O7mZoYmhF49LKva=s64",
      "userId": "04284892521663947558"
     },
     "user_tz": -60
    },
    "id": "l-oWypvjDogQ",
    "outputId": "a1bcd542-bbdd-4f01-9fef-fdfcfa784bea"
   },
   "outputs": [],
   "source": [
    "# #Mount gdrive\n",
    "# from google.colab import drive\n",
    "# drive.mount('/content/gdrive')"
   ]
  },
  {
   "cell_type": "markdown",
   "metadata": {
    "colab_type": "text",
    "id": "8Z3oEsybDORw"
   },
   "source": [
    "# Imports and Settings"
   ]
  },
  {
   "cell_type": "code",
   "execution_count": 2,
   "metadata": {
    "colab": {},
    "colab_type": "code",
    "executionInfo": {
     "elapsed": 4063,
     "status": "ok",
     "timestamp": 1596719553271,
     "user": {
      "displayName": "rose polle",
      "photoUrl": "https://lh3.googleusercontent.com/a-/AOh14Gi6fKRp-4ujTRpxuypgSxns-O7mZoYmhF49LKva=s64",
      "userId": "04284892521663947558"
     },
     "user_tz": -60
    },
    "id": "MES2en4ADOR7"
   },
   "outputs": [],
   "source": [
    "#Paths\n",
    "import os\n",
    "from pathlib import Path\n",
    "fp_repo = \"/Users/roseline/Docs/AI/GITHUB/unsupervised-alignment\"\n",
    "# fp_repo = '/content/gdrive/My Drive/unsupervised-alignment'\n",
    "fp_save = fp_repo / Path('save')\n",
    "os.chdir(fp_repo / Path('src'))"
   ]
  },
  {
   "cell_type": "code",
   "execution_count": 3,
   "metadata": {
    "colab": {},
    "colab_type": "code",
    "executionInfo": {
     "elapsed": 10241,
     "status": "ok",
     "timestamp": 1596719560077,
     "user": {
      "displayName": "rose polle",
      "photoUrl": "https://lh3.googleusercontent.com/a-/AOh14Gi6fKRp-4ujTRpxuypgSxns-O7mZoYmhF49LKva=s64",
      "userId": "04284892521663947558"
     },
     "user_tz": -60
    },
    "id": "zFppTe0uDORx"
   },
   "outputs": [
    {
     "name": "stderr",
     "output_type": "stream",
     "text": [
      "Using TensorFlow backend.\n"
     ]
    }
   ],
   "source": [
    "import pickle\n",
    "import numpy as np\n",
    "import matplotlib.pyplot as plt\n",
    "import tensorflow as tf\n",
    "import scipy as sp\n",
    "from tqdm.notebook import tqdm\n",
    "import pandas as pd\n",
    "import uuid\n",
    "#Custom modules\n",
    "import embeddings as emb\n",
    "import utils \n",
    "import models\n",
    "import losses\n",
    "import train\n",
    "#KERAS\n",
    "import keras\n",
    "import tensorflow as tf\n",
    "from tensorflow.keras import regularizers"
   ]
  },
  {
   "cell_type": "code",
   "execution_count": 4,
   "metadata": {
    "colab": {
     "base_uri": "https://localhost:8080/",
     "height": 34
    },
    "colab_type": "code",
    "executionInfo": {
     "elapsed": 14415,
     "status": "ok",
     "timestamp": 1596719564818,
     "user": {
      "displayName": "rose polle",
      "photoUrl": "https://lh3.googleusercontent.com/a-/AOh14Gi6fKRp-4ujTRpxuypgSxns-O7mZoYmhF49LKva=s64",
      "userId": "04284892521663947558"
     },
     "user_tz": -60
    },
    "id": "IRtgp2pFIbjS",
    "outputId": "365677cd-68aa-4f9d-d08c-34e533007862"
   },
   "outputs": [
    {
     "name": "stdout",
     "output_type": "stream",
     "text": [
      "False\n"
     ]
    }
   ],
   "source": [
    "def gpu_avail():\n",
    "  is_avail = True\n",
    "  device_name = tf.test.gpu_device_name()\n",
    "  if device_name != '/device:GPU:0':\n",
    "    is_avail = False\n",
    "  return is_avail  \n",
    "print(gpu_avail())\n",
    "# tf.debugging.set_log_device_placement(True)"
   ]
  },
  {
   "cell_type": "markdown",
   "metadata": {
    "colab_type": "text",
    "id": "4k4DldSkDOR9"
   },
   "source": [
    "# Parameters"
   ]
  },
  {
   "cell_type": "code",
   "execution_count": 5,
   "metadata": {
    "colab": {
     "base_uri": "https://localhost:8080/",
     "height": 151
    },
    "colab_type": "code",
    "executionInfo": {
     "elapsed": 1296,
     "status": "ok",
     "timestamp": 1596719612912,
     "user": {
      "displayName": "rose polle",
      "photoUrl": "https://lh3.googleusercontent.com/a-/AOh14Gi6fKRp-4ujTRpxuypgSxns-O7mZoYmhF49LKva=s64",
      "userId": "04284892521663947558"
     },
     "user_tz": -60
    },
    "id": "hrwiuQYFDOR-",
    "outputId": "f3e874b2-e5b6-4a14-b23b-a6bd5d6df729"
   },
   "outputs": [
    {
     "name": "stdout",
     "output_type": "stream",
     "text": [
      "/Users/roseline/Docs/UCL/Projects/B.Roads/B.Roads code/Fork/unsupervised-alignment/save/test\n"
     ]
    },
    {
     "data": {
      "text/html": [
       "<div>\n",
       "<style scoped>\n",
       "    .dataframe tbody tr th:only-of-type {\n",
       "        vertical-align: middle;\n",
       "    }\n",
       "\n",
       "    .dataframe tbody tr th {\n",
       "        vertical-align: top;\n",
       "    }\n",
       "\n",
       "    .dataframe thead th {\n",
       "        text-align: right;\n",
       "    }\n",
       "</style>\n",
       "<table border=\"1\" class=\"dataframe\">\n",
       "  <thead>\n",
       "    <tr style=\"text-align: right;\">\n",
       "      <th></th>\n",
       "      <th>experiment_name</th>\n",
       "      <th>experiment_id</th>\n",
       "      <th>n_systems</th>\n",
       "      <th>n_concepts</th>\n",
       "      <th>noise</th>\n",
       "      <th>emb_dim</th>\n",
       "      <th>n_epicentres</th>\n",
       "      <th>linearsep</th>\n",
       "      <th>n_runs</th>\n",
       "      <th>max_restart</th>\n",
       "      <th>max_epoch</th>\n",
       "      <th>batch_size</th>\n",
       "      <th>gmm_scale</th>\n",
       "      <th>loss_distr_scale</th>\n",
       "      <th>loss_cycle_scale</th>\n",
       "      <th>lr</th>\n",
       "      <th>loss_norm_scale</th>\n",
       "    </tr>\n",
       "  </thead>\n",
       "  <tbody>\n",
       "    <tr>\n",
       "      <th>0</th>\n",
       "      <td>test</td>\n",
       "      <td>88e91b25-2c50-438c-a05d-2fda0020b404</td>\n",
       "      <td>2</td>\n",
       "      <td>200</td>\n",
       "      <td>0.001</td>\n",
       "      <td>2</td>\n",
       "      <td>1</td>\n",
       "      <td>1</td>\n",
       "      <td>2</td>\n",
       "      <td>5</td>\n",
       "      <td>30</td>\n",
       "      <td>100</td>\n",
       "      <td>0.01</td>\n",
       "      <td>1.0</td>\n",
       "      <td>1000.0</td>\n",
       "      <td>0.001</td>\n",
       "      <td>0</td>\n",
       "    </tr>\n",
       "  </tbody>\n",
       "</table>\n",
       "</div>"
      ],
      "text/plain": [
       "  experiment_name                         experiment_id  n_systems  \\\n",
       "0            test  88e91b25-2c50-438c-a05d-2fda0020b404          2   \n",
       "\n",
       "   n_concepts  noise  emb_dim  n_epicentres  linearsep  n_runs  max_restart  \\\n",
       "0         200  0.001        2             1          1       2            5   \n",
       "\n",
       "   max_epoch  batch_size  gmm_scale  loss_distr_scale  loss_cycle_scale  \\\n",
       "0         30         100       0.01               1.0            1000.0   \n",
       "\n",
       "      lr  loss_norm_scale  \n",
       "0  0.001                0  "
      ]
     },
     "metadata": {},
     "output_type": "display_data"
    }
   ],
   "source": [
    "#===PARAMETERS===\\\n",
    "override = False\n",
    "sd = 56 #This should make the subsequend rd seed generation reproducible\n",
    "tf.random.set_seed(sd)\n",
    "np.random.seed(sd)\n",
    "#=Synthetic data\n",
    "n_systems = 2\n",
    "n_concepts = 200\n",
    "noise = 0.001\n",
    "emb_dim = 2\n",
    "n_epicentres = 1\n",
    "linearsep = 1\n",
    "#=Neural net\n",
    "n_runs = 2\n",
    "max_restart = 5 #10 last restarts to fine tune best\n",
    "max_epoch = 30\n",
    "batch_size = np.minimum(100, n_concepts) #64/100\n",
    "#max_patience = 5\n",
    "#=losses\n",
    "gmm_scale = 0.01\n",
    "loss_distr_scale = 1.0\n",
    "loss_cycle_scale = 1000.0 #10000.0\n",
    "#=Define models / optimizer/losses\n",
    "lr = 0.001\n",
    "optimizer = tf.keras.optimizers.Adam(learning_rate=lr)\n",
    "#==SETUP=====\n",
    "template_ceil = '    Ceiling\\n    Accuracy 1: {0:.2f} 5: {1:.2f} 10: {2:.2f} Half: {3:.2f}\\n'\n",
    "template_loss = '    Epoch {0} Loss | total: {1:.5g} | cycle: {2:.3g} | f_dist: {3:.3g} | g_dist: {4:.3g}'\n",
    "template_acc = '{0} = | 1: {1:.2f} | 5: {2:.2f} | 10: {3:.2f} | half: {4:.2f}'\n",
    "template_res = '{0} = | f1: {1:.2f} | fhalf: {2:.2f} | g1: {3:.2f} | ghalf: {4:.2f} | total: {5:.2f} | norm: {6:.2f}  | cycle: {7:.2f} | f_dist: {8:.2f} | g_dist: {9:.2f} '\n",
    "n_batch = int(np.ceil(n_concepts / batch_size))\n",
    "#==Set folders to save results and models===\n",
    "fp_save_runs,fp_save_models = utils.create_save_folder(fp_save,override,n_systems,n_concepts,noise,emb_dim,\n",
    "                                                 n_epicentres,linearsep,max_restart,max_epoch,batch_size,name = experiment_name)\n",
    "print(fp_save_runs)\n",
    "#===Get seed lists\n",
    "sd_run_list = list(np.random.choice(10000, n_runs, replace=False))\n",
    "#===Save params\n",
    "experiment_id = uuid.uuid4()\n",
    "dict_params = {'experiment_name':experiment_name,'experiment_id':experiment_id,'n_systems':n_systems,'n_concepts':n_concepts,'noise':noise,'emb_dim':emb_dim,'n_epicentres':n_epicentres,'linearsep':linearsep,\n",
    "               'n_runs':n_runs,'max_restart':max_restart,'max_epoch':max_epoch,'batch_size':batch_size,'gmm_scale':gmm_scale,'loss_distr_scale':loss_distr_scale,\n",
    "               'loss_cycle_scale':loss_cycle_scale,'lr':lr,'loss_norm_scale':loss_norm_scale}\n",
    "with open(str(fp_save_runs)+'/dict_params.pickle', 'wb') as handle:\n",
    "  pickle.dump(dict_params, handle, protocol=pickle.HIGHEST_PROTOCOL)\n",
    "display(pd.DataFrame([dict_params]))"
   ]
  },
  {
   "cell_type": "markdown",
   "metadata": {
    "colab_type": "text",
    "id": "8Vxvhq7LDOSD"
   },
   "source": [
    "# Prepare synthetic data"
   ]
  },
  {
   "cell_type": "code",
   "execution_count": 6,
   "metadata": {
    "colab": {
     "base_uri": "https://localhost:8080/",
     "height": 346
    },
    "colab_type": "code",
    "executionInfo": {
     "elapsed": 1401,
     "status": "ok",
     "timestamp": 1596719615935,
     "user": {
      "displayName": "rose polle",
      "photoUrl": "https://lh3.googleusercontent.com/a-/AOh14Gi6fKRp-4ujTRpxuypgSxns-O7mZoYmhF49LKva=s64",
      "userId": "04284892521663947558"
     },
     "user_tz": -60
    },
    "id": "zQLWulxnDOSD",
    "outputId": "0908bbad-3c6a-4308-9adb-f616ac643642"
   },
   "outputs": [
    {
     "data": {
      "image/png": "[encoded data removed]",
      "text/plain": [
       "<Figure size 432x288 with 2 Axes>"
      ]
     },
     "metadata": {
      "needs_background": "light"
     },
     "output_type": "display_data"
    },
    {
     "name": "stdout",
     "output_type": "stream",
     "text": [
      "    Ceiling\n",
      "    Accuracy 1: 1.00 5: 1.00 10: 1.00 Half: 1.00\n",
      "\n"
     ]
    }
   ],
   "source": [
    "def get_data(n_systems,n_concepts,emb_dim,noise,n_epicentres,linearsep,sd,bplot=True):\n",
    "    #Get systems of embeddings (as np arrays, float32)\n",
    "    systems, noisy_Xs = emb.get_N_systems(n_systems = n_systems, noise_size = noise,rotation=True,plot=bplot, \n",
    "                                      num_concepts=n_concepts,n_dim=emb_dim,n_epicentres =n_epicentres,linearsep =linearsep,seed = sd)\n",
    "    X_A, X_B = noisy_Xs\n",
    "    A, B = systems\n",
    "    #Shuffle data\n",
    "    A_shuff,A_shuff_idx, A_idx_map = utils.shuffle_system(A)\n",
    "    B_shuff,B_shuff_idx, B_idx_map = utils.shuffle_system(B)\n",
    "    # Verify mapping to be safe.\n",
    "    np.testing.assert_array_equal(A, A_shuff[A_idx_map,:])\n",
    "    np.testing.assert_array_equal(B, B_shuff[B_idx_map,:])\n",
    "    return A,B,X_A,X_B,B_shuff,B_idx_map\n",
    "A,B,X_A,X_B,B_shuff,B_idx_map = get_data(n_systems,n_concepts,emb_dim,noise,n_epicentres,linearsep,sd,bplot=True)\n",
    "# Determine ceiling performance.\n",
    "acc_1, acc_5, acc_10, acc_half = utils.mapping_accuracy(X_A, X_B)\n",
    "print(template_ceil.format(acc_1, acc_5, acc_10, acc_half))"
   ]
  },
  {
   "cell_type": "code",
   "execution_count": 7,
   "metadata": {
    "colab": {},
    "colab_type": "code",
    "executionInfo": {
     "elapsed": 944,
     "status": "ok",
     "timestamp": 1596719616466,
     "user": {
      "displayName": "rose polle",
      "photoUrl": "https://lh3.googleusercontent.com/a-/AOh14Gi6fKRp-4ujTRpxuypgSxns-O7mZoYmhF49LKva=s64",
      "userId": "04284892521663947558"
     },
     "user_tz": -60
    },
    "id": "X9CBpKouhMDf"
   },
   "outputs": [],
   "source": [
    "from tensorflow.keras.layers import Dense, Dropout, Add, BatchNormalization\n",
    "from tensorflow.keras import Model\n",
    "class ResNet2(Model):\n",
    "    \"\"\"Model that aligns two domains. 2 blocks\"\"\"\n",
    "    def __init__(self, n_dim_0, n_dim_1):\n",
    "        \"\"\"Initialize.\"\"\"\n",
    "        n_hidden = 100\n",
    "        # NOTE: elu sometimes works\n",
    "        super(ResNet2, self).__init__()\n",
    "        self.d1 = Dense(n_hidden, activation='relu', kernel_initializer='glorot_uniform', kernel_regularizer=regularizers.l2(loss_norm_scale))\n",
    "        self.d2 = Dense(n_hidden, activation='relu', kernel_initializer='glorot_uniform', kernel_regularizer=regularizers.l2(loss_norm_scale))\n",
    "        self.d3 = Dense(n_hidden, activation='relu', kernel_initializer='glorot_uniform', kernel_regularizer=regularizers.l2(loss_norm_scale))\n",
    "        self.d5 = Dense(n_dim_1, activation='tanh', kernel_regularizer=regularizers.l2(loss_norm_scale))\n",
    "    def call(self, x):\n",
    "        \"\"\"Call.\"\"\"\n",
    "        identity = x\n",
    "        x1 = self.d1(x)\n",
    "        x2 = self.d2(x1)\n",
    "        x3 = self.d3(x2)  # TODO was off, turned on for 5D\n",
    "        x4 = self.d5(x3)\n",
    "        xout = identity + x4\n",
    "        return xout\n",
    "class MLP(Model):\n",
    "    \"\"\"Model that aligns two domains.\"\"\"\n",
    "    def __init__(self, n_dim_0, n_dim_1):\n",
    "        \"\"\"Initialize.\"\"\"\n",
    "        n_hidden = 100\n",
    "        # NOTE: elu sometimes works\n",
    "        super(MLP, self).__init__()\n",
    "        self.d1 = Dense(n_hidden, activation='tanh', kernel_initializer='glorot_uniform', kernel_regularizer=regularizers.l2(loss_norm_scale))\n",
    "        self.d2 = Dense(n_hidden, activation='tanh', kernel_initializer='glorot_uniform', kernel_regularizer=regularizers.l2(loss_norm_scale))\n",
    "        self.d3 = Dense(n_hidden, activation='tanh', kernel_initializer='glorot_uniform', kernel_regularizer=regularizers.l2(loss_norm_scale))\n",
    "        self.d5 = Dense(n_dim_1, activation='tanh',kernel_regularizer=regularizers.l2(loss_norm_scale))\n",
    "    def call(self, x):\n",
    "        \"\"\"Call.\"\"\"\n",
    "        x1 = self.d1(x)\n",
    "        x2 = self.d2(x1)\n",
    "        x3 = self.d3(x2)  \n",
    "        x4 = self.d5(x3)\n",
    "        return x4\n",
    "def init_model_ResNet2(cond_best,thresh,restart,sd_restart,emb_dim,best_model):\n",
    "    new = False\n",
    "    if cond_best or (np.random.uniform() < thresh and restart > 0):\n",
    "        model = best_model\n",
    "    else:\n",
    "        utils.set_seed_np_tf(sd_restart)\n",
    "        model = ResNet2(emb_dim, emb_dim)\n",
    "        new = True\n",
    "    return model, new\n",
    "def init_model(cond_best,thresh,restart,sd_restart,emb_dim,best_model):\n",
    "    new = False\n",
    "    if cond_best or (np.random.uniform() < thresh and restart > 0):\n",
    "        model = best_model\n",
    "    else:\n",
    "        utils.set_seed_np_tf(sd_restart)\n",
    "        model = MLP(emb_dim, emb_dim)\n",
    "        new = True\n",
    "    return model, new"
   ]
  },
  {
   "cell_type": "code",
   "execution_count": 9,
   "metadata": {
    "colab": {},
    "colab_type": "code",
    "executionInfo": {
     "elapsed": 977,
     "status": "ok",
     "timestamp": 1596719668929,
     "user": {
      "displayName": "rose polle",
      "photoUrl": "https://lh3.googleusercontent.com/a-/AOh14Gi6fKRp-4ujTRpxuypgSxns-O7mZoYmhF49LKva=s64",
      "userId": "04284892521663947558"
     },
     "user_tz": -60
    },
    "id": "PRiffOXSUDza"
   },
   "outputs": [],
   "source": [
    "# def mult_list(mult,li):\n",
    "#   return [mult*li[i] for i in range(len(li)) ]\n",
    "# def get_weights_norm(model):\n",
    "#   weights = [tf.convert_to_tensor(model.layers[i].get_weights()[0],dtype = tf.float32) for i in range(len(model.layers))]\n",
    "#   l2_norms = [tf.norm(weights[i])**2 for i in range(len(weights))]\n",
    "#   tot_norm = tf.reduce_mean(l2_norms)\n",
    "#   return tot_norm\n",
    "# def get_model_reg_loss(model):\n",
    "#   layers_losses = [tf.math.reduce_sum(layer.losses) for layer in model.layers]\n",
    "#   reg_loss = sum(layers_losses)\n",
    "#   return reg_loss\n",
    "def train_batch_step(model_f,model_g,optimizer,x_batch, y_batch, loss_cycle_scale):\n",
    "        with tf.GradientTape(persistent=True) as tape_cycle:\n",
    "            x_c = model_g(model_f(x_batch))\n",
    "            y_c = model_f(model_g(y_batch))\n",
    "            cycle_loss = loss_cycle_scale * losses.flex_cycle_loss([x_batch,y_batch],[x_c,y_c], norm_type = 'l2')\n",
    "            #norm_loss = loss_norm_scale* 1/2*(get_weights_norm(model_f) + get_weights_norm(model_g))\n",
    "            norm_loss = loss_norm_scale* 1/2* (tf.add_n(model_f.losses)+ tf.add_n(model_g.losses)) #1/2*(get_model_reg_loss(model_f) + get_model_reg_loss(model_g))\n",
    "            tot_loss = cycle_loss + norm_loss\n",
    "        gradients_cycle_f = tape_cycle.gradient(tot_loss, model_f.trainable_variables)\n",
    "        gradients_cycle_g = tape_cycle.gradient(tot_loss, model_g.trainable_variables)\n",
    "        # gradients_norm_f = tape_cycle.gradient(norm_loss, model_f.trainable_variables) #mult_list(-loss_norm_scale,model_f.trainable_variables)\n",
    "        # gradients_norm_g = tape_cycle.gradient(norm_loss, model_g.trainable_variables) #mult_list(-loss_norm_scale,model_g.trainable_variables)\n",
    "        del tape_cycle\n",
    "        optimizer.apply_gradients(zip(gradients_cycle_f, model_f.trainable_variables))\n",
    "        optimizer.apply_gradients(zip(gradients_cycle_g, model_g.trainable_variables))\n",
    "        # optimizer.apply_gradients(zip(gradients_norm_f, model_f.trainable_variables))\n",
    "        # optimizer.apply_gradients(zip(gradients_norm_g, model_g.trainable_variables))\n",
    "        return cycle_loss , norm_loss \n",
    "def train_full_step(model_f,model_g,optimizer,x_all, y_all, loss_distr_scale,gmm_scale):\n",
    "        with tf.GradientTape() as tape_f0:\n",
    "            f_x = model_f(x_all)\n",
    "            dist_loss_f = loss_distr_scale * losses.distribution_loss(y_all, f_x, gmm_scale)\n",
    "            tot_loss_f = dist_loss_f \n",
    "        gradients_target_fx = tape_f0.gradient(dist_loss_f, model_f.trainable_variables)\n",
    "        with tf.GradientTape() as tape_g0:\n",
    "            g_y = model_g(y_all)\n",
    "            dist_loss_g = loss_distr_scale * losses.distribution_loss(x_all, g_y, gmm_scale)\n",
    "            tot_loss_g = dist_loss_g \n",
    "        gradients_target_gy = tape_g0.gradient(dist_loss_g, model_g.trainable_variables)\n",
    "        # Combine gradients.\n",
    "        optimizer.apply_gradients(zip(gradients_target_fx, model_f.trainable_variables))\n",
    "        optimizer.apply_gradients(zip(gradients_target_gy, model_g.trainable_variables))\n",
    "        return dist_loss_f, dist_loss_g "
   ]
  },
  {
   "cell_type": "code",
   "execution_count": 11,
   "metadata": {
    "colab": {},
    "colab_type": "code",
    "executionInfo": {
     "elapsed": 797,
     "status": "ok",
     "timestamp": 1596719670400,
     "user": {
      "displayName": "rose polle",
      "photoUrl": "https://lh3.googleusercontent.com/a-/AOh14Gi6fKRp-4ujTRpxuypgSxns-O7mZoYmhF49LKva=s64",
      "userId": "04284892521663947558"
     },
     "user_tz": -60
    },
    "id": "RY52zUq7DOSL"
   },
   "outputs": [],
   "source": [
    "def train_models_one_restart(i_run,i_restart,sd_restart,x,y,y_idx_map,model_f,model_g,max_epoch,n_batch,x_0,x_1):\n",
    "    #LOOP THROUGH EPOCHS\n",
    "    epochs_dict_list = []\n",
    "    for i_epoch in range(max_epoch):\n",
    "        for x_batch, y_batch in utils.get_batch(x, y, batch_size):     \n",
    "            cycle_loss, norm_loss  = train_batch_step(model_f,model_g,optimizer,x_batch, y_batch, loss_cycle_scale)\n",
    "        dist_loss_f, dist_loss_g  = train_full_step(model_f,model_g,optimizer,x, y,loss_distr_scale,gmm_scale)\n",
    "        loss_total = dist_loss_f + dist_loss_g + cycle_loss + norm_loss\n",
    "        # Project concept using current models\n",
    "        f_x = model_f(x).numpy()\n",
    "        g_y = model_g(y).numpy()\n",
    "        #Get accuracies\n",
    "        if y_idx_map is not None:\n",
    "#             acc_f1, acc_f5, acc_f10, acc_fhalf = utils.mapping_accuracy(f_x, y.numpy()[y_idx_map]) #Does not work on local CPU\n",
    "#             acc_g1, acc_g5, acc_g10, acc_ghalf = utils.mapping_accuracy(g_y[y_idx_map], x.numpy()) #Does not work on local CPU\n",
    "            acc_f1, acc_f5, acc_f10, acc_fhalf = utils.mapping_accuracy(f_x, y[y_idx_map])\n",
    "            acc_g1, acc_g5, acc_g10, acc_ghalf = utils.mapping_accuracy(g_y[y_idx_map], x)\n",
    "        #Record all data in dict. \n",
    "        dict_entry = {'experiment_name':experiment_name,'experiment_id':experiment_id,'run':i_run,'restart':i_restart,'sd_restart':sd_restart,'epoch':i_epoch,'loss_total':loss_total.numpy(),\n",
    "                      'cycle_loss':cycle_loss.numpy(),'dist_loss_f':dist_loss_f.numpy(),'dist_loss_g':dist_loss_g.numpy(),\n",
    "                     'acc_f1':acc_f1, 'acc_f5':acc_f5, 'acc_f10':acc_f10, 'acc_fhalf':acc_fhalf,\n",
    "                     'acc_g1':acc_g1, 'acc_g5':acc_g5, 'acc_g10':acc_g10, 'acc_ghalf':acc_ghalf}\n",
    "        epochs_dict_list.append(dict_entry)\n",
    "        #Print current results\n",
    "        if i_epoch % 10 ==0 or i_epoch==max_epoch-1:\n",
    "            print(template_res.format(i_epoch,acc_f1,acc_fhalf,acc_g1,acc_ghalf,loss_total,norm_loss,cycle_loss,dist_loss_f,dist_loss_g))\n",
    "            #print('Epoch %d -'%i_epoch,template_acc.format('f(x)', acc_f1, acc_f5, acc_f10, acc_fhalf),template_acc.format('g(x)', acc_g1, acc_g5, acc_g10, acc_ghalf)) \n",
    "    #Plot final epoch\n",
    "    utils.plot_systems_results(x,y,f_x,g_y,x_0,x_1)\n",
    "    return model_f,model_g,epochs_dict_list"
   ]
  },
  {
   "cell_type": "code",
   "execution_count": 12,
   "metadata": {
    "colab": {
     "base_uri": "https://localhost:8080/",
     "height": 1000,
     "referenced_widgets": [
      "306015ea7c53493e892491f6c8968c9e",
      "847ad8ea9d5d4cadb49bdcaf69ea670c",
      "07bdfeab3ba44a92a8e86cf72bd7b8d5",
      "af36fd542aa54384b75b1214402b2ab8",
      "79e96e6c05ca449f81c320b0b5b30fa9",
      "3547c4e8f9214a59ad91a5a682467921",
      "b65fc4b196a241e5be932fc520ee3ed3",
      "fba0704b2ff344eaa9fb4b23f666611d"
     ]
    },
    "colab_type": "code",
    "executionInfo": {
     "elapsed": 22540,
     "status": "error",
     "timestamp": 1596719693522,
     "user": {
      "displayName": "rose polle",
      "photoUrl": "https://lh3.googleusercontent.com/a-/AOh14Gi6fKRp-4ujTRpxuypgSxns-O7mZoYmhF49LKva=s64",
      "userId": "04284892521663947558"
     },
     "user_tz": -60
    },
    "id": "1lg5dAk6DOSO",
    "outputId": "d7eb463b-a53d-4add-9d73-1823f9e4c9f6"
   },
   "outputs": [
    {
     "name": "stdout",
     "output_type": "stream",
     "text": [
      "===============================\n",
      "======Run 0======\n",
      "===============================\n",
      "Seed :  4941\n"
     ]
    },
    {
     "data": {
      "image/png": "[encoded data removed]",
      "text/plain": [
       "<Figure size 432x288 with 2 Axes>"
      ]
     },
     "metadata": {
      "needs_background": "light"
     },
     "output_type": "display_data"
    },
    {
     "name": "stdout",
     "output_type": "stream",
     "text": [
      "    Ceiling\n",
      "    Accuracy 1: 0.99 5: 1.00 10: 1.00 Half: 1.00\n",
      "\n",
      "    Threshold accuracy : 0.89\n"
     ]
    },
    {
     "data": {
      "application/vnd.jupyter.widget-view+json": {
       "model_id": "e5b89f45cb9e425ba9909b74fb6664fa",
       "version_major": 2,
       "version_minor": 0
      },
      "text/plain": [
       "HBox(children=(FloatProgress(value=0.0, max=5.0), HTML(value='')))"
      ]
     },
     "metadata": {},
     "output_type": "display_data"
    },
    {
     "name": "stdout",
     "output_type": "stream",
     "text": [
      "======Restart 0======\n",
      "    New model_f\n",
      "    New model_g\n",
      "0 = | f1: 0.00 | fhalf: 0.27 | g1: 0.00 | ghalf: 0.28 | total: 6.35 | norm: 0.00  | cycle: 0.26 | f_dist: 3.08 | g_dist: 3.01 \n",
      "10 = | f1: 0.00 | fhalf: 0.30 | g1: 0.00 | ghalf: 0.29 | total: 3.55 | norm: 0.00  | cycle: 0.03 | f_dist: 1.76 | g_dist: 1.77 \n",
      "20 = | f1: 0.00 | fhalf: 0.29 | g1: 0.00 | ghalf: 0.30 | total: 3.03 | norm: 0.00  | cycle: 0.05 | f_dist: 1.48 | g_dist: 1.50 \n",
      "29 = | f1: 0.00 | fhalf: 0.30 | g1: 0.00 | ghalf: 0.30 | total: 2.90 | norm: 0.00  | cycle: 0.05 | f_dist: 1.43 | g_dist: 1.42 \n"
     ]
    },
    {
     "data": {
      "image/png": "[encoded data removed]",
      "text/plain": [
       "<Figure size 432x288 with 4 Axes>"
      ]
     },
     "metadata": {
      "needs_background": "light"
     },
     "output_type": "display_data"
    },
    {
     "name": "stdout",
     "output_type": "stream",
     "text": [
      "    Beat best model_f.\n",
      "    Beat best model_g.\n",
      "======Restart 1======\n",
      "    New model_f\n",
      "    New model_g\n",
      "0 = | f1: 0.00 | fhalf: 0.28 | g1: 0.00 | ghalf: 0.28 | total: 7.38 | norm: 0.00  | cycle: 0.75 | f_dist: 3.62 | g_dist: 3.00 \n",
      "10 = | f1: 0.00 | fhalf: 0.30 | g1: 0.00 | ghalf: 0.28 | total: 3.52 | norm: 0.00  | cycle: 0.07 | f_dist: 1.74 | g_dist: 1.72 \n",
      "20 = | f1: 0.00 | fhalf: 0.29 | g1: 0.00 | ghalf: 0.29 | total: 3.06 | norm: 0.00  | cycle: 0.08 | f_dist: 1.50 | g_dist: 1.47 \n",
      "\n"
     ]
    },
    {
     "ename": "KeyboardInterrupt",
     "evalue": "",
     "output_type": "error",
     "traceback": [
      "\u001b[0;31m---------------------------------------------------------------------------\u001b[0m",
      "\u001b[0;31mKeyboardInterrupt\u001b[0m                         Traceback (most recent call last)",
      "\u001b[0;32m<ipython-input-12-fe66a01fb4ed>\u001b[0m in \u001b[0;36m<module>\u001b[0;34m\u001b[0m\n\u001b[1;32m     55\u001b[0m         \u001b[0;31m#==Train\u001b[0m\u001b[0;34m\u001b[0m\u001b[0;34m\u001b[0m\u001b[0;34m\u001b[0m\u001b[0m\n\u001b[1;32m     56\u001b[0m         model_f,model_g,epochs_dict_list = train_models_one_restart(i_run,i_restart,sd_restart,\n\u001b[0;32m---> 57\u001b[0;31m                                                                     x,y,y_idx_map,model_f,model_g,max_epoch,n_batch,X_A,X_B)\n\u001b[0m\u001b[1;32m     58\u001b[0m         \u001b[0;31m#Get final losses and accuracies\u001b[0m\u001b[0;34m\u001b[0m\u001b[0;34m\u001b[0m\u001b[0;34m\u001b[0m\u001b[0m\n\u001b[1;32m     59\u001b[0m         \u001b[0mlast_epoch_dict\u001b[0m \u001b[0;34m=\u001b[0m \u001b[0mepochs_dict_list\u001b[0m\u001b[0;34m[\u001b[0m\u001b[0;34m-\u001b[0m\u001b[0;36m1\u001b[0m\u001b[0;34m]\u001b[0m\u001b[0;34m\u001b[0m\u001b[0;34m\u001b[0m\u001b[0m\n",
      "\u001b[0;32m<ipython-input-11-88bb44ee62a9>\u001b[0m in \u001b[0;36mtrain_models_one_restart\u001b[0;34m(i_run, i_restart, sd_restart, x, y, y_idx_map, model_f, model_g, max_epoch, n_batch, x_0, x_1)\u001b[0m\n\u001b[1;32m      5\u001b[0m         \u001b[0;32mfor\u001b[0m \u001b[0mx_batch\u001b[0m\u001b[0;34m,\u001b[0m \u001b[0my_batch\u001b[0m \u001b[0;32min\u001b[0m \u001b[0mutils\u001b[0m\u001b[0;34m.\u001b[0m\u001b[0mget_batch\u001b[0m\u001b[0;34m(\u001b[0m\u001b[0mx\u001b[0m\u001b[0;34m,\u001b[0m \u001b[0my\u001b[0m\u001b[0;34m,\u001b[0m \u001b[0mbatch_size\u001b[0m\u001b[0;34m)\u001b[0m\u001b[0;34m:\u001b[0m\u001b[0;34m\u001b[0m\u001b[0;34m\u001b[0m\u001b[0m\n\u001b[1;32m      6\u001b[0m             \u001b[0mcycle_loss\u001b[0m\u001b[0;34m,\u001b[0m \u001b[0mnorm_loss\u001b[0m  \u001b[0;34m=\u001b[0m \u001b[0mtrain_batch_step\u001b[0m\u001b[0;34m(\u001b[0m\u001b[0mmodel_f\u001b[0m\u001b[0;34m,\u001b[0m\u001b[0mmodel_g\u001b[0m\u001b[0;34m,\u001b[0m\u001b[0moptimizer\u001b[0m\u001b[0;34m,\u001b[0m\u001b[0mx_batch\u001b[0m\u001b[0;34m,\u001b[0m \u001b[0my_batch\u001b[0m\u001b[0;34m,\u001b[0m \u001b[0mloss_cycle_scale\u001b[0m\u001b[0;34m)\u001b[0m\u001b[0;34m\u001b[0m\u001b[0;34m\u001b[0m\u001b[0m\n\u001b[0;32m----> 7\u001b[0;31m         \u001b[0mdist_loss_f\u001b[0m\u001b[0;34m,\u001b[0m \u001b[0mdist_loss_g\u001b[0m  \u001b[0;34m=\u001b[0m \u001b[0mtrain_full_step\u001b[0m\u001b[0;34m(\u001b[0m\u001b[0mmodel_f\u001b[0m\u001b[0;34m,\u001b[0m\u001b[0mmodel_g\u001b[0m\u001b[0;34m,\u001b[0m\u001b[0moptimizer\u001b[0m\u001b[0;34m,\u001b[0m\u001b[0mx\u001b[0m\u001b[0;34m,\u001b[0m \u001b[0my\u001b[0m\u001b[0;34m,\u001b[0m\u001b[0mloss_distr_scale\u001b[0m\u001b[0;34m,\u001b[0m\u001b[0mgmm_scale\u001b[0m\u001b[0;34m)\u001b[0m\u001b[0;34m\u001b[0m\u001b[0;34m\u001b[0m\u001b[0m\n\u001b[0m\u001b[1;32m      8\u001b[0m         \u001b[0mloss_total\u001b[0m \u001b[0;34m=\u001b[0m \u001b[0mdist_loss_f\u001b[0m \u001b[0;34m+\u001b[0m \u001b[0mdist_loss_g\u001b[0m \u001b[0;34m+\u001b[0m \u001b[0mcycle_loss\u001b[0m \u001b[0;34m+\u001b[0m \u001b[0mnorm_loss\u001b[0m\u001b[0;34m\u001b[0m\u001b[0;34m\u001b[0m\u001b[0m\n\u001b[1;32m      9\u001b[0m         \u001b[0;31m# Project concept using current models\u001b[0m\u001b[0;34m\u001b[0m\u001b[0;34m\u001b[0m\u001b[0;34m\u001b[0m\u001b[0m\n",
      "\u001b[0;32m<ipython-input-9-ac1ccaad706c>\u001b[0m in \u001b[0;36mtrain_full_step\u001b[0;34m(model_f, model_g, optimizer, x_all, y_all, loss_distr_scale, gmm_scale)\u001b[0m\n\u001b[1;32m     31\u001b[0m         \u001b[0;32mwith\u001b[0m \u001b[0mtf\u001b[0m\u001b[0;34m.\u001b[0m\u001b[0mGradientTape\u001b[0m\u001b[0;34m(\u001b[0m\u001b[0;34m)\u001b[0m \u001b[0;32mas\u001b[0m \u001b[0mtape_f0\u001b[0m\u001b[0;34m:\u001b[0m\u001b[0;34m\u001b[0m\u001b[0;34m\u001b[0m\u001b[0m\n\u001b[1;32m     32\u001b[0m             \u001b[0mf_x\u001b[0m \u001b[0;34m=\u001b[0m \u001b[0mmodel_f\u001b[0m\u001b[0;34m(\u001b[0m\u001b[0mx_all\u001b[0m\u001b[0;34m)\u001b[0m\u001b[0;34m\u001b[0m\u001b[0;34m\u001b[0m\u001b[0m\n\u001b[0;32m---> 33\u001b[0;31m             \u001b[0mdist_loss_f\u001b[0m \u001b[0;34m=\u001b[0m \u001b[0mloss_distr_scale\u001b[0m \u001b[0;34m*\u001b[0m \u001b[0mlosses\u001b[0m\u001b[0;34m.\u001b[0m\u001b[0mdistribution_loss\u001b[0m\u001b[0;34m(\u001b[0m\u001b[0my_all\u001b[0m\u001b[0;34m,\u001b[0m \u001b[0mf_x\u001b[0m\u001b[0;34m,\u001b[0m \u001b[0mgmm_scale\u001b[0m\u001b[0;34m)\u001b[0m\u001b[0;34m\u001b[0m\u001b[0;34m\u001b[0m\u001b[0m\n\u001b[0m\u001b[1;32m     34\u001b[0m             \u001b[0mtot_loss_f\u001b[0m \u001b[0;34m=\u001b[0m \u001b[0mdist_loss_f\u001b[0m\u001b[0;34m\u001b[0m\u001b[0;34m\u001b[0m\u001b[0m\n\u001b[1;32m     35\u001b[0m         \u001b[0mgradients_target_fx\u001b[0m \u001b[0;34m=\u001b[0m \u001b[0mtape_f0\u001b[0m\u001b[0;34m.\u001b[0m\u001b[0mgradient\u001b[0m\u001b[0;34m(\u001b[0m\u001b[0mdist_loss_f\u001b[0m\u001b[0;34m,\u001b[0m \u001b[0mmodel_f\u001b[0m\u001b[0;34m.\u001b[0m\u001b[0mtrainable_variables\u001b[0m\u001b[0;34m)\u001b[0m\u001b[0;34m\u001b[0m\u001b[0;34m\u001b[0m\u001b[0m\n",
      "\u001b[0;32m~/Docs/UCL/Projects/B.Roads/B.Roads code/Fork/unsupervised-alignment/src/losses.py\u001b[0m in \u001b[0;36mdistribution_loss\u001b[0;34m(y, fx, gmm_scale)\u001b[0m\n\u001b[1;32m     64\u001b[0m     \u001b[0;31m#Get prob\u001b[0m\u001b[0;34m\u001b[0m\u001b[0;34m\u001b[0m\u001b[0;34m\u001b[0m\u001b[0m\n\u001b[1;32m     65\u001b[0m     \u001b[0mgmm_y_log_prob\u001b[0m \u001b[0;34m=\u001b[0m \u001b[0mlog_prob_samples_gmm\u001b[0m\u001b[0;34m(\u001b[0m\u001b[0my\u001b[0m\u001b[0;34m,\u001b[0m\u001b[0mgmm_y\u001b[0m\u001b[0;34m)\u001b[0m\u001b[0;34m\u001b[0m\u001b[0;34m\u001b[0m\u001b[0m\n\u001b[0;32m---> 66\u001b[0;31m     \u001b[0mgmm_fx_log_prob\u001b[0m \u001b[0;34m=\u001b[0m \u001b[0mlog_prob_samples_gmm\u001b[0m\u001b[0;34m(\u001b[0m\u001b[0my\u001b[0m\u001b[0;34m,\u001b[0m\u001b[0mgmm_fx\u001b[0m\u001b[0;34m)\u001b[0m\u001b[0;34m\u001b[0m\u001b[0;34m\u001b[0m\u001b[0m\n\u001b[0m\u001b[1;32m     67\u001b[0m \u001b[0;34m\u001b[0m\u001b[0m\n\u001b[1;32m     68\u001b[0m     \u001b[0mloss_kl\u001b[0m \u001b[0;34m=\u001b[0m \u001b[0mgmm_y_log_prob\u001b[0m \u001b[0;34m-\u001b[0m \u001b[0mgmm_fx_log_prob\u001b[0m\u001b[0;34m\u001b[0m\u001b[0;34m\u001b[0m\u001b[0m\n",
      "\u001b[0;32m~/Docs/UCL/Projects/B.Roads/B.Roads code/Fork/unsupervised-alignment/src/losses.py\u001b[0m in \u001b[0;36mlog_prob_samples_gmm\u001b[0;34m(x, gmm)\u001b[0m\n\u001b[1;32m    101\u001b[0m \u001b[0;32mdef\u001b[0m \u001b[0mlog_prob_samples_gmm\u001b[0m\u001b[0;34m(\u001b[0m\u001b[0mx\u001b[0m\u001b[0;34m,\u001b[0m\u001b[0mgmm\u001b[0m\u001b[0;34m)\u001b[0m\u001b[0;34m:\u001b[0m\u001b[0;34m\u001b[0m\u001b[0;34m\u001b[0m\u001b[0m\n\u001b[1;32m    102\u001b[0m     \u001b[0mx_samples\u001b[0m \u001b[0;34m=\u001b[0m \u001b[0mx\u001b[0m \u001b[0;32mif\u001b[0m \u001b[0mtf\u001b[0m\u001b[0;34m.\u001b[0m\u001b[0mis_tensor\u001b[0m\u001b[0;34m(\u001b[0m\u001b[0mx\u001b[0m\u001b[0;34m)\u001b[0m \u001b[0;32melse\u001b[0m \u001b[0mtf\u001b[0m\u001b[0;34m.\u001b[0m\u001b[0mconstant\u001b[0m\u001b[0;34m(\u001b[0m\u001b[0mx\u001b[0m\u001b[0;34m,\u001b[0m \u001b[0mdtype\u001b[0m\u001b[0;34m=\u001b[0m\u001b[0mnp\u001b[0m\u001b[0;34m.\u001b[0m\u001b[0mfloat32\u001b[0m\u001b[0;34m)\u001b[0m\u001b[0;34m\u001b[0m\u001b[0;34m\u001b[0m\u001b[0m\n\u001b[0;32m--> 103\u001b[0;31m     \u001b[0mlog_prob\u001b[0m\u001b[0;34m=\u001b[0m \u001b[0mtf\u001b[0m\u001b[0;34m.\u001b[0m\u001b[0mreduce_mean\u001b[0m\u001b[0;34m(\u001b[0m\u001b[0mgmm\u001b[0m\u001b[0;34m.\u001b[0m\u001b[0mlog_prob\u001b[0m\u001b[0;34m(\u001b[0m\u001b[0mx_samples\u001b[0m\u001b[0;34m)\u001b[0m\u001b[0;34m,\u001b[0m \u001b[0maxis\u001b[0m\u001b[0;34m=\u001b[0m\u001b[0;36m0\u001b[0m\u001b[0;34m)\u001b[0m\u001b[0;34m\u001b[0m\u001b[0;34m\u001b[0m\u001b[0m\n\u001b[0m\u001b[1;32m    104\u001b[0m     \u001b[0;32mreturn\u001b[0m \u001b[0mlog_prob\u001b[0m\u001b[0;34m\u001b[0m\u001b[0;34m\u001b[0m\u001b[0m\n\u001b[1;32m    105\u001b[0m \u001b[0;34m\u001b[0m\u001b[0m\n",
      "\u001b[0;32m/opt/anaconda3/lib/python3.7/site-packages/tensorflow_probability/python/distributions/distribution.py\u001b[0m in \u001b[0;36mlog_prob\u001b[0;34m(self, value, name, **kwargs)\u001b[0m\n\u001b[1;32m    881\u001b[0m         \u001b[0mvalues\u001b[0m \u001b[0mof\u001b[0m \u001b[0mtype\u001b[0m\u001b[0;31m \u001b[0m\u001b[0;31m`\u001b[0m\u001b[0mself\u001b[0m\u001b[0;34m.\u001b[0m\u001b[0mdtype\u001b[0m\u001b[0;31m`\u001b[0m\u001b[0;34m.\u001b[0m\u001b[0;34m\u001b[0m\u001b[0;34m\u001b[0m\u001b[0m\n\u001b[1;32m    882\u001b[0m     \"\"\"\n\u001b[0;32m--> 883\u001b[0;31m     \u001b[0;32mreturn\u001b[0m \u001b[0mself\u001b[0m\u001b[0;34m.\u001b[0m\u001b[0m_call_log_prob\u001b[0m\u001b[0;34m(\u001b[0m\u001b[0mvalue\u001b[0m\u001b[0;34m,\u001b[0m \u001b[0mname\u001b[0m\u001b[0;34m,\u001b[0m \u001b[0;34m**\u001b[0m\u001b[0mkwargs\u001b[0m\u001b[0;34m)\u001b[0m\u001b[0;34m\u001b[0m\u001b[0;34m\u001b[0m\u001b[0m\n\u001b[0m\u001b[1;32m    884\u001b[0m \u001b[0;34m\u001b[0m\u001b[0m\n\u001b[1;32m    885\u001b[0m   \u001b[0;32mdef\u001b[0m \u001b[0m_call_prob\u001b[0m\u001b[0;34m(\u001b[0m\u001b[0mself\u001b[0m\u001b[0;34m,\u001b[0m \u001b[0mvalue\u001b[0m\u001b[0;34m,\u001b[0m \u001b[0mname\u001b[0m\u001b[0;34m,\u001b[0m \u001b[0;34m**\u001b[0m\u001b[0mkwargs\u001b[0m\u001b[0;34m)\u001b[0m\u001b[0;34m:\u001b[0m\u001b[0;34m\u001b[0m\u001b[0;34m\u001b[0m\u001b[0m\n",
      "\u001b[0;32m/opt/anaconda3/lib/python3.7/site-packages/tensorflow_probability/python/distributions/distribution.py\u001b[0m in \u001b[0;36m_call_log_prob\u001b[0;34m(self, value, name, **kwargs)\u001b[0m\n\u001b[1;32m    863\u001b[0m     \u001b[0;32mwith\u001b[0m \u001b[0mself\u001b[0m\u001b[0;34m.\u001b[0m\u001b[0m_name_and_control_scope\u001b[0m\u001b[0;34m(\u001b[0m\u001b[0mname\u001b[0m\u001b[0;34m,\u001b[0m \u001b[0mvalue\u001b[0m\u001b[0;34m,\u001b[0m \u001b[0mkwargs\u001b[0m\u001b[0;34m)\u001b[0m\u001b[0;34m:\u001b[0m\u001b[0;34m\u001b[0m\u001b[0;34m\u001b[0m\u001b[0m\n\u001b[1;32m    864\u001b[0m       \u001b[0;32mif\u001b[0m \u001b[0mhasattr\u001b[0m\u001b[0;34m(\u001b[0m\u001b[0mself\u001b[0m\u001b[0;34m,\u001b[0m \u001b[0;34m'_log_prob'\u001b[0m\u001b[0;34m)\u001b[0m\u001b[0;34m:\u001b[0m\u001b[0;34m\u001b[0m\u001b[0;34m\u001b[0m\u001b[0m\n\u001b[0;32m--> 865\u001b[0;31m         \u001b[0;32mreturn\u001b[0m \u001b[0mself\u001b[0m\u001b[0;34m.\u001b[0m\u001b[0m_log_prob\u001b[0m\u001b[0;34m(\u001b[0m\u001b[0mvalue\u001b[0m\u001b[0;34m,\u001b[0m \u001b[0;34m**\u001b[0m\u001b[0mkwargs\u001b[0m\u001b[0;34m)\u001b[0m\u001b[0;34m\u001b[0m\u001b[0;34m\u001b[0m\u001b[0m\n\u001b[0m\u001b[1;32m    866\u001b[0m       \u001b[0;32mif\u001b[0m \u001b[0mhasattr\u001b[0m\u001b[0;34m(\u001b[0m\u001b[0mself\u001b[0m\u001b[0;34m,\u001b[0m \u001b[0;34m'_prob'\u001b[0m\u001b[0;34m)\u001b[0m\u001b[0;34m:\u001b[0m\u001b[0;34m\u001b[0m\u001b[0;34m\u001b[0m\u001b[0m\n\u001b[1;32m    867\u001b[0m         \u001b[0;32mreturn\u001b[0m \u001b[0mtf\u001b[0m\u001b[0;34m.\u001b[0m\u001b[0mmath\u001b[0m\u001b[0;34m.\u001b[0m\u001b[0mlog\u001b[0m\u001b[0;34m(\u001b[0m\u001b[0mself\u001b[0m\u001b[0;34m.\u001b[0m\u001b[0m_prob\u001b[0m\u001b[0;34m(\u001b[0m\u001b[0mvalue\u001b[0m\u001b[0;34m,\u001b[0m \u001b[0;34m**\u001b[0m\u001b[0mkwargs\u001b[0m\u001b[0;34m)\u001b[0m\u001b[0;34m)\u001b[0m\u001b[0;34m\u001b[0m\u001b[0;34m\u001b[0m\u001b[0m\n",
      "\u001b[0;32m/opt/anaconda3/lib/python3.7/site-packages/tensorflow_probability/python/distributions/mixture_same_family.py\u001b[0m in \u001b[0;36m_log_prob\u001b[0;34m(self, x)\u001b[0m\n\u001b[1;32m    291\u001b[0m   \u001b[0;32mdef\u001b[0m \u001b[0m_log_prob\u001b[0m\u001b[0;34m(\u001b[0m\u001b[0mself\u001b[0m\u001b[0;34m,\u001b[0m \u001b[0mx\u001b[0m\u001b[0;34m)\u001b[0m\u001b[0;34m:\u001b[0m\u001b[0;34m\u001b[0m\u001b[0;34m\u001b[0m\u001b[0m\n\u001b[1;32m    292\u001b[0m     \u001b[0mx\u001b[0m \u001b[0;34m=\u001b[0m \u001b[0mself\u001b[0m\u001b[0;34m.\u001b[0m\u001b[0m_pad_sample_dims\u001b[0m\u001b[0;34m(\u001b[0m\u001b[0mx\u001b[0m\u001b[0;34m)\u001b[0m\u001b[0;34m\u001b[0m\u001b[0;34m\u001b[0m\u001b[0m\n\u001b[0;32m--> 293\u001b[0;31m     \u001b[0mlog_prob_x\u001b[0m \u001b[0;34m=\u001b[0m \u001b[0mself\u001b[0m\u001b[0;34m.\u001b[0m\u001b[0mcomponents_distribution\u001b[0m\u001b[0;34m.\u001b[0m\u001b[0mlog_prob\u001b[0m\u001b[0;34m(\u001b[0m\u001b[0mx\u001b[0m\u001b[0;34m)\u001b[0m  \u001b[0;31m# [S, B, k]\u001b[0m\u001b[0;34m\u001b[0m\u001b[0;34m\u001b[0m\u001b[0m\n\u001b[0m\u001b[1;32m    294\u001b[0m     log_mix_prob = tf.math.log_softmax(\n\u001b[1;32m    295\u001b[0m         self.mixture_distribution.logits_parameter(), axis=-1)  # [B, k]\n",
      "\u001b[0;32m/opt/anaconda3/lib/python3.7/site-packages/tensorflow_probability/python/distributions/distribution.py\u001b[0m in \u001b[0;36mlog_prob\u001b[0;34m(self, value, name, **kwargs)\u001b[0m\n\u001b[1;32m    881\u001b[0m         \u001b[0mvalues\u001b[0m \u001b[0mof\u001b[0m \u001b[0mtype\u001b[0m\u001b[0;31m \u001b[0m\u001b[0;31m`\u001b[0m\u001b[0mself\u001b[0m\u001b[0;34m.\u001b[0m\u001b[0mdtype\u001b[0m\u001b[0;31m`\u001b[0m\u001b[0;34m.\u001b[0m\u001b[0;34m\u001b[0m\u001b[0;34m\u001b[0m\u001b[0m\n\u001b[1;32m    882\u001b[0m     \"\"\"\n\u001b[0;32m--> 883\u001b[0;31m     \u001b[0;32mreturn\u001b[0m \u001b[0mself\u001b[0m\u001b[0;34m.\u001b[0m\u001b[0m_call_log_prob\u001b[0m\u001b[0;34m(\u001b[0m\u001b[0mvalue\u001b[0m\u001b[0;34m,\u001b[0m \u001b[0mname\u001b[0m\u001b[0;34m,\u001b[0m \u001b[0;34m**\u001b[0m\u001b[0mkwargs\u001b[0m\u001b[0;34m)\u001b[0m\u001b[0;34m\u001b[0m\u001b[0;34m\u001b[0m\u001b[0m\n\u001b[0m\u001b[1;32m    884\u001b[0m \u001b[0;34m\u001b[0m\u001b[0m\n\u001b[1;32m    885\u001b[0m   \u001b[0;32mdef\u001b[0m \u001b[0m_call_prob\u001b[0m\u001b[0;34m(\u001b[0m\u001b[0mself\u001b[0m\u001b[0;34m,\u001b[0m \u001b[0mvalue\u001b[0m\u001b[0;34m,\u001b[0m \u001b[0mname\u001b[0m\u001b[0;34m,\u001b[0m \u001b[0;34m**\u001b[0m\u001b[0mkwargs\u001b[0m\u001b[0;34m)\u001b[0m\u001b[0;34m:\u001b[0m\u001b[0;34m\u001b[0m\u001b[0;34m\u001b[0m\u001b[0m\n",
      "\u001b[0;32m/opt/anaconda3/lib/python3.7/site-packages/tensorflow_probability/python/distributions/distribution.py\u001b[0m in \u001b[0;36m_call_log_prob\u001b[0;34m(self, value, name, **kwargs)\u001b[0m\n\u001b[1;32m    863\u001b[0m     \u001b[0;32mwith\u001b[0m \u001b[0mself\u001b[0m\u001b[0;34m.\u001b[0m\u001b[0m_name_and_control_scope\u001b[0m\u001b[0;34m(\u001b[0m\u001b[0mname\u001b[0m\u001b[0;34m,\u001b[0m \u001b[0mvalue\u001b[0m\u001b[0;34m,\u001b[0m \u001b[0mkwargs\u001b[0m\u001b[0;34m)\u001b[0m\u001b[0;34m:\u001b[0m\u001b[0;34m\u001b[0m\u001b[0;34m\u001b[0m\u001b[0m\n\u001b[1;32m    864\u001b[0m       \u001b[0;32mif\u001b[0m \u001b[0mhasattr\u001b[0m\u001b[0;34m(\u001b[0m\u001b[0mself\u001b[0m\u001b[0;34m,\u001b[0m \u001b[0;34m'_log_prob'\u001b[0m\u001b[0;34m)\u001b[0m\u001b[0;34m:\u001b[0m\u001b[0;34m\u001b[0m\u001b[0;34m\u001b[0m\u001b[0m\n\u001b[0;32m--> 865\u001b[0;31m         \u001b[0;32mreturn\u001b[0m \u001b[0mself\u001b[0m\u001b[0;34m.\u001b[0m\u001b[0m_log_prob\u001b[0m\u001b[0;34m(\u001b[0m\u001b[0mvalue\u001b[0m\u001b[0;34m,\u001b[0m \u001b[0;34m**\u001b[0m\u001b[0mkwargs\u001b[0m\u001b[0;34m)\u001b[0m\u001b[0;34m\u001b[0m\u001b[0;34m\u001b[0m\u001b[0m\n\u001b[0m\u001b[1;32m    866\u001b[0m       \u001b[0;32mif\u001b[0m \u001b[0mhasattr\u001b[0m\u001b[0;34m(\u001b[0m\u001b[0mself\u001b[0m\u001b[0;34m,\u001b[0m \u001b[0;34m'_prob'\u001b[0m\u001b[0;34m)\u001b[0m\u001b[0;34m:\u001b[0m\u001b[0;34m\u001b[0m\u001b[0;34m\u001b[0m\u001b[0m\n\u001b[1;32m    867\u001b[0m         \u001b[0;32mreturn\u001b[0m \u001b[0mtf\u001b[0m\u001b[0;34m.\u001b[0m\u001b[0mmath\u001b[0m\u001b[0;34m.\u001b[0m\u001b[0mlog\u001b[0m\u001b[0;34m(\u001b[0m\u001b[0mself\u001b[0m\u001b[0;34m.\u001b[0m\u001b[0m_prob\u001b[0m\u001b[0;34m(\u001b[0m\u001b[0mvalue\u001b[0m\u001b[0;34m,\u001b[0m \u001b[0;34m**\u001b[0m\u001b[0mkwargs\u001b[0m\u001b[0;34m)\u001b[0m\u001b[0;34m)\u001b[0m\u001b[0;34m\u001b[0m\u001b[0;34m\u001b[0m\u001b[0m\n",
      "\u001b[0;32m/opt/anaconda3/lib/python3.7/site-packages/tensorflow_probability/python/internal/distribution_util.py\u001b[0m in \u001b[0;36m_fn\u001b[0;34m(*args, **kwargs)\u001b[0m\n\u001b[1;32m   1386\u001b[0m     \u001b[0;34m@\u001b[0m\u001b[0mfunctools\u001b[0m\u001b[0;34m.\u001b[0m\u001b[0mwraps\u001b[0m\u001b[0;34m(\u001b[0m\u001b[0mfn\u001b[0m\u001b[0;34m)\u001b[0m\u001b[0;34m\u001b[0m\u001b[0;34m\u001b[0m\u001b[0m\n\u001b[1;32m   1387\u001b[0m     \u001b[0;32mdef\u001b[0m \u001b[0m_fn\u001b[0m\u001b[0;34m(\u001b[0m\u001b[0;34m*\u001b[0m\u001b[0margs\u001b[0m\u001b[0;34m,\u001b[0m \u001b[0;34m**\u001b[0m\u001b[0mkwargs\u001b[0m\u001b[0;34m)\u001b[0m\u001b[0;34m:\u001b[0m\u001b[0;34m\u001b[0m\u001b[0;34m\u001b[0m\u001b[0m\n\u001b[0;32m-> 1388\u001b[0;31m       \u001b[0;32mreturn\u001b[0m \u001b[0mfn\u001b[0m\u001b[0;34m(\u001b[0m\u001b[0;34m*\u001b[0m\u001b[0margs\u001b[0m\u001b[0;34m,\u001b[0m \u001b[0;34m**\u001b[0m\u001b[0mkwargs\u001b[0m\u001b[0;34m)\u001b[0m\u001b[0;34m\u001b[0m\u001b[0;34m\u001b[0m\u001b[0m\n\u001b[0m\u001b[1;32m   1389\u001b[0m \u001b[0;34m\u001b[0m\u001b[0m\n\u001b[1;32m   1390\u001b[0m     \u001b[0;32mif\u001b[0m \u001b[0m_fn\u001b[0m\u001b[0;34m.\u001b[0m\u001b[0m__doc__\u001b[0m \u001b[0;32mis\u001b[0m \u001b[0;32mNone\u001b[0m\u001b[0;34m:\u001b[0m\u001b[0;34m\u001b[0m\u001b[0;34m\u001b[0m\u001b[0m\n",
      "\u001b[0;32m/opt/anaconda3/lib/python3.7/site-packages/tensorflow_probability/python/distributions/mvn_linear_operator.py\u001b[0m in \u001b[0;36m_log_prob\u001b[0;34m(self, x)\u001b[0m\n\u001b[1;32m    220\u001b[0m   \u001b[0;34m@\u001b[0m\u001b[0mdistribution_util\u001b[0m\u001b[0;34m.\u001b[0m\u001b[0mAppendDocstring\u001b[0m\u001b[0;34m(\u001b[0m\u001b[0m_mvn_sample_note\u001b[0m\u001b[0;34m)\u001b[0m\u001b[0;34m\u001b[0m\u001b[0;34m\u001b[0m\u001b[0m\n\u001b[1;32m    221\u001b[0m   \u001b[0;32mdef\u001b[0m \u001b[0m_log_prob\u001b[0m\u001b[0;34m(\u001b[0m\u001b[0mself\u001b[0m\u001b[0;34m,\u001b[0m \u001b[0mx\u001b[0m\u001b[0;34m)\u001b[0m\u001b[0;34m:\u001b[0m\u001b[0;34m\u001b[0m\u001b[0;34m\u001b[0m\u001b[0m\n\u001b[0;32m--> 222\u001b[0;31m     \u001b[0;32mreturn\u001b[0m \u001b[0msuper\u001b[0m\u001b[0;34m(\u001b[0m\u001b[0mMultivariateNormalLinearOperator\u001b[0m\u001b[0;34m,\u001b[0m \u001b[0mself\u001b[0m\u001b[0;34m)\u001b[0m\u001b[0;34m.\u001b[0m\u001b[0m_log_prob\u001b[0m\u001b[0;34m(\u001b[0m\u001b[0mx\u001b[0m\u001b[0;34m)\u001b[0m\u001b[0;34m\u001b[0m\u001b[0;34m\u001b[0m\u001b[0m\n\u001b[0m\u001b[1;32m    223\u001b[0m \u001b[0;34m\u001b[0m\u001b[0m\n\u001b[1;32m    224\u001b[0m   \u001b[0;34m@\u001b[0m\u001b[0mdistribution_util\u001b[0m\u001b[0;34m.\u001b[0m\u001b[0mAppendDocstring\u001b[0m\u001b[0;34m(\u001b[0m\u001b[0m_mvn_sample_note\u001b[0m\u001b[0;34m)\u001b[0m\u001b[0;34m\u001b[0m\u001b[0;34m\u001b[0m\u001b[0m\n",
      "\u001b[0;32m/opt/anaconda3/lib/python3.7/site-packages/tensorflow_probability/python/distributions/transformed_distribution.py\u001b[0m in \u001b[0;36m_log_prob\u001b[0;34m(self, y, **kwargs)\u001b[0m\n\u001b[1;32m    438\u001b[0m       return self._finish_log_prob_for_one_fiber(\n\u001b[1;32m    439\u001b[0m           \u001b[0my\u001b[0m\u001b[0;34m,\u001b[0m \u001b[0mx\u001b[0m\u001b[0;34m,\u001b[0m \u001b[0mildj\u001b[0m\u001b[0;34m,\u001b[0m \u001b[0mevent_ndims\u001b[0m\u001b[0;34m,\u001b[0m \u001b[0moverride_event_shape\u001b[0m\u001b[0;34m,\u001b[0m \u001b[0moverride_batch_shape\u001b[0m\u001b[0;34m,\u001b[0m\u001b[0;34m\u001b[0m\u001b[0;34m\u001b[0m\u001b[0m\n\u001b[0;32m--> 440\u001b[0;31m           base_is_scalar_batch, **distribution_kwargs)\n\u001b[0m\u001b[1;32m    441\u001b[0m \u001b[0;34m\u001b[0m\u001b[0m\n\u001b[1;32m    442\u001b[0m     lp_on_fibers = [\n",
      "\u001b[0;32m/opt/anaconda3/lib/python3.7/site-packages/tensorflow_probability/python/distributions/transformed_distribution.py\u001b[0m in \u001b[0;36m_finish_log_prob_for_one_fiber\u001b[0;34m(self, y, x, ildj, event_ndims, override_event_shape, override_batch_shape, base_is_scalar_batch, **distribution_kwargs)\u001b[0m\n\u001b[1;32m    458\u001b[0m       log_prob = tf.reduce_sum(\n\u001b[1;32m    459\u001b[0m           log_prob, axis=self._reduce_event_indices(\n\u001b[0;32m--> 460\u001b[0;31m               override_event_shape, override_batch_shape, base_is_scalar_batch))\n\u001b[0m\u001b[1;32m    461\u001b[0m     \u001b[0mlog_prob\u001b[0m \u001b[0;34m=\u001b[0m \u001b[0mlog_prob\u001b[0m \u001b[0;34m+\u001b[0m \u001b[0mtf\u001b[0m\u001b[0;34m.\u001b[0m\u001b[0mcast\u001b[0m\u001b[0;34m(\u001b[0m\u001b[0mildj\u001b[0m\u001b[0;34m,\u001b[0m \u001b[0mlog_prob\u001b[0m\u001b[0;34m.\u001b[0m\u001b[0mdtype\u001b[0m\u001b[0;34m)\u001b[0m\u001b[0;34m\u001b[0m\u001b[0;34m\u001b[0m\u001b[0m\n\u001b[1;32m    462\u001b[0m     \u001b[0;32mif\u001b[0m \u001b[0mself\u001b[0m\u001b[0;34m.\u001b[0m\u001b[0m_is_maybe_event_override\u001b[0m \u001b[0;32mand\u001b[0m \u001b[0misinstance\u001b[0m\u001b[0;34m(\u001b[0m\u001b[0mevent_ndims\u001b[0m\u001b[0;34m,\u001b[0m \u001b[0mint\u001b[0m\u001b[0;34m)\u001b[0m\u001b[0;34m:\u001b[0m\u001b[0;34m\u001b[0m\u001b[0;34m\u001b[0m\u001b[0m\n",
      "\u001b[0;32m/opt/anaconda3/lib/python3.7/site-packages/tensorflow_probability/python/distributions/transformed_distribution.py\u001b[0m in \u001b[0;36m_reduce_event_indices\u001b[0;34m(self, override_event_shape, override_batch_shape, base_is_scalar_batch)\u001b[0m\n\u001b[1;32m    369\u001b[0m     \u001b[0moverride_event_ndims\u001b[0m \u001b[0;34m=\u001b[0m \u001b[0mprefer_static\u001b[0m\u001b[0;34m.\u001b[0m\u001b[0mrank_from_shape\u001b[0m\u001b[0;34m(\u001b[0m\u001b[0moverride_event_shape\u001b[0m\u001b[0;34m)\u001b[0m\u001b[0;34m\u001b[0m\u001b[0;34m\u001b[0m\u001b[0m\n\u001b[1;32m    370\u001b[0m     return prefer_static.range(\n\u001b[0;32m--> 371\u001b[0;31m         rotate_ndims - override_event_ndims, rotate_ndims)\n\u001b[0m\u001b[1;32m    372\u001b[0m \u001b[0;34m\u001b[0m\u001b[0m\n\u001b[1;32m    373\u001b[0m   \u001b[0;32mdef\u001b[0m \u001b[0m_sample_n\u001b[0m\u001b[0;34m(\u001b[0m\u001b[0mself\u001b[0m\u001b[0;34m,\u001b[0m \u001b[0mn\u001b[0m\u001b[0;34m,\u001b[0m \u001b[0mseed\u001b[0m\u001b[0;34m=\u001b[0m\u001b[0;32mNone\u001b[0m\u001b[0;34m,\u001b[0m \u001b[0;34m**\u001b[0m\u001b[0mdistribution_kwargs\u001b[0m\u001b[0;34m)\u001b[0m\u001b[0;34m:\u001b[0m\u001b[0;34m\u001b[0m\u001b[0;34m\u001b[0m\u001b[0m\n",
      "\u001b[0;31mKeyboardInterrupt\u001b[0m: "
     ]
    }
   ],
   "source": [
    "all_res = []\n",
    "summary_res = []\n",
    "for i_run in range(n_runs):\n",
    "    print('===============================')\n",
    "    print('======Run {0}======'.format(i_run))\n",
    "    print('===============================')\n",
    "    sd_run = utils.set_seed_np_tf(sd_run_list[i_run])\n",
    "    print(\"Seed : \", sd_run)\n",
    "    sd_restart_list = list(np.random.choice(10000, max_restart, replace=False))\n",
    "    run_folder = fp_save_models+'/run'+str(i_run)\n",
    "    utils.create_folder(run_folder+ '/final') #Same as last restart\n",
    "    #==Get data \n",
    "    A,B,X_A,X_B,B_shuff,B_idx_map = get_data(n_systems,n_concepts,emb_dim,noise,n_epicentres,linearsep,sd_run,bplot=True)\n",
    "    ceil_acc_1, ceil_acc_5, ceil_acc_10, ceil_acc_half = utils.mapping_accuracy(X_A, X_B)\n",
    "    print(template_ceil.format(ceil_acc_1, ceil_acc_5, ceil_acc_10, ceil_acc_half))\n",
    "    thresh_acc = ceil_acc_1 * 0.9\n",
    "    print(\"    Threshold accuracy : %.2f\" %thresh_acc )\n",
    "    x = A\n",
    "    y = B_shuff\n",
    "    y_idx_map = B_idx_map\n",
    "#     x = tf.convert_to_tensor(x, dtype = np.float32()) #Does not work on local CPU\n",
    "#     y = tf.convert_to_tensor(y, dtype = np.float32()) #Does not work on local CPU\n",
    "    #Save data\n",
    "    with open(str(run_folder)+'/x.pickle', 'wb') as handle:\n",
    "        pickle.dump(x, handle, protocol=pickle.HIGHEST_PROTOCOL)\n",
    "    with open(str(run_folder)+'/y.pickle', 'wb') as handle:\n",
    "        pickle.dump(y, handle, protocol=pickle.HIGHEST_PROTOCOL)\n",
    "    #print(x.shape,y.shape)\n",
    "    #==Loop through restarts\n",
    "    #=init best\n",
    "    loss_best = np.inf\n",
    "    best_model_f = ResNet2(emb_dim, emb_dim)\n",
    "    best_model_g = ResNet2(emb_dim, emb_dim)\n",
    "    # best_model_f = MLP(emb_dim, emb_dim)\n",
    "    # best_model_g = MLP(emb_dim, emb_dim)\n",
    "    dist_loss_g_best = np.inf\n",
    "    dist_loss_f_best = np.inf\n",
    "    #=Loop\n",
    "    last_restarts = []\n",
    "    restarts_dict_list = []\n",
    "    acc_f1, acc_g1 = 0,0\n",
    "    last_restart = -1\n",
    "    for i_restart in tqdm(range(max_restart)):\n",
    "        sd_restart = utils.set_seed_np_tf(sd_restart_list[i_restart])\n",
    "        print('======Restart {0}======'.format(i_restart))\n",
    "        #==init models\n",
    "        thresh = 0 #if 0, always a new model except if use_best_model=True. \n",
    "        force_best_model = False #(i_restart>=max_restart-10) #if True, use best mode, else, random depends on thresh\n",
    "        model_f,new_f = init_model_ResNet2(force_best_model,thresh,i_restart,sd_restart,emb_dim,best_model_f)\n",
    "        model_g,new_g = init_model_ResNet2(force_best_model,thresh,i_restart,sd_restart,emb_dim,best_model_g)\n",
    "        # model_f,new_f = init_model(force_best_model,thresh,i_restart,sd_restart,emb_dim,best_model_f)\n",
    "        # model_g,new_g = init_model(force_best_model,thresh,i_restart,sd_restart,emb_dim,best_model_g)\n",
    "        if new_f : print('    New model_f')\n",
    "        if new_g : print('    New model_g')\n",
    "        #==Train\n",
    "        model_f,model_g,epochs_dict_list = train_models_one_restart(i_run,i_restart,sd_restart,\n",
    "                                                                    x,y,y_idx_map,model_f,model_g,max_epoch,n_batch,X_A,X_B)\n",
    "        #Get final losses and accuracies\n",
    "        last_epoch_dict = epochs_dict_list[-1]\n",
    "        loss_total, cycle_loss, dist_loss_f, dist_loss_g = utils.get_losses_from_dict(last_epoch_dict)\n",
    "        acc_f1, acc_f5, acc_f10, acc_fhalf,acc_g1, acc_g5, acc_g10, acc_ghalf = utils.get_acc_from_dict(last_epoch_dict)\n",
    "        #Save best model\n",
    "        best_f,best_g = False,False\n",
    "        if dist_loss_f < dist_loss_f_best:\n",
    "                dist_loss_f_best = dist_loss_f\n",
    "                best_model_f = model_f\n",
    "                best_f = True\n",
    "                print('    Beat best model_f.')\n",
    "        if dist_loss_g < dist_loss_g_best:\n",
    "            dist_loss_g_best = dist_loss_g\n",
    "            best_model_g = model_g\n",
    "            best_g = True\n",
    "            print('    Beat best model_g.')  \n",
    "        #Add and Store data\n",
    "        for i in range(len(epochs_dict_list)):\n",
    "            epochs_dict_list[i]['new_f']=new_f\n",
    "            epochs_dict_list[i]['new_g']=new_g\n",
    "            epochs_dict_list[i]['best_f']=best_f\n",
    "            epochs_dict_list[i]['best_g']=best_g\n",
    "        restarts_dict_list.append(epochs_dict_list)\n",
    "        #====Save restart model\n",
    "        restart_folder = run_folder + '/restart' + str(i_restart)\n",
    "        utils.create_folder(restart_folder)\n",
    "        utils.save_models(model_f,model_g,restart_folder)\n",
    "        #====Breaking loop\n",
    "        if (acc_f1>thresh_acc and acc_g1>thresh_acc) and last_restart==-1: #last_restart = -1 if this does not happen\n",
    "            last_restart = i_restart\n",
    "            print(\"%d restarts necessary\" %(i_restart+1))\n",
    "            #break\n",
    "    if last_restart==-1: \n",
    "      last_restart = max_restart\n",
    "    all_dict_entries = utils.flatten_list_of_list(restarts_dict_list) \n",
    "    all_res.append(all_dict_entries)\n",
    "    #STORE FINAL RESULTS\n",
    "    summary_dict = {'experiment_name':experiment_name,'experiment_id':experiment_id,'sd_run':sd_run,'last_restart': last_restart,'loss_total':loss_total,'cycle_loss':cycle_loss,\n",
    "                    'dist_loss_f':dist_loss_f,'dist_loss_g':dist_loss_g,\n",
    "                    'acc_f1':acc_f1, 'acc_f5':acc_f5, 'acc_f10':acc_f10, 'acc_fhalf':acc_fhalf,\n",
    "                    'acc_g1':acc_g1, 'acc_g5':acc_g5, 'acc_g10':acc_g10, 'acc_ghalf':acc_ghalf,\n",
    "                    'ceil_acc_1':ceil_acc_1, 'ceil_acc_5':ceil_acc_5, 'ceil_acc_10':ceil_acc_10, 'ceil_acc_half':ceil_acc_half}\n",
    "    summary_res.append(summary_dict)\n",
    "    print(print('======Run Summary======'))\n",
    "    print(display(pd.DataFrame([summary_dict])))\n",
    "    #=====SAVE RUN MODEL====\n",
    "    utils.save_models(model_f,model_g,run_folder+ '/final')\n",
    "    #Save all_results after each run (will replace existing file). In case we finish a run early.\n",
    "    with open(str(fp_save_runs)+'/all_res.pickle', 'wb') as handle:\n",
    "        pickle.dump(all_res, handle, protocol=pickle.HIGHEST_PROTOCOL)\n",
    "    with open(str(fp_save_runs)+'/summary_res.pickle', 'wb') as handle:\n",
    "        pickle.dump(summary_res, handle, protocol=pickle.HIGHEST_PROTOCOL)\n",
    "print('=========================')\n",
    "print('=======FINAL SUMMARY=====')\n",
    "print('=========================')\n",
    "df_summary = pd.DataFrame(summary_res)\n",
    "display(df_summary)"
   ]
  },
  {
   "cell_type": "code",
   "execution_count": null,
   "metadata": {
    "colab": {},
    "colab_type": "code",
    "id": "K-sQ21sADOSg"
   },
   "outputs": [],
   "source": [
    "#### Set a number of restart / a breaking point when high accuracy is achieved. Measure of success is the number of restart\n",
    "### Need a measure for successful algo. "
   ]
  },
  {
   "cell_type": "code",
   "execution_count": null,
   "metadata": {
    "colab": {},
    "colab_type": "code",
    "id": "tVUHgLDGegp-"
   },
   "outputs": [],
   "source": []
  }
 ],
 "metadata": {
  "accelerator": "GPU",
  "colab": {
   "collapsed_sections": [],
   "name": "Synthetic_same_dim_resnet.ipynb",
   "provenance": []
  },
  "kernelspec": {
   "display_name": "Python 3",
   "language": "python",
   "name": "python3"
  },
  "language_info": {
   "codemirror_mode": {
    "name": "ipython",
    "version": 3
   },
   "file_extension": ".py",
   "mimetype": "text/x-python",
   "name": "python",
   "nbconvert_exporter": "python",
   "pygments_lexer": "ipython3",
   "version": "3.7.4"
  },
  "widgets": {
   "application/vnd.jupyter.widget-state+json": {
    "07bdfeab3ba44a92a8e86cf72bd7b8d5": {
     "model_module": "@jupyter-widgets/controls",
     "model_name": "FloatProgressModel",
     "state": {
      "_dom_classes": [],
      "_model_module": "@jupyter-widgets/controls",
      "_model_module_version": "1.5.0",
      "_model_name": "FloatProgressModel",
      "_view_count": null,
      "_view_module": "@jupyter-widgets/controls",
      "_view_module_version": "1.5.0",
      "_view_name": "ProgressView",
      "bar_style": "danger",
      "description": " 60%",
      "description_tooltip": null,
      "layout": "IPY_MODEL_3547c4e8f9214a59ad91a5a682467921",
      "max": 5,
      "min": 0,
      "orientation": "horizontal",
      "style": "IPY_MODEL_79e96e6c05ca449f81c320b0b5b30fa9",
      "value": 3
     }
    },
    "306015ea7c53493e892491f6c8968c9e": {
     "model_module": "@jupyter-widgets/controls",
     "model_name": "HBoxModel",
     "state": {
      "_dom_classes": [],
      "_model_module": "@jupyter-widgets/controls",
      "_model_module_version": "1.5.0",
      "_model_name": "HBoxModel",
      "_view_count": null,
      "_view_module": "@jupyter-widgets/controls",
      "_view_module_version": "1.5.0",
      "_view_name": "HBoxView",
      "box_style": "",
      "children": [
       "IPY_MODEL_07bdfeab3ba44a92a8e86cf72bd7b8d5",
       "IPY_MODEL_af36fd542aa54384b75b1214402b2ab8"
      ],
      "layout": "IPY_MODEL_847ad8ea9d5d4cadb49bdcaf69ea670c"
     }
    },
    "3547c4e8f9214a59ad91a5a682467921": {
     "model_module": "@jupyter-widgets/base",
     "model_name": "LayoutModel",
     "state": {
      "_model_module": "@jupyter-widgets/base",
      "_model_module_version": "1.2.0",
      "_model_name": "LayoutModel",
      "_view_count": null,
      "_view_module": "@jupyter-widgets/base",
      "_view_module_version": "1.2.0",
      "_view_name": "LayoutView",
      "align_content": null,
      "align_items": null,
      "align_self": null,
      "border": null,
      "bottom": null,
      "display": null,
      "flex": null,
      "flex_flow": null,
      "grid_area": null,
      "grid_auto_columns": null,
      "grid_auto_flow": null,
      "grid_auto_rows": null,
      "grid_column": null,
      "grid_gap": null,
      "grid_row": null,
      "grid_template_areas": null,
      "grid_template_columns": null,
      "grid_template_rows": null,
      "height": null,
      "justify_content": null,
      "justify_items": null,
      "left": null,
      "margin": null,
      "max_height": null,
      "max_width": null,
      "min_height": null,
      "min_width": null,
      "object_fit": null,
      "object_position": null,
      "order": null,
      "overflow": null,
      "overflow_x": null,
      "overflow_y": null,
      "padding": null,
      "right": null,
      "top": null,
      "visibility": null,
      "width": null
     }
    },
    "79e96e6c05ca449f81c320b0b5b30fa9": {
     "model_module": "@jupyter-widgets/controls",
     "model_name": "ProgressStyleModel",
     "state": {
      "_model_module": "@jupyter-widgets/controls",
      "_model_module_version": "1.5.0",
      "_model_name": "ProgressStyleModel",
      "_view_count": null,
      "_view_module": "@jupyter-widgets/base",
      "_view_module_version": "1.2.0",
      "_view_name": "StyleView",
      "bar_color": null,
      "description_width": "initial"
     }
    },
    "847ad8ea9d5d4cadb49bdcaf69ea670c": {
     "model_module": "@jupyter-widgets/base",
     "model_name": "LayoutModel",
     "state": {
      "_model_module": "@jupyter-widgets/base",
      "_model_module_version": "1.2.0",
      "_model_name": "LayoutModel",
      "_view_count": null,
      "_view_module": "@jupyter-widgets/base",
      "_view_module_version": "1.2.0",
      "_view_name": "LayoutView",
      "align_content": null,
      "align_items": null,
      "align_self": null,
      "border": null,
      "bottom": null,
      "display": null,
      "flex": null,
      "flex_flow": null,
      "grid_area": null,
      "grid_auto_columns": null,
      "grid_auto_flow": null,
      "grid_auto_rows": null,
      "grid_column": null,
      "grid_gap": null,
      "grid_row": null,
      "grid_template_areas": null,
      "grid_template_columns": null,
      "grid_template_rows": null,
      "height": null,
      "justify_content": null,
      "justify_items": null,
      "left": null,
      "margin": null,
      "max_height": null,
      "max_width": null,
      "min_height": null,
      "min_width": null,
      "object_fit": null,
      "object_position": null,
      "order": null,
      "overflow": null,
      "overflow_x": null,
      "overflow_y": null,
      "padding": null,
      "right": null,
      "top": null,
      "visibility": null,
      "width": null
     }
    },
    "af36fd542aa54384b75b1214402b2ab8": {
     "model_module": "@jupyter-widgets/controls",
     "model_name": "HTMLModel",
     "state": {
      "_dom_classes": [],
      "_model_module": "@jupyter-widgets/controls",
      "_model_module_version": "1.5.0",
      "_model_name": "HTMLModel",
      "_view_count": null,
      "_view_module": "@jupyter-widgets/controls",
      "_view_module_version": "1.5.0",
      "_view_name": "HTMLView",
      "description": "",
      "description_tooltip": null,
      "layout": "IPY_MODEL_fba0704b2ff344eaa9fb4b23f666611d",
      "placeholder": "​",
      "style": "IPY_MODEL_b65fc4b196a241e5be932fc520ee3ed3",
      "value": " 3/5 [00:20&lt;00:13,  6.88s/it]"
     }
    },
    "b65fc4b196a241e5be932fc520ee3ed3": {
     "model_module": "@jupyter-widgets/controls",
     "model_name": "DescriptionStyleModel",
     "state": {
      "_model_module": "@jupyter-widgets/controls",
      "_model_module_version": "1.5.0",
      "_model_name": "DescriptionStyleModel",
      "_view_count": null,
      "_view_module": "@jupyter-widgets/base",
      "_view_module_version": "1.2.0",
      "_view_name": "StyleView",
      "description_width": ""
     }
    },
    "fba0704b2ff344eaa9fb4b23f666611d": {
     "model_module": "@jupyter-widgets/base",
     "model_name": "LayoutModel",
     "state": {
      "_model_module": "@jupyter-widgets/base",
      "_model_module_version": "1.2.0",
      "_model_name": "LayoutModel",
      "_view_count": null,
      "_view_module": "@jupyter-widgets/base",
      "_view_module_version": "1.2.0",
      "_view_name": "LayoutView",
      "align_content": null,
      "align_items": null,
      "align_self": null,
      "border": null,
      "bottom": null,
      "display": null,
      "flex": null,
      "flex_flow": null,
      "grid_area": null,
      "grid_auto_columns": null,
      "grid_auto_flow": null,
      "grid_auto_rows": null,
      "grid_column": null,
      "grid_gap": null,
      "grid_row": null,
      "grid_template_areas": null,
      "grid_template_columns": null,
      "grid_template_rows": null,
      "height": null,
      "justify_content": null,
      "justify_items": null,
      "left": null,
      "margin": null,
      "max_height": null,
      "max_width": null,
      "min_height": null,
      "min_width": null,
      "object_fit": null,
      "object_position": null,
      "order": null,
      "overflow": null,
      "overflow_x": null,
      "overflow_y": null,
      "padding": null,
      "right": null,
      "top": null,
      "visibility": null,
      "width": null
     }
    }
   }
  }
 },
 "nbformat": 4,
 "nbformat_minor": 1
}
