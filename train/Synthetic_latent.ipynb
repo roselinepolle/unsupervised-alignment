{
 "cells": [
  {
   "cell_type": "code",
   "execution_count": 54,
   "metadata": {},
   "outputs": [],
   "source": [
    "experiment_name = 'test_latent'"
   ]
  },
  {
   "cell_type": "markdown",
   "metadata": {},
   "source": [
    "# Colab settings"
   ]
  },
  {
   "cell_type": "code",
   "execution_count": 55,
   "metadata": {},
   "outputs": [],
   "source": [
    "# #Mount gdrive\n",
    "# from google.colab import drive\n",
    "# drive.mount('/content/gdrive')"
   ]
  },
  {
   "cell_type": "markdown",
   "metadata": {},
   "source": [
    "# Imports / Settings"
   ]
  },
  {
   "cell_type": "code",
   "execution_count": 56,
   "metadata": {},
   "outputs": [],
   "source": [
    "#Paths\n",
    "import os\n",
    "from pathlib import Path\n",
    "fp_repo = \"/Users/roseline/Docs/AI/GITHUB/unsupervised-alignment\"\n",
    "#fp_repo = '/content/gdrive/My Drive/unsupervised-alignment-team-master'\n",
    "fp_intersect = fp_repo / Path('python','assets','intersect')\n",
    "fp_save = fp_repo / Path('save')\n",
    "os.chdir(fp_repo / Path('python'))"
   ]
  },
  {
   "cell_type": "code",
   "execution_count": 57,
   "metadata": {},
   "outputs": [],
   "source": [
    "import pickle\n",
    "import numpy as np\n",
    "import matplotlib.pyplot as plt\n",
    "import tensorflow as tf\n",
    "import scipy as sp\n",
    "from tqdm.notebook import tqdm\n",
    "import pandas as pd\n",
    "import uuid\n",
    "#Custom modules\n",
    "import embeddings as emb\n",
    "import aligners \n",
    "import utils \n",
    "import models\n",
    "import losses\n",
    "import train\n",
    "#KERAS\n",
    "import keras\n",
    "import tensorflow as tf"
   ]
  },
  {
   "cell_type": "code",
   "execution_count": 58,
   "metadata": {},
   "outputs": [
    {
     "name": "stdout",
     "output_type": "stream",
     "text": [
      "False\n"
     ]
    }
   ],
   "source": [
    "def gpu_avail():\n",
    "  is_avail = True\n",
    "  device_name = tf.test.gpu_device_name()\n",
    "  if device_name != '/device:GPU:0':\n",
    "    is_avail = False\n",
    "  return is_avail  \n",
    "print(gpu_avail())\n",
    "# tf.debugging.set_log_device_placement(True)"
   ]
  },
  {
   "cell_type": "markdown",
   "metadata": {},
   "source": [
    "# Parameters"
   ]
  },
  {
   "cell_type": "code",
   "execution_count": 93,
   "metadata": {},
   "outputs": [
    {
     "name": "stdout",
     "output_type": "stream",
     "text": [
      "/Users/roseline/Docs/UCL/Projects/B.Roads/B.Roads code/Fork/unsupervised-alignment-team-master/save/test_latent_5\n"
     ]
    },
    {
     "data": {
      "text/html": [
       "<div>\n",
       "<style scoped>\n",
       "    .dataframe tbody tr th:only-of-type {\n",
       "        vertical-align: middle;\n",
       "    }\n",
       "\n",
       "    .dataframe tbody tr th {\n",
       "        vertical-align: top;\n",
       "    }\n",
       "\n",
       "    .dataframe thead th {\n",
       "        text-align: right;\n",
       "    }\n",
       "</style>\n",
       "<table border=\"1\" class=\"dataframe\">\n",
       "  <thead>\n",
       "    <tr style=\"text-align: right;\">\n",
       "      <th></th>\n",
       "      <th>experiment_name</th>\n",
       "      <th>experiment_id</th>\n",
       "      <th>n_systems</th>\n",
       "      <th>n_concepts</th>\n",
       "      <th>noise</th>\n",
       "      <th>emb_dim</th>\n",
       "      <th>n_epicentres</th>\n",
       "      <th>linearsep</th>\n",
       "      <th>n_runs</th>\n",
       "      <th>max_restart</th>\n",
       "      <th>max_epoch</th>\n",
       "      <th>batch_size</th>\n",
       "      <th>gmm_scale</th>\n",
       "      <th>loss_distr_scale</th>\n",
       "      <th>loss_cycle_scale</th>\n",
       "      <th>lr</th>\n",
       "    </tr>\n",
       "  </thead>\n",
       "  <tbody>\n",
       "    <tr>\n",
       "      <th>0</th>\n",
       "      <td>test_latent</td>\n",
       "      <td>00655bd4-6802-490a-8b8e-6dcf3e9f5bab</td>\n",
       "      <td>2</td>\n",
       "      <td>200</td>\n",
       "      <td>0.001</td>\n",
       "      <td>2</td>\n",
       "      <td>1</td>\n",
       "      <td>1</td>\n",
       "      <td>5</td>\n",
       "      <td>10</td>\n",
       "      <td>30</td>\n",
       "      <td>100</td>\n",
       "      <td>0.01</td>\n",
       "      <td>1.0</td>\n",
       "      <td>10000.0</td>\n",
       "      <td>0.001</td>\n",
       "    </tr>\n",
       "  </tbody>\n",
       "</table>\n",
       "</div>"
      ],
      "text/plain": [
       "  experiment_name                         experiment_id  n_systems  \\\n",
       "0     test_latent  00655bd4-6802-490a-8b8e-6dcf3e9f5bab          2   \n",
       "\n",
       "   n_concepts  noise  emb_dim  n_epicentres  linearsep  n_runs  max_restart  \\\n",
       "0         200  0.001        2             1          1       5           10   \n",
       "\n",
       "   max_epoch  batch_size  gmm_scale  loss_distr_scale  loss_cycle_scale     lr  \n",
       "0         30         100       0.01               1.0           10000.0  0.001  "
      ]
     },
     "metadata": {},
     "output_type": "display_data"
    }
   ],
   "source": [
    "#===PARAMETERS===\\\n",
    "override = False\n",
    "sd = 56 #This should make the subsequend rd seed generation reproducible\n",
    "tf.random.set_seed(sd)\n",
    "np.random.seed(sd)\n",
    "#=Synthetic data\n",
    "n_systems = 2\n",
    "n_concepts = 200\n",
    "noise = 0.001\n",
    "emb_dim = 2\n",
    "n_epicentres = 1\n",
    "linearsep = 1\n",
    "#=Neural net\n",
    "n_runs = 5\n",
    "max_restart = 10 #10 last restarts to fine tune best\n",
    "max_epoch = 30\n",
    "batch_size = np.minimum(100, n_concepts) #64/100\n",
    "#max_patience = 5\n",
    "#=losses\n",
    "gmm_scale = 0.01\n",
    "loss_distr_scale = 1.0\n",
    "loss_cycle_scale = 10000.0\n",
    "#=Define models / optimizer/losses\n",
    "lr = 0.001\n",
    "optimizer = tf.keras.optimizers.Adam(learning_rate=lr)\n",
    "#==SETUP=====\n",
    "template_ceil = '    Ceiling\\n    Accuracy 1: {0:.2f} 5: {1:.2f} 10: {2:.2f} Half: {3:.2f}\\n'\n",
    "template_loss = '    Epoch {0} Loss | total: {1:.5g} | cycle: {2:.3g} | f_dist: {3:.3g} | g_dist: {4:.3g}'\n",
    "template_acc = '{0} = | 1: {1:.2f} | 5: {2:.2f} | 10: {3:.2f} | half: {4:.2f}'\n",
    "#template_res = '{0} = | f1: {1:.2f} | fhalf: {2:.2f} | g1: {3:.2f} | ghalf: {4:.2f} | total: {5:.2f} cycle: {6:.2f} | f_dist: {7:.2f} | g_dist: {8:.2f} '\n",
    "template_res = '{0} = | f1: {1:.2f} | fhalf: {2:.2f} | total: {3:.2f} cycle: {4:.2f} | dist: {5:.2f} '\n",
    "n_batch = int(np.ceil(n_concepts / batch_size))\n",
    "#==Set folders to save results and models===\n",
    "fp_save_runs,fp_save_models = utils.create_save_folder(fp_save,override,n_systems,n_concepts,noise,emb_dim,\n",
    "                                                 n_epicentres,linearsep,max_restart,max_epoch,batch_size,name = experiment_name)\n",
    "print(fp_save_runs)\n",
    "#===Get seed lists\n",
    "sd_run_list = list(np.random.choice(10000, n_runs, replace=False))\n",
    "#===Save params\n",
    "experiment_id = uuid.uuid4()\n",
    "dict_params = {'experiment_name':experiment_name,'experiment_id':experiment_id,'n_systems':n_systems,'n_concepts':n_concepts,'noise':noise,'emb_dim':emb_dim,'n_epicentres':n_epicentres,'linearsep':linearsep,\n",
    "               'n_runs':n_runs,'max_restart':max_restart,'max_epoch':max_epoch,'batch_size':batch_size,'gmm_scale':gmm_scale,'loss_distr_scale':loss_distr_scale,\n",
    "               'loss_cycle_scale':loss_cycle_scale,'lr':lr}\n",
    "with open(str(fp_save_runs)+'/dict_params.pickle', 'wb') as handle:\n",
    "  pickle.dump(dict_params, handle, protocol=pickle.HIGHEST_PROTOCOL)\n",
    "display(pd.DataFrame([dict_params]))"
   ]
  },
  {
   "cell_type": "markdown",
   "metadata": {},
   "source": [
    "# Prepare synthetic data"
   ]
  },
  {
   "cell_type": "code",
   "execution_count": 94,
   "metadata": {},
   "outputs": [
    {
     "data": {
      "image/png": "[encoded data removed]",
      "text/plain": [
       "<Figure size 432x288 with 2 Axes>"
      ]
     },
     "metadata": {
      "needs_background": "light"
     },
     "output_type": "display_data"
    },
    {
     "name": "stdout",
     "output_type": "stream",
     "text": [
      "    Ceiling\n",
      "    Accuracy 1: 1.00 5: 1.00 10: 1.00 Half: 1.00\n",
      "\n"
     ]
    }
   ],
   "source": [
    "def get_data(n_systems,n_concepts,emb_dim,noise,n_epicentres,linearsep,sd,bplot=True):\n",
    "    #Get systems of embeddings (as np arrays, float32)\n",
    "    systems, noisy_Xs = emb.get_N_systems(n_systems = n_systems, noise_size = noise,rotation=True,plot=bplot, \n",
    "                                      num_concepts=n_concepts,n_dim=emb_dim,n_epicentres =n_epicentres,linearsep =linearsep,seed = sd)\n",
    "    X_A, X_B = noisy_Xs\n",
    "    A, B = systems\n",
    "    #Shuffle data\n",
    "    A_shuff,A_shuff_idx, A_idx_map = utils.shuffle_system(A)\n",
    "    B_shuff,B_shuff_idx, B_idx_map = utils.shuffle_system(B)\n",
    "    # Verify mapping to be safe.\n",
    "    np.testing.assert_array_equal(A, A_shuff[A_idx_map,:])\n",
    "    np.testing.assert_array_equal(B, B_shuff[B_idx_map,:])\n",
    "    return A,B,X_A,X_B,B_shuff,B_idx_map\n",
    "A,B,X_A,X_B,B_shuff,B_idx_map = get_data(n_systems,n_concepts,emb_dim,noise,n_epicentres,linearsep,sd,bplot=True)\n",
    "# Determine ceiling performance.\n",
    "acc_1, acc_5, acc_10, acc_half = utils.mapping_accuracy(X_A, X_B)\n",
    "print(template_ceil.format(acc_1, acc_5, acc_10, acc_half))"
   ]
  },
  {
   "cell_type": "markdown",
   "metadata": {},
   "source": [
    "# train steps"
   ]
  },
  {
   "cell_type": "code",
   "execution_count": 95,
   "metadata": {},
   "outputs": [],
   "source": [
    "def train_batch_step(A_batch, B_batch,loss_cycle_scale):\n",
    "#def train_batch_step(A_batch, B_batch, C_batch):\n",
    "    \"\"\"Training function for batch step (pointwise loss)\"\"\"\n",
    "\n",
    "    with tf.GradientTape(persistent=True) as tape_pointwise:\n",
    "\n",
    "        #=== Encode/decode all with their own encoders\n",
    "        encoded_A,decoded_A = Xencode_Xdecode(A_batch,A_encoder,A_decoder)\n",
    "        encoded_B,decoded_B = Xencode_Xdecode(B_batch,B_encoder,B_decoder)\n",
    "        #encoded_C,decoded_C = encode_decode(C_batch,C_encoder,C_decoder)\n",
    "        # Self loss terms\n",
    "        self_lossA = losses.flex_cycle_loss([A_batch], [decoded_A])\n",
    "        self_lossB = losses.flex_cycle_loss([B_batch], [decoded_B])\n",
    "        #self_lossC = losses.flex_cycle_loss([C_batch], [decoded_C])\n",
    "\n",
    "        #=== Decode/Encode each with another decoder/encoder + re-decode with own decoder\n",
    "        decode_revertab = Ydecode_Yencode_Xdecode(encoded_A,B_decoder,B_encoder,A_decoder)\n",
    "        decode_revertba = Ydecode_Yencode_Xdecode(encoded_B,A_decoder,A_encoder,B_decoder)\n",
    "#             decode_revertac = Ydecode_Yencode_Xdecode(encoded_A,C_decoder,C_encoder,A_decoder)\n",
    "#             decode_revertca = Ydecode_Yencode_Xdecode(encoded_C,A_decoder,A_encoder,C_decoder)\n",
    "#             decode_revertbc = Ydecode_Yencode_Xdecode(encoded_B,C_decoder,C_encoder,B_decoder)\n",
    "#             decode_revertcb = Ydecode_Yencode_Xdecode(encoded_C,B_decoder,B_encoder,C_decoder)\n",
    "        # Calculate loss terms from error in cycle via other system\n",
    "        loss_ab = losses.flex_cycle_loss([A_batch], [decode_revertab])\n",
    "        #loss_ac = losses.flex_cycle_loss([A_batch], [decode_revertac])\n",
    "        loss_1 = loss_ab #+ loss_ac\n",
    "        #loss_bc = losses.flex_cycle_loss([B_batch], [decode_revertbc])\n",
    "        loss_ba = losses.flex_cycle_loss([B_batch], [decode_revertba])\n",
    "        loss_2 = loss_ba #+ loss_bc\n",
    "        #loss_ca = losses.flex_cycle_loss([C_batch], [decode_revertca])\n",
    "        #loss_cb = losses.flex_cycle_loss([C_batch], [decode_revertcb])\n",
    "        #loss_3 = loss_ca + loss_cb\n",
    "\n",
    "        #===Total loss\n",
    "        self_loss = self_lossA + self_lossB #+ self_lossC\n",
    "        self_loss_list = [self_lossA, self_lossB] #, self_lossC]\n",
    "        cycle_loss = loss_1 + loss_2 #+ loss_3\n",
    "        cycle_loss_list = [loss_ab,loss_ba]\n",
    "        pointwise_loss = loss_cycle_scale * (self_loss + cycle_loss) \n",
    "\n",
    "    # gradients calculated based on the tape above\n",
    "    gradients_a = tape_pointwise.gradient(pointwise_loss, A_encoder.trainable_variables)\n",
    "    gradients_b = tape_pointwise.gradient(pointwise_loss, B_encoder.trainable_variables)\n",
    "    #gradients_c = tape_pointwise.gradient(pointwise_loss, C_encoder.trainable_variables)\n",
    "\n",
    "    optimizer_encodea.apply_gradients(zip(gradients_a, A_encoder.trainable_variables))\n",
    "    optimizer_encodeb.apply_gradients(zip(gradients_b, B_encoder.trainable_variables))\n",
    "    #optimizer_encodec.apply_gradients(zip(gradients_c, C_encoder.trainable_variables))\n",
    "\n",
    "\n",
    "    # Gradients for decoders:\n",
    "    gradients_da = tape_pointwise.gradient(cycle_loss, A_decoder.trainable_variables)\n",
    "    gradients_db = tape_pointwise.gradient(cycle_loss, B_decoder.trainable_variables)\n",
    "    #gradients_dc = tape_pointwise.gradient(cycle_loss, C_decoder.trainable_variables)\n",
    "\n",
    "    optimizer_decodea.apply_gradients(zip(gradients_da, A_decoder.trainable_variables))\n",
    "    optimizer_decodeb.apply_gradients(zip(gradients_db, B_decoder.trainable_variables))\n",
    "    #optimizer_decodec.apply_gradients(zip(gradients_dc, C_decoder.trainable_variables))\n",
    "\n",
    "    return pointwise_loss #, self_loss, cycle_loss, self_loss_list, cycle_loss_list"
   ]
  },
  {
   "cell_type": "code",
   "execution_count": 96,
   "metadata": {},
   "outputs": [],
   "source": [
    "def train_full_step(A_all, B_all,  gmm_scale,loss_distr_scale):\n",
    "#     def train_full_step(A_all, B_all, C_all, \n",
    "#                         gmm_kernel, dist_loss_z, dist_loss_final,\n",
    "#                         rawgmm_A, rawgmm_B, rawgmm_C):\n",
    "    \"\"\"\n",
    "    Training function for full step (distribution loss)\n",
    "    \"\"\"\n",
    "\n",
    "    with tf.GradientTape(persistent=True) as tape_nll:\n",
    "\n",
    "        #====GET DATA\n",
    "        #==Get latent space reps of each system\n",
    "        latent_A = A_encoder(A_all, training=True)\n",
    "        latent_B = B_encoder(B_all, training=True)\n",
    "        #latent_C = C_encoder(C_all, training = True)          \n",
    "        #==Decoded latent - distrib in original space (to train decoders)\n",
    "        decoded_AA = A_decoder(latent_A)\n",
    "        decoded_BB = B_decoder(latent_B)\n",
    "        #decoded_CC = C_decoder(latent_C)\n",
    "        #==Cross decoded (to train decoders)\n",
    "        decoded_BA = B_decoder(latent_A) #from latentA to original B : BA : 1st letter is space.\n",
    "        decoded_AB = A_decoder(latent_B)\n",
    "        #decoded_CA = C_decoder(latent_A)\n",
    "        #decoded_AC = A_decoder(latent_C)\n",
    "        #decoded_CB = C_decoder(latent_B)\n",
    "        #decoded_BC = B_decoder(latent_C)\n",
    "\n",
    "\n",
    "        #==== CALC LOSSES\n",
    "        #==Get loss between latent spaces (symmetric)\n",
    "        latent_dist_loss_AB = loss_distr_scale * losses.distribution_loss(latent_A, latent_B, gmm_scale)\n",
    "        #latent_dist_loss_AC = loss_distr_scale * losses.distribution_loss(latent_A, latent_C, gmm_scale)\n",
    "        #latent_dist_loss_BC = loss_distr_scale * losses.distribution_loss(latent_B, latent_C, gmm_scale)\n",
    "        latent_dist_loss = latent_dist_loss_AB #+ latent_dist_loss_AC + latent_dist_loss_BC\n",
    "        #==Get loss original spaces (symmetric)\n",
    "        dist_loss_A = loss_distr_scale * (losses.distribution_loss(A_all, decoded_AB, gmm_scale)\n",
    "                                         +losses.distribution_loss(A_all, decoded_AA, gmm_scale))\n",
    "                                         #+losses.distribution_loss(A_all, decoded_AC, gmm_scale))\n",
    "        dist_loss_B = loss_distr_scale * (losses.distribution_loss(B_all, decoded_BA, gmm_scale)\n",
    "                                         +losses.distribution_loss(B_all, decoded_BB, gmm_scale))\n",
    "                                         #+losses.distribution_loss(B_all, decoded_BC, gmm_scale))\n",
    "        #dist_loss_C = loss_distr_scale * (losses.distribution_loss(C_all, decoded_CA, gmm_scale)\n",
    "                                         #+losses.distribution_loss(C_all, decoded_CB, gmm_scale))\n",
    "                                         #+losses.distribution_loss(C_all, decoded_CC, gmm_scale))\n",
    "\n",
    "        dist_loss = latent_dist_loss + dist_loss_A + dist_loss_B #+ dist_loss_C     \n",
    "\n",
    "    # gradients calculated based on the tape above\n",
    "    gradients_a = tape_nll.gradient(dist_loss, A_encoder.trainable_variables)\n",
    "    gradients_b = tape_nll.gradient(dist_loss, B_encoder.trainable_variables)\n",
    "    #gradients_c = tape_nll.gradient(dist_loss, C_encoder.trainable_variables)\n",
    "\n",
    "    optimizer_encode_fulla.apply_gradients(zip(gradients_a, A_encoder.trainable_variables))\n",
    "    optimizer_encode_fullb.apply_gradients(zip(gradients_b, B_encoder.trainable_variables))\n",
    "    #optimizer_encode_fullc.apply_gradients(zip(gradients_c, C_encoder.trainable_variables))\n",
    "\n",
    "    dist_loss_final = dist_loss_A + dist_loss_B\n",
    "    if dist_loss_final != 0:\n",
    "        gradients_da = tape_nll.gradient(dist_loss, A_decoder.trainable_variables)\n",
    "        gradients_db = tape_nll.gradient(dist_loss, B_decoder.trainable_variables)\n",
    "        #gradients_dc = tape_nll.gradient(dist_loss, C_decoder.trainable_variables)\n",
    "\n",
    "        optimizer_decode_fulla.apply_gradients(zip(gradients_da, A_decoder.trainable_variables))\n",
    "        optimizer_decode_fullb.apply_gradients(zip(gradients_db, B_decoder.trainable_variables))\n",
    "        #optimizer_decode_fullc.apply_gradients(zip(gradients_dc, C_decoder.trainable_variables))\n",
    "\n",
    "    return dist_loss #, latent_dist_loss, final_dl_list"
   ]
  },
  {
   "cell_type": "code",
   "execution_count": 97,
   "metadata": {},
   "outputs": [
    {
     "name": "stdout",
     "output_type": "stream",
     "text": [
      "A: new model  B: new model\n"
     ]
    }
   ],
   "source": [
    "#=== NEW PARAMS\n",
    "learning_rate_batch = 0.001\n",
    "learning_rate_full = 0.001\n",
    "n_dim_hidden_layers = 10\n",
    "n_dim_latent_in = 2\n",
    "n_dim = 2\n",
    "#====Optimizers\n",
    "### Batch step optimisers\n",
    "optimizer_encodea= tf.keras.optimizers.Adam(learning_rate=learning_rate_batch)\n",
    "optimizer_decodea= tf.keras.optimizers.Adam(learning_rate=learning_rate_batch)\n",
    "optimizer_encodeb= tf.keras.optimizers.Adam(learning_rate=learning_rate_batch)\n",
    "optimizer_decodeb= tf.keras.optimizers.Adam(learning_rate=learning_rate_batch)\n",
    "# optimizer_encodec= tf.keras.optimizers.Adam(learning_rate=learning_rate_batch)\n",
    "# optimizer_decodec= tf.keras.optimizers.Adam(learning_rate=learning_rate_batch)\n",
    "### Full step optimisers\n",
    "optimizer_encode_fulla= tf.keras.optimizers.Adam(learning_rate=learning_rate_full)\n",
    "optimizer_encode_fullb= tf.keras.optimizers.Adam(learning_rate=learning_rate_full)\n",
    "#optimizer_encode_fullc= tf.keras.optimizers.Adam(learning_rate=learning_rate_full)\n",
    "optimizer_decode_fulla= tf.keras.optimizers.Adam(learning_rate=learning_rate_full)\n",
    "optimizer_decode_fullb= tf.keras.optimizers.Adam(learning_rate=learning_rate_full)\n",
    "#optimizer_decode_fullc= tf.keras.optimizers.Adam(learning_rate=learning_rate_full)\n",
    "#=====MODELS TEST\n",
    "p_thresh = 0\n",
    "restart = 0\n",
    "A_encoder, A_decoder,A_msg = init_system_models(p_thresh,restart)\n",
    "B_encoder, B_decoder,B_msg = init_system_models(p_thresh,restart)\n",
    "print('A:',A_msg,' B:',B_msg)"
   ]
  },
  {
   "cell_type": "code",
   "execution_count": 99,
   "metadata": {},
   "outputs": [],
   "source": [
    "#Params\n",
    "i_run,i_restart = 0,0\n",
    "sd_restart = 56\n",
    "x = A\n",
    "y = B_shuff\n",
    "y_idx_map = B_idx_map\n",
    "x_0,x_1 = X_A, X_B\n",
    "#Function train_models_one_restart\n",
    "# train_batch_step = define_train_batch_step()\n",
    "# train_full_step = define_train_full_step()\n",
    "def train_models_one_restart(systems,y_idx_map,encoders,decoders,noisy_Xs,\n",
    "                             i_run,i_restart,sd_restart,max_epoch,n_batch):\n",
    "    x_0,x_1 = noisy_Xs\n",
    "    #LOOP THROUGH EPOCHS\n",
    "    epochs_dict_list = []\n",
    "    for i_epoch in range(max_epoch):\n",
    "        for x_batch, y_batch in utils.get_batch(x, y, batch_size):        \n",
    "            cycle_loss = train_batch_step(x_batch, y_batch, loss_cycle_scale)\n",
    "        dist_loss  = train_full_step(x, y,  gmm_scale,loss_distr_scale)\n",
    "        loss_total = dist_loss + cycle_loss\n",
    "        # Project concept using current models\n",
    "        projs = [encoders[i](systems[i]).numpy() for i in range(len(systems))]\n",
    "        z_x, z_y = projs\n",
    "        #Get accuracies\n",
    "        if y_idx_map is not None:\n",
    "            acc_f1, acc_f5, acc_f10, acc_fhalf = utils.mapping_accuracy(z_x, z_y[y_idx_map]) #in latent space\n",
    "        #Record all data in dict. \n",
    "        dict_entry = {'experiment_name':experiment_name,'experiment_id':experiment_id,'run':i_run,'restart':i_restart,'sd_restart':sd_restart,'epoch':i_epoch,'loss_total':loss_total.numpy(),\n",
    "                      'cycle_loss':cycle_loss.numpy(),'dist_loss':dist_loss.numpy(),\n",
    "                     'acc_f1':acc_f1, 'acc_f5':acc_f5, 'acc_f10':acc_f10, 'acc_fhalf':acc_fhalf}\n",
    "                     #'acc_g1':acc_g1, 'acc_g5':acc_g5, 'acc_g10':acc_g10, 'acc_ghalf':acc_ghalf}\n",
    "        epochs_dict_list.append(dict_entry)\n",
    "        #Print current results\n",
    "        if i_epoch % max_epoch ==0 or i_epoch==max_epoch-1:\n",
    "            print(template_res.format(i_epoch,acc_f1,acc_fhalf,loss_total,cycle_loss,dist_loss))\n",
    "            #psrint('Epoch %d -'%i_epoch,template_acc.format('f(x)', acc_f1, acc_f5, acc_f10, acc_fhalf),template_acc.format('g(x)', acc_g1, acc_g5, acc_g10, acc_ghalf)) \n",
    "    #Plot final epoch\n",
    "    #utils.plot_systems_results(x,y,f_x,g_y,x_0,x_1)\n",
    "    plot_projs(projs)\n",
    "    return encoders,decoders,epochs_dict_list\n",
    "# encoders = [A_encoder,B_encoder]\n",
    "# decoders = [A_decoder,B_decoder]\n",
    "# encoders,decoders,epochs_dict_list = train_models_one_restart([x,y],y_idx_map,encoders,decoders,[X_A, X_B],\n",
    "#                                              0,0,64,30,n_batch)"
   ]
  },
  {
   "cell_type": "code",
   "execution_count": 107,
   "metadata": {},
   "outputs": [
    {
     "name": "stdout",
     "output_type": "stream",
     "text": [
      "===============================\n",
      "======Run 0======\n",
      "===============================\n",
      "Seed :  4941\n"
     ]
    },
    {
     "data": {
      "image/png": "[encoded data removed]",
      "text/plain": [
       "<Figure size 432x288 with 2 Axes>"
      ]
     },
     "metadata": {
      "needs_background": "light"
     },
     "output_type": "display_data"
    },
    {
     "name": "stdout",
     "output_type": "stream",
     "text": [
      "    Ceiling\n",
      "    Accuracy 1: 0.99 5: 1.00 10: 1.00 Half: 1.00\n",
      "\n",
      "    Threshold accuracy : 0.89\n"
     ]
    },
    {
     "data": {
      "application/vnd.jupyter.widget-view+json": {
       "model_id": "8425b8775dd4403b805f781f0001f19e",
       "version_major": 2,
       "version_minor": 0
      },
      "text/plain": [
       "HBox(children=(FloatProgress(value=0.0, max=10.0), HTML(value='')))"
      ]
     },
     "metadata": {},
     "output_type": "display_data"
    },
    {
     "name": "stdout",
     "output_type": "stream",
     "text": [
      "======Restart 0======\n",
      "    New models_A\n",
      "    New models_B\n",
      "0 = | f1: 0.01 | fhalf: 0.36 | total: 724.58 cycle: 428.78 | dist: 295.80 \n",
      "29 = | f1: 0.01 | fhalf: 0.36 | total: 24.54 cycle: 10.00 | dist: 14.55 \n"
     ]
    },
    {
     "data": {
      "image/png": "[encoded data removed]",
      "text/plain": [
       "<Figure size 432x288 with 1 Axes>"
      ]
     },
     "metadata": {
      "needs_background": "light"
     },
     "output_type": "display_data"
    },
    {
     "name": "stdout",
     "output_type": "stream",
     "text": [
      "    Beat best models.\n",
      "======Restart 1======\n",
      "    New models_A\n",
      "    New models_B\n",
      "0 = | f1: 0.01 | fhalf: 0.36 | total: 878.59 cycle: 515.84 | dist: 362.75 \n",
      "\n"
     ]
    },
    {
     "ename": "KeyboardInterrupt",
     "evalue": "",
     "output_type": "error",
     "traceback": [
      "\u001b[0;31m---------------------------------------------------------------------------\u001b[0m",
      "\u001b[0;31mKeyboardInterrupt\u001b[0m                         Traceback (most recent call last)",
      "\u001b[0;32m<ipython-input-107-f231feb474a2>\u001b[0m in \u001b[0;36m<module>\u001b[0;34m\u001b[0m\n\u001b[1;32m     63\u001b[0m         \u001b[0;31m#==Train\u001b[0m\u001b[0;34m\u001b[0m\u001b[0;34m\u001b[0m\u001b[0;34m\u001b[0m\u001b[0m\n\u001b[1;32m     64\u001b[0m         encoders,decoders,epochs_dict_list = train_models_one_restart([x,y],y_idx_map,encoders,decoders,[X_A, X_B],\n\u001b[0;32m---> 65\u001b[0;31m                                              i_run,i_restart,sd_restart,max_epoch,n_batch)\n\u001b[0m\u001b[1;32m     66\u001b[0m         \u001b[0;31m#Get final losses and accuracies\u001b[0m\u001b[0;34m\u001b[0m\u001b[0;34m\u001b[0m\u001b[0;34m\u001b[0m\u001b[0m\n\u001b[1;32m     67\u001b[0m         \u001b[0mlast_epoch_dict\u001b[0m \u001b[0;34m=\u001b[0m \u001b[0mepochs_dict_list\u001b[0m\u001b[0;34m[\u001b[0m\u001b[0;34m-\u001b[0m\u001b[0;36m1\u001b[0m\u001b[0;34m]\u001b[0m\u001b[0;34m\u001b[0m\u001b[0;34m\u001b[0m\u001b[0m\n",
      "\u001b[0;32m<ipython-input-99-daa1987a6b75>\u001b[0m in \u001b[0;36mtrain_models_one_restart\u001b[0;34m(systems, y_idx_map, encoders, decoders, noisy_Xs, i_run, i_restart, sd_restart, max_epoch, n_batch)\u001b[0m\n\u001b[1;32m     16\u001b[0m     \u001b[0;32mfor\u001b[0m \u001b[0mi_epoch\u001b[0m \u001b[0;32min\u001b[0m \u001b[0mrange\u001b[0m\u001b[0;34m(\u001b[0m\u001b[0mmax_epoch\u001b[0m\u001b[0;34m)\u001b[0m\u001b[0;34m:\u001b[0m\u001b[0;34m\u001b[0m\u001b[0;34m\u001b[0m\u001b[0m\n\u001b[1;32m     17\u001b[0m         \u001b[0;32mfor\u001b[0m \u001b[0mx_batch\u001b[0m\u001b[0;34m,\u001b[0m \u001b[0my_batch\u001b[0m \u001b[0;32min\u001b[0m \u001b[0mutils\u001b[0m\u001b[0;34m.\u001b[0m\u001b[0mget_batch\u001b[0m\u001b[0;34m(\u001b[0m\u001b[0mx\u001b[0m\u001b[0;34m,\u001b[0m \u001b[0my\u001b[0m\u001b[0;34m,\u001b[0m \u001b[0mbatch_size\u001b[0m\u001b[0;34m)\u001b[0m\u001b[0;34m:\u001b[0m\u001b[0;34m\u001b[0m\u001b[0;34m\u001b[0m\u001b[0m\n\u001b[0;32m---> 18\u001b[0;31m             \u001b[0mcycle_loss\u001b[0m \u001b[0;34m=\u001b[0m \u001b[0mtrain_batch_step\u001b[0m\u001b[0;34m(\u001b[0m\u001b[0mx_batch\u001b[0m\u001b[0;34m,\u001b[0m \u001b[0my_batch\u001b[0m\u001b[0;34m,\u001b[0m \u001b[0mloss_cycle_scale\u001b[0m\u001b[0;34m)\u001b[0m\u001b[0;34m\u001b[0m\u001b[0;34m\u001b[0m\u001b[0m\n\u001b[0m\u001b[1;32m     19\u001b[0m         \u001b[0mdist_loss\u001b[0m  \u001b[0;34m=\u001b[0m \u001b[0mtrain_full_step\u001b[0m\u001b[0;34m(\u001b[0m\u001b[0mx\u001b[0m\u001b[0;34m,\u001b[0m \u001b[0my\u001b[0m\u001b[0;34m,\u001b[0m  \u001b[0mgmm_scale\u001b[0m\u001b[0;34m,\u001b[0m\u001b[0mloss_distr_scale\u001b[0m\u001b[0;34m)\u001b[0m\u001b[0;34m\u001b[0m\u001b[0;34m\u001b[0m\u001b[0m\n\u001b[1;32m     20\u001b[0m         \u001b[0mloss_total\u001b[0m \u001b[0;34m=\u001b[0m \u001b[0mdist_loss\u001b[0m \u001b[0;34m+\u001b[0m \u001b[0mcycle_loss\u001b[0m\u001b[0;34m\u001b[0m\u001b[0;34m\u001b[0m\u001b[0m\n",
      "\u001b[0;32m<ipython-input-95-545d85b89775>\u001b[0m in \u001b[0;36mtrain_batch_step\u001b[0;34m(A_batch, B_batch, loss_cycle_scale)\u001b[0m\n\u001b[1;32m     51\u001b[0m     \u001b[0;31m# Gradients for decoders:\u001b[0m\u001b[0;34m\u001b[0m\u001b[0;34m\u001b[0m\u001b[0;34m\u001b[0m\u001b[0m\n\u001b[1;32m     52\u001b[0m     \u001b[0mgradients_da\u001b[0m \u001b[0;34m=\u001b[0m \u001b[0mtape_pointwise\u001b[0m\u001b[0;34m.\u001b[0m\u001b[0mgradient\u001b[0m\u001b[0;34m(\u001b[0m\u001b[0mcycle_loss\u001b[0m\u001b[0;34m,\u001b[0m \u001b[0mA_decoder\u001b[0m\u001b[0;34m.\u001b[0m\u001b[0mtrainable_variables\u001b[0m\u001b[0;34m)\u001b[0m\u001b[0;34m\u001b[0m\u001b[0;34m\u001b[0m\u001b[0m\n\u001b[0;32m---> 53\u001b[0;31m     \u001b[0mgradients_db\u001b[0m \u001b[0;34m=\u001b[0m \u001b[0mtape_pointwise\u001b[0m\u001b[0;34m.\u001b[0m\u001b[0mgradient\u001b[0m\u001b[0;34m(\u001b[0m\u001b[0mcycle_loss\u001b[0m\u001b[0;34m,\u001b[0m \u001b[0mB_decoder\u001b[0m\u001b[0;34m.\u001b[0m\u001b[0mtrainable_variables\u001b[0m\u001b[0;34m)\u001b[0m\u001b[0;34m\u001b[0m\u001b[0;34m\u001b[0m\u001b[0m\n\u001b[0m\u001b[1;32m     54\u001b[0m     \u001b[0;31m#gradients_dc = tape_pointwise.gradient(cycle_loss, C_decoder.trainable_variables)\u001b[0m\u001b[0;34m\u001b[0m\u001b[0;34m\u001b[0m\u001b[0;34m\u001b[0m\u001b[0m\n\u001b[1;32m     55\u001b[0m \u001b[0;34m\u001b[0m\u001b[0m\n",
      "\u001b[0;32m/opt/anaconda3/lib/python3.7/site-packages/tensorflow_core/python/eager/backprop.py\u001b[0m in \u001b[0;36mgradient\u001b[0;34m(self, target, sources, output_gradients, unconnected_gradients)\u001b[0m\n\u001b[1;32m   1027\u001b[0m         \u001b[0moutput_gradients\u001b[0m\u001b[0;34m=\u001b[0m\u001b[0moutput_gradients\u001b[0m\u001b[0;34m,\u001b[0m\u001b[0;34m\u001b[0m\u001b[0;34m\u001b[0m\u001b[0m\n\u001b[1;32m   1028\u001b[0m         \u001b[0msources_raw\u001b[0m\u001b[0;34m=\u001b[0m\u001b[0mflat_sources_raw\u001b[0m\u001b[0;34m,\u001b[0m\u001b[0;34m\u001b[0m\u001b[0;34m\u001b[0m\u001b[0m\n\u001b[0;32m-> 1029\u001b[0;31m         unconnected_gradients=unconnected_gradients)\n\u001b[0m\u001b[1;32m   1030\u001b[0m \u001b[0;34m\u001b[0m\u001b[0m\n\u001b[1;32m   1031\u001b[0m     \u001b[0;32mif\u001b[0m \u001b[0;32mnot\u001b[0m \u001b[0mself\u001b[0m\u001b[0;34m.\u001b[0m\u001b[0m_persistent\u001b[0m\u001b[0;34m:\u001b[0m\u001b[0;34m\u001b[0m\u001b[0;34m\u001b[0m\u001b[0m\n",
      "\u001b[0;32m/opt/anaconda3/lib/python3.7/site-packages/tensorflow_core/python/eager/imperative_grad.py\u001b[0m in \u001b[0;36mimperative_grad\u001b[0;34m(tape, target, sources, output_gradients, sources_raw, unconnected_gradients)\u001b[0m\n\u001b[1;32m     75\u001b[0m       \u001b[0moutput_gradients\u001b[0m\u001b[0;34m,\u001b[0m\u001b[0;34m\u001b[0m\u001b[0;34m\u001b[0m\u001b[0m\n\u001b[1;32m     76\u001b[0m       \u001b[0msources_raw\u001b[0m\u001b[0;34m,\u001b[0m\u001b[0;34m\u001b[0m\u001b[0;34m\u001b[0m\u001b[0m\n\u001b[0;32m---> 77\u001b[0;31m       compat.as_str(unconnected_gradients.value))\n\u001b[0m",
      "\u001b[0;32m/opt/anaconda3/lib/python3.7/site-packages/tensorflow_core/python/eager/backprop.py\u001b[0m in \u001b[0;36m_gradient_function\u001b[0;34m(op_name, attr_tuple, num_inputs, inputs, outputs, out_grads, skip_input_indices)\u001b[0m\n\u001b[1;32m    135\u001b[0m   \"\"\"\n\u001b[1;32m    136\u001b[0m   \u001b[0mmock_op\u001b[0m \u001b[0;34m=\u001b[0m \u001b[0m_MockOp\u001b[0m\u001b[0;34m(\u001b[0m\u001b[0mattr_tuple\u001b[0m\u001b[0;34m,\u001b[0m \u001b[0minputs\u001b[0m\u001b[0;34m,\u001b[0m \u001b[0moutputs\u001b[0m\u001b[0;34m,\u001b[0m \u001b[0mop_name\u001b[0m\u001b[0;34m,\u001b[0m \u001b[0mskip_input_indices\u001b[0m\u001b[0;34m)\u001b[0m\u001b[0;34m\u001b[0m\u001b[0;34m\u001b[0m\u001b[0m\n\u001b[0;32m--> 137\u001b[0;31m   \u001b[0mgrad_fn\u001b[0m \u001b[0;34m=\u001b[0m \u001b[0mops\u001b[0m\u001b[0;34m.\u001b[0m\u001b[0m_gradient_registry\u001b[0m\u001b[0;34m.\u001b[0m\u001b[0mlookup\u001b[0m\u001b[0;34m(\u001b[0m\u001b[0mop_name\u001b[0m\u001b[0;34m)\u001b[0m  \u001b[0;31m# pylint: disable=protected-access\u001b[0m\u001b[0;34m\u001b[0m\u001b[0;34m\u001b[0m\u001b[0m\n\u001b[0m\u001b[1;32m    138\u001b[0m   \u001b[0;32mif\u001b[0m \u001b[0mgrad_fn\u001b[0m \u001b[0;32mis\u001b[0m \u001b[0;32mNone\u001b[0m\u001b[0;34m:\u001b[0m\u001b[0;34m\u001b[0m\u001b[0;34m\u001b[0m\u001b[0m\n\u001b[1;32m    139\u001b[0m     \u001b[0;32mreturn\u001b[0m \u001b[0;34m[\u001b[0m\u001b[0;32mNone\u001b[0m\u001b[0;34m]\u001b[0m \u001b[0;34m*\u001b[0m \u001b[0mnum_inputs\u001b[0m\u001b[0;34m\u001b[0m\u001b[0;34m\u001b[0m\u001b[0m\n",
      "\u001b[0;32m/opt/anaconda3/lib/python3.7/site-packages/tensorflow_core/python/framework/registry.py\u001b[0m in \u001b[0;36mlookup\u001b[0;34m(self, name)\u001b[0m\n\u001b[1;32m     92\u001b[0m     \u001b[0mname\u001b[0m \u001b[0;34m=\u001b[0m \u001b[0mcompat\u001b[0m\u001b[0;34m.\u001b[0m\u001b[0mas_str\u001b[0m\u001b[0;34m(\u001b[0m\u001b[0mname\u001b[0m\u001b[0;34m)\u001b[0m\u001b[0;34m\u001b[0m\u001b[0;34m\u001b[0m\u001b[0m\n\u001b[1;32m     93\u001b[0m     \u001b[0;32mif\u001b[0m \u001b[0mname\u001b[0m \u001b[0;32min\u001b[0m \u001b[0mself\u001b[0m\u001b[0;34m.\u001b[0m\u001b[0m_registry\u001b[0m\u001b[0;34m:\u001b[0m\u001b[0;34m\u001b[0m\u001b[0;34m\u001b[0m\u001b[0m\n\u001b[0;32m---> 94\u001b[0;31m       \u001b[0;32mreturn\u001b[0m \u001b[0mself\u001b[0m\u001b[0;34m.\u001b[0m\u001b[0m_registry\u001b[0m\u001b[0;34m[\u001b[0m\u001b[0mname\u001b[0m\u001b[0;34m]\u001b[0m\u001b[0;34m[\u001b[0m\u001b[0m_TYPE_TAG\u001b[0m\u001b[0;34m]\u001b[0m\u001b[0;34m\u001b[0m\u001b[0;34m\u001b[0m\u001b[0m\n\u001b[0m\u001b[1;32m     95\u001b[0m     \u001b[0;32melse\u001b[0m\u001b[0;34m:\u001b[0m\u001b[0;34m\u001b[0m\u001b[0;34m\u001b[0m\u001b[0m\n\u001b[1;32m     96\u001b[0m       raise LookupError(\n",
      "\u001b[0;31mKeyboardInterrupt\u001b[0m: "
     ]
    }
   ],
   "source": [
    "all_res = []\n",
    "summary_res = []\n",
    "for i_run in range(n_runs):\n",
    "    print('===============================')\n",
    "    print('======Run {0}======'.format(i_run))\n",
    "    print('===============================')\n",
    "    sd_run = utils.set_seed_np_tf(sd_run_list[i_run])\n",
    "    print(\"Seed : \", sd_run)\n",
    "    sd_restart_list = list(np.random.choice(10000, max_restart, replace=False))\n",
    "    run_folder = fp_save_models+'/run'+str(i_run)\n",
    "    utils.create_folder(run_folder+ '/final') #Same as last restart\n",
    "    #==Get data \n",
    "    A,B,X_A,X_B,B_shuff,B_idx_map = get_data(n_systems,n_concepts,emb_dim,noise,n_epicentres,linearsep,sd_run,bplot=True)\n",
    "    ceil_acc_1, ceil_acc_5, ceil_acc_10, ceil_acc_half = utils.mapping_accuracy(X_A, X_B)\n",
    "    print(template_ceil.format(ceil_acc_1, ceil_acc_5, ceil_acc_10, ceil_acc_half))\n",
    "    thresh_acc = ceil_acc_1 * 0.9\n",
    "    print(\"    Threshold accuracy : %.2f\" %thresh_acc )\n",
    "    x = A\n",
    "    y = B_shuff\n",
    "    y_idx_map = B_idx_map\n",
    "#     x = tf.convert_to_tensor(x, dtype = np.float32())\n",
    "#     y = tf.convert_to_tensor(y, dtype = np.float32())\n",
    "    #Save data\n",
    "    with open(str(run_folder)+'/x.pickle', 'wb') as handle:\n",
    "        pickle.dump(x, handle, protocol=pickle.HIGHEST_PROTOCOL)\n",
    "    with open(str(run_folder)+'/y.pickle', 'wb') as handle:\n",
    "        pickle.dump(y, handle, protocol=pickle.HIGHEST_PROTOCOL)\n",
    "    #print(x.shape,y.shape)\n",
    "    #==Loop through restarts\n",
    "    #=init best\n",
    "    loss_best = np.inf\n",
    "    dist_loss_best = np.inf\n",
    "    best_A_encoder = models.Encoder(hidden = n_dim_hidden_layers, n_dim_encode=n_dim_latent_in)\n",
    "    best_B_encoder = models.Encoder(hidden = n_dim_hidden_layers, n_dim_encode=n_dim_latent_in)\n",
    "    best_A_decoder = models.Decoder(hidden = n_dim_hidden_layers, n_dim_out=n_dim)\n",
    "    best_B_decoder = models.Decoder(hidden = n_dim_hidden_layers, n_dim_out=n_dim)\n",
    "\n",
    "    #=Loop\n",
    "    last_restarts = []\n",
    "    restarts_dict_list = []\n",
    "    acc_f1, acc_g1 = 0,0\n",
    "    last_restart = -1\n",
    "    for i_restart in tqdm(range(max_restart)):\n",
    "        sd_restart = utils.set_seed_np_tf(sd_restart_list[i_restart])\n",
    "        print('======Restart {0}======'.format(i_restart))\n",
    "        #==init models\n",
    "        thresh = 0 #if 0, always a new model except if use_best_model=True. \n",
    "        force_best_model = (i_restart>=max_restart-10) #if True, use best mode, else, random depends on thresh\n",
    "#         A_encoder, A_decoder,A_new = init_system_models(force_best_model,thresh,restart,sd_restart,\n",
    "#                                                         n_dim,n_dim_latent_in,n_dim_hidden_layers,\n",
    "#                                                         best_A_encoder,best_A_decoder)\n",
    "#         B_encoder, B_decoder,B_new = init_system_models(force_best_model,thresh,restart,sd_restart,\n",
    "#                                                         n_dim,n_dim_latent_in,n_dim_hidden_layers,\n",
    "#                                                         best_B_encoder,best_B_decoder)\n",
    "        #TODO fix bug\n",
    "        A_encoder = models.Encoder(hidden = n_dim_hidden_layers, n_dim_encode=n_dim_latent_in)\n",
    "        B_encoder = models.Encoder(hidden = n_dim_hidden_layers, n_dim_encode=n_dim_latent_in)\n",
    "        A_decoder = models.Decoder(hidden = n_dim_hidden_layers, n_dim_out=n_dim)\n",
    "        B_decoder = models.Decoder(hidden = n_dim_hidden_layers, n_dim_out=n_dim)\n",
    "        A_new,B_new = True,True\n",
    "        if A_new : print('    New models_A')\n",
    "        if B_new : print('    New models_B')\n",
    "        #==Train\n",
    "        encoders,decoders,epochs_dict_list = train_models_one_restart([x,y],y_idx_map,encoders,decoders,[X_A, X_B],\n",
    "                                             i_run,i_restart,sd_restart,max_epoch,n_batch)\n",
    "        #Get final losses and accuracies\n",
    "        last_epoch_dict = epochs_dict_list[-1]\n",
    "        loss_total, cycle_loss, dist_loss = z_get_losses_from_dict(last_epoch_dict)\n",
    "        acc_f1, acc_f5, acc_f10, acc_fhalf = z_get_acc_from_dict(last_epoch_dict)\n",
    "        #Save best model\n",
    "        best_f,best_g = False,False\n",
    "        if dist_loss < dist_loss_best:\n",
    "                dist_loss_best = dist_loss\n",
    "                best_A_encoder = A_encoder\n",
    "                best_A_decoder = A_encoder\n",
    "                best_B_encoder = B_encoder\n",
    "                best_B_decoder = B_decoder\n",
    "                best_models = True\n",
    "                print('    Beat best models.') \n",
    "        #Add and Store data\n",
    "        for i in range(len(epochs_dict_list)):\n",
    "            epochs_dict_list[i]['A_new']=A_new\n",
    "            epochs_dict_list[i]['B_new']=B_new\n",
    "            epochs_dict_list[i]['best_models']=best_models\n",
    "        restarts_dict_list.append(epochs_dict_list)\n",
    "        #====Save restart model\n",
    "        restart_folder = run_folder + '/restart' + str(i_restart)\n",
    "        utils.create_folder(restart_folder)\n",
    "        #utils.save_models(model_f,model_g,restart_folder)\n",
    "        z_save_models(['A_encoder','A_decoder','B_encoder','B_decoder'],[A_encoder,A_decoder,B_encoder,B_decoder],restart_folder)\n",
    "        #====Breaking loop\n",
    "        if (acc_f1>thresh_acc) and last_restart==-1: #last_restart = -1 if this does not happen\n",
    "            last_restart = i_restart\n",
    "            print(\"%d restarts necessary\" %(i_restart+1))\n",
    "            #break\n",
    "    if last_restart==-1: \n",
    "        last_restart = max_restart\n",
    "    all_dict_entries = utils.flatten_list_of_list(restarts_dict_list) \n",
    "    all_res.append(all_dict_entries)\n",
    "    #STORE FINAL RESULTS\n",
    "    summary_dict = {'experiment_name':experiment_name,'experiment_id':experiment_id,'sd_run':sd_run,'last_restart': last_restart,'loss_total':loss_total,'cycle_loss':cycle_loss,\n",
    "                    'dist_loss':dist_loss_f,\n",
    "                    'acc_f1':acc_f1, 'acc_f5':acc_f5, 'acc_f10':acc_f10, 'acc_fhalf':acc_fhalf,\n",
    "                    'ceil_acc_1':ceil_acc_1, 'ceil_acc_5':ceil_acc_5, 'ceil_acc_10':ceil_acc_10, 'ceil_acc_half':ceil_acc_half}\n",
    "    summary_res.append(summary_dict)\n",
    "    print(print('======Run Summary======'))\n",
    "    print(display(pd.DataFrame([summary_dict])))\n",
    "    #=====SAVE RUN MODEL====\n",
    "    utils.save_models(model_f,model_g,run_folder+ '/final')\n",
    "print('=========================')\n",
    "print('=======FINAL SUMMARY=====')\n",
    "print('=========================')\n",
    "df_summary = pd.DataFrame(summary_res)\n",
    "display(df_summary)\n",
    "#Save results\n",
    "with open(str(fp_save_runs)+'/all_res.pickle', 'wb') as handle:\n",
    "    pickle.dump(all_res, handle, protocol=pickle.HIGHEST_PROTOCOL)\n",
    "with open(str(fp_save_runs)+'/summary_res.pickle', 'wb') as handle:\n",
    "    pickle.dump(summary_res, handle, protocol=pickle.HIGHEST_PROTOCOL)"
   ]
  },
  {
   "cell_type": "markdown",
   "metadata": {},
   "source": [
    "# FCTS/UTILS"
   ]
  },
  {
   "cell_type": "code",
   "execution_count": 106,
   "metadata": {},
   "outputs": [],
   "source": [
    "def z_save_models(names,models,fp):\n",
    "    for i in range(len(names)):\n",
    "        utils.create_folder(fp+ '/%s'%names[i])\n",
    "        models[i].save_weights(fp+'/%s/%s'%(names[i],names[i]))\n",
    "def z_get_acc_from_dict(dict_entry):\n",
    "    acc_f1, acc_f5, acc_f10, acc_fhalf = dict_entry['acc_f1'],dict_entry['acc_f5'],dict_entry['acc_f10'],dict_entry['acc_fhalf']\n",
    "    return acc_f1, acc_f5, acc_f10, acc_fhalf\n",
    "def z_get_losses_from_dict(dict_entry):\n",
    "    loss_total, cycle_loss, dist_loss = dict_entry['loss_total'],dict_entry['cycle_loss'],dict_entry['dist_loss']\n",
    "    return loss_total, cycle_loss, dist_loss\n",
    "\n",
    "def init_system_models(cond_best,thresh,restart,sd_restart,n_dim,n_dim_latent_in,n_dim_hidden_layers,\n",
    "                       best_X_encoder=None,best_X_decoder=None):\n",
    "    new = False\n",
    "    if cond_best or (np.random.uniform() < thresh and restart > 0):\n",
    "        X_encoder = best_X_encoder\n",
    "        X_decoder = best_X_decoder\n",
    "    else:\n",
    "        utils.set_seed_np_tf(sd_restart)\n",
    "        X_encoder = models.Encoder(hidden = n_dim_hidden_layers, n_dim_encode=n_dim_latent_in)\n",
    "        X_decoder = models.Decoder(hidden = n_dim_hidden_layers, n_dim_out=n_dim)\n",
    "        new = True\n",
    "    return X_encoder,X_decoder,new\n",
    "\n",
    "def plot_projs(projs):\n",
    "    n_sys = len(projs)\n",
    "    fig, axes = plt.subplots(1,1)\n",
    "    for i in range(n_sys):\n",
    "        x = projs[i]\n",
    "        axes.scatter(x[:,0],x[:,1])\n",
    "    plt.show()\n",
    "def Xencode_Xdecode(X_batch,X_encoder,X_decoder):\n",
    "    # Encode/Decode with their own encoders\n",
    "    encoded_X = X_encoder(X_batch, training=True)\n",
    "    decoded_X = X_decoder(encoded_X, training=True)\n",
    "    return encoded_X,decoded_X\n",
    "def Ydecode_Yencode_Xdecode(encoded_X,Y_decoder,Y_encoder,X_decoder):\n",
    "    # Decode/Encode with other system +  re-decode with same system\n",
    "    xtoy = Y_decoder(encoded_X, training=True)\n",
    "    encode_revertxy = Y_encoder(xtoy, training=True)\n",
    "    decode_revertxy = X_decoder(encode_revertxy, training=True)\n",
    "    return decode_revertxy\n",
    "def init_system_models(p_thresh,restart,X_encoder_bw=None,X_decoder_bw=None):\n",
    "    rand = np.random.uniform()\n",
    "    if rand < p_thresh and restart > 0:\n",
    "        X_encoder.set_weights(X_encoder_bw)\n",
    "        X_decoder.set_weights(X_decoder_bw)\n",
    "        msg = 'best model'\n",
    "    else:\n",
    "        X_encoder = models.Encoder(hidden = n_dim_hidden_layers, n_dim_encode=n_dim_latent_in)\n",
    "        X_decoder = models.Decoder(hidden = n_dim_hidden_layers, n_dim_out=n_dim)\n",
    "        msg = 'new model'\n",
    "    return X_encoder,X_decoder,msg\n",
    "def get_p_thresh(restart):\n",
    "    # Schedule for p(choose_best_weights)\n",
    "    if restart < 10:\n",
    "        p_thresh = 0\n",
    "    elif restart < 70:\n",
    "        p_thresh = 0.5\n",
    "    else:\n",
    "        p_thresh = 0.9\n",
    "    return p_thresh\n",
    "def shuffle_system(X):\n",
    "    n_concepts = X.shape[1]\n",
    "    X_shuff_idx = tf.random.shuffle(list(range(n_concepts)))\n",
    "    X_shuff = tf.expand_dims(tf.gather(tf.squeeze(X), X_shuff_idx), axis=0)\n",
    "    return X_shuff,X_shuff_idx\n",
    "def Make_augmented_tensors(l):\n",
    "    #from np (n_concepts,n_dim) to tf (1,n_concepts,n_dim)\n",
    "    l = [tf.expand_dims(tf.convert_to_tensor(X, dtype = np.float32()),0) for X in l]\n",
    "    return l"
   ]
  },
  {
   "cell_type": "code",
   "execution_count": null,
   "metadata": {},
   "outputs": [],
   "source": []
  },
  {
   "cell_type": "code",
   "execution_count": null,
   "metadata": {},
   "outputs": [],
   "source": []
  },
  {
   "cell_type": "code",
   "execution_count": null,
   "metadata": {},
   "outputs": [],
   "source": []
  }
 ],
 "metadata": {
  "kernelspec": {
   "display_name": "Python 3",
   "language": "python",
   "name": "python3"
  },
  "language_info": {
   "codemirror_mode": {
    "name": "ipython",
    "version": 3
   },
   "file_extension": ".py",
   "mimetype": "text/x-python",
   "name": "python",
   "nbconvert_exporter": "python",
   "pygments_lexer": "ipython3",
   "version": "3.7.4"
  }
 },
 "nbformat": 4,
 "nbformat_minor": 4
}
