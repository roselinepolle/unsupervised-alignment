{
 "cells": [
  {
   "cell_type": "code",
   "execution_count": 1,
   "metadata": {
    "colab": {},
    "colab_type": "code",
    "executionInfo": {
     "elapsed": 452,
     "status": "ok",
     "timestamp": 1597281863596,
     "user": {
      "displayName": "Roseline",
      "photoUrl": "",
      "userId": "06567256556577965216"
     },
     "user_tz": -60
    },
    "id": "86dBMxv4p4Lm"
   },
   "outputs": [],
   "source": [
    "experiment_name = 'knn_pretrain_angles_radius_base'\n",
    "rad = 0.3\n",
    "Ncorr = 10"
   ]
  },
  {
   "cell_type": "markdown",
   "metadata": {
    "colab_type": "text",
    "id": "EWCVoN7oDpaV"
   },
   "source": [
    "# Colab settings"
   ]
  },
  {
   "cell_type": "code",
   "execution_count": 18,
   "metadata": {
    "colab": {
     "base_uri": "https://localhost:8080/",
     "height": 34
    },
    "colab_type": "code",
    "executionInfo": {
     "elapsed": 396,
     "status": "ok",
     "timestamp": 1597281864246,
     "user": {
      "displayName": "Roseline",
      "photoUrl": "",
      "userId": "06567256556577965216"
     },
     "user_tz": -60
    },
    "id": "l-oWypvjDogQ",
    "outputId": "0c27cc9a-148e-4e31-86c5-6c15008a027f"
   },
   "outputs": [
    {
     "name": "stdout",
     "output_type": "stream",
     "text": [
      "Drive already mounted at /content/gdrive; to attempt to forcibly remount, call drive.mount(\"/content/gdrive\", force_remount=True).\n"
     ]
    }
   ],
   "source": [
    "# #Mount gdrive\n",
    "# from google.colab import drive\n",
    "# drive.mount('/content/gdrive')"
   ]
  },
  {
   "cell_type": "markdown",
   "metadata": {
    "colab_type": "text",
    "id": "8Z3oEsybDORw"
   },
   "source": [
    "# Imports and Settings"
   ]
  },
  {
   "cell_type": "code",
   "execution_count": 8,
   "metadata": {
    "colab": {},
    "colab_type": "code",
    "executionInfo": {
     "elapsed": 554,
     "status": "ok",
     "timestamp": 1597281865091,
     "user": {
      "displayName": "Roseline",
      "photoUrl": "",
      "userId": "06567256556577965216"
     },
     "user_tz": -60
    },
    "id": "MES2en4ADOR7"
   },
   "outputs": [],
   "source": [
    "#Paths\n",
    "import os\n",
    "from pathlib import Path\n",
    "fp_repo = \"/Users/roseline/Docs/AI/GITHUB/unsupervised-alignment\"\n",
    "# fp_repo = '/content/gdrive/My Drive/unsupervised-alignment'\n",
    "fp_intersect = fp_repo / Path('python','assets','intersect')\n",
    "fp_save = fp_repo / Path('save')\n",
    "os.chdir(fp_repo / Path('src'))"
   ]
  },
  {
   "cell_type": "code",
   "execution_count": 9,
   "metadata": {
    "colab": {},
    "colab_type": "code",
    "executionInfo": {
     "elapsed": 334,
     "status": "ok",
     "timestamp": 1597281865350,
     "user": {
      "displayName": "Roseline",
      "photoUrl": "",
      "userId": "06567256556577965216"
     },
     "user_tz": -60
    },
    "id": "zFppTe0uDORx"
   },
   "outputs": [
    {
     "name": "stderr",
     "output_type": "stream",
     "text": [
      "Using TensorFlow backend.\n"
     ]
    }
   ],
   "source": [
    "import pickle\n",
    "import numpy as np\n",
    "import matplotlib.pyplot as plt\n",
    "import tensorflow as tf\n",
    "import scipy as sp\n",
    "from tqdm.notebook import tqdm\n",
    "import pandas as pd\n",
    "import uuid\n",
    "import time\n",
    "import itertools\n",
    "#Custom modules\n",
    "import embeddings as emb \n",
    "import utils \n",
    "import models\n",
    "import losses\n",
    "import train\n",
    "import knn\n",
    "#KERAS\n",
    "import keras\n",
    "import tensorflow as tf\n",
    "#New\n",
    "from scipy.spatial import distance\n",
    "import scipy.interpolate as interpolate\n",
    "from scipy.integrate import quad\n",
    "import matplotlib.pyplot as plt"
   ]
  },
  {
   "cell_type": "code",
   "execution_count": 10,
   "metadata": {
    "colab": {
     "base_uri": "https://localhost:8080/",
     "height": 34
    },
    "colab_type": "code",
    "executionInfo": {
     "elapsed": 451,
     "status": "ok",
     "timestamp": 1597281865961,
     "user": {
      "displayName": "Roseline",
      "photoUrl": "",
      "userId": "06567256556577965216"
     },
     "user_tz": -60
    },
    "id": "IRtgp2pFIbjS",
    "outputId": "1d6b7d3f-17b9-410b-e920-ab811b2ea251"
   },
   "outputs": [
    {
     "name": "stdout",
     "output_type": "stream",
     "text": [
      "False\n"
     ]
    }
   ],
   "source": [
    "def gpu_avail():\n",
    "  is_avail = True\n",
    "  device_name = tf.test.gpu_device_name()\n",
    "  if device_name != '/device:GPU:0':\n",
    "    is_avail = False\n",
    "  return is_avail  \n",
    "print(gpu_avail())\n",
    "# tf.debugging.set_log_device_placement(True)"
   ]
  },
  {
   "cell_type": "markdown",
   "metadata": {
    "colab_type": "text",
    "id": "4k4DldSkDOR9"
   },
   "source": [
    "# Parameters"
   ]
  },
  {
   "cell_type": "code",
   "execution_count": 11,
   "metadata": {
    "colab": {
     "base_uri": "https://localhost:8080/",
     "height": 151
    },
    "colab_type": "code",
    "executionInfo": {
     "elapsed": 480,
     "status": "ok",
     "timestamp": 1597281914680,
     "user": {
      "displayName": "Roseline",
      "photoUrl": "",
      "userId": "06567256556577965216"
     },
     "user_tz": -60
    },
    "id": "hrwiuQYFDOR-",
    "outputId": "273724a9-cb38-4106-f3de-bfed0ecba829"
   },
   "outputs": [
    {
     "name": "stdout",
     "output_type": "stream",
     "text": [
      "/Users/roseline/Docs/UCL/Projects/B.Roads/B.Roads code/Fork/unsupervised-alignment/save/knn_pretrain_angles_radius_base\n"
     ]
    },
    {
     "data": {
      "text/html": [
       "<div>\n",
       "<style scoped>\n",
       "    .dataframe tbody tr th:only-of-type {\n",
       "        vertical-align: middle;\n",
       "    }\n",
       "\n",
       "    .dataframe tbody tr th {\n",
       "        vertical-align: top;\n",
       "    }\n",
       "\n",
       "    .dataframe thead th {\n",
       "        text-align: right;\n",
       "    }\n",
       "</style>\n",
       "<table border=\"1\" class=\"dataframe\">\n",
       "  <thead>\n",
       "    <tr style=\"text-align: right;\">\n",
       "      <th></th>\n",
       "      <th>experiment_name</th>\n",
       "      <th>experiment_id</th>\n",
       "      <th>n_systems</th>\n",
       "      <th>n_concepts</th>\n",
       "      <th>noise</th>\n",
       "      <th>emb_dim</th>\n",
       "      <th>n_epicentres</th>\n",
       "      <th>linearsep</th>\n",
       "      <th>n_runs</th>\n",
       "      <th>max_restart</th>\n",
       "      <th>max_epoch</th>\n",
       "      <th>batch_size</th>\n",
       "      <th>gmm_scale</th>\n",
       "      <th>loss_distr_scale</th>\n",
       "      <th>loss_cycle_scale</th>\n",
       "      <th>lr</th>\n",
       "    </tr>\n",
       "  </thead>\n",
       "  <tbody>\n",
       "    <tr>\n",
       "      <th>0</th>\n",
       "      <td>knn_pretrain_angles_radius_base</td>\n",
       "      <td>05dad924-1e36-4cd9-83a5-344bf6d29954</td>\n",
       "      <td>2</td>\n",
       "      <td>200</td>\n",
       "      <td>0.001</td>\n",
       "      <td>2</td>\n",
       "      <td>1</td>\n",
       "      <td>1</td>\n",
       "      <td>10</td>\n",
       "      <td>110</td>\n",
       "      <td>30</td>\n",
       "      <td>100</td>\n",
       "      <td>0.01</td>\n",
       "      <td>1.0</td>\n",
       "      <td>10000.0</td>\n",
       "      <td>0.001</td>\n",
       "    </tr>\n",
       "  </tbody>\n",
       "</table>\n",
       "</div>"
      ],
      "text/plain": [
       "                   experiment_name                         experiment_id  \\\n",
       "0  knn_pretrain_angles_radius_base  05dad924-1e36-4cd9-83a5-344bf6d29954   \n",
       "\n",
       "   n_systems  n_concepts  noise  emb_dim  n_epicentres  linearsep  n_runs  \\\n",
       "0          2         200  0.001        2             1          1      10   \n",
       "\n",
       "   max_restart  max_epoch  batch_size  gmm_scale  loss_distr_scale  \\\n",
       "0          110         30         100       0.01               1.0   \n",
       "\n",
       "   loss_cycle_scale     lr  \n",
       "0           10000.0  0.001  "
      ]
     },
     "metadata": {},
     "output_type": "display_data"
    }
   ],
   "source": [
    "#===PARAMETERS===\\\n",
    "override = False\n",
    "sd = 56 #This should make the subsequend rd seed generation reproducible\n",
    "tf.random.set_seed(sd)\n",
    "np.random.seed(sd)\n",
    "#=Synthetic data\n",
    "n_systems = 2\n",
    "n_concepts = 200\n",
    "noise = 0.001\n",
    "emb_dim = 2\n",
    "n_epicentres = 1\n",
    "linearsep = 1\n",
    "#=Neural net\n",
    "n_runs = 10\n",
    "max_restart = 110 #10 last restarts to fine tune best\n",
    "max_epoch = 30\n",
    "batch_size = np.minimum(100, n_concepts) #64/100\n",
    "#max_patience = 5\n",
    "#=losses\n",
    "gmm_scale = 0.01\n",
    "loss_distr_scale = 1.0\n",
    "loss_cycle_scale = 10000.0\n",
    "#=Define models / optimizer/losses\n",
    "lr = 0.001\n",
    "optimizer = tf.keras.optimizers.Adam(learning_rate=lr)\n",
    "#==SETUP=====\n",
    "template_ceil = '    Ceiling\\n    Accuracy 1: {0:.2f} 5: {1:.2f} 10: {2:.2f} Half: {3:.2f}\\n'\n",
    "template_loss = '    Epoch {0} Loss | total: {1:.5g} | cycle: {2:.3g} | f_dist: {3:.3g} | g_dist: {4:.3g}'\n",
    "template_acc = '{0} = | 1: {1:.2f} | 5: {2:.2f} | 10: {3:.2f} | half: {4:.2f}'\n",
    "template_res = '{0} = | f1: {1:.2f} | fhalf: {2:.2f} | g1: {3:.2f} | ghalf: {4:.2f} | total: {5:.2f} cycle: {6:.2f} | f_dist: {7:.2f} | g_dist: {8:.2f} '\n",
    "n_batch = int(np.ceil(n_concepts / batch_size))\n",
    "#==Set folders to save results and models===\n",
    "fp_save_runs,fp_save_models = utils.create_save_folder(fp_save,override,n_systems,n_concepts,noise,emb_dim,\n",
    "                                                 n_epicentres,linearsep,max_restart,max_epoch,batch_size,name = experiment_name)\n",
    "print(fp_save_runs)\n",
    "#===Get seed lists\n",
    "sd_run_list = list(np.random.choice(10000, n_runs, replace=False))\n",
    "#===Save params\n",
    "experiment_id = uuid.uuid4()\n",
    "dict_params = {'experiment_name':experiment_name,'experiment_id':experiment_id,'n_systems':n_systems,'n_concepts':n_concepts,'noise':noise,'emb_dim':emb_dim,'n_epicentres':n_epicentres,'linearsep':linearsep,\n",
    "               'n_runs':n_runs,'max_restart':max_restart,'max_epoch':max_epoch,'batch_size':batch_size,'gmm_scale':gmm_scale,'loss_distr_scale':loss_distr_scale,\n",
    "               'loss_cycle_scale':loss_cycle_scale,'lr':lr}\n",
    "with open(str(fp_save_runs)+'/dict_params.pickle', 'wb') as handle:\n",
    "  pickle.dump(dict_params, handle, protocol=pickle.HIGHEST_PROTOCOL)\n",
    "display(pd.DataFrame([dict_params]))"
   ]
  },
  {
   "cell_type": "markdown",
   "metadata": {
    "colab_type": "text",
    "id": "8Vxvhq7LDOSD"
   },
   "source": [
    "# Prepare synthetic data"
   ]
  },
  {
   "cell_type": "code",
   "execution_count": 12,
   "metadata": {
    "colab": {
     "base_uri": "https://localhost:8080/",
     "height": 836
    },
    "colab_type": "code",
    "executionInfo": {
     "elapsed": 5565,
     "status": "ok",
     "timestamp": 1597281921123,
     "user": {
      "displayName": "Roseline",
      "photoUrl": "",
      "userId": "06567256556577965216"
     },
     "user_tz": -60
    },
    "id": "zQLWulxnDOSD",
    "outputId": "9864d236-a4ce-4cd9-e77c-6e0817b4d529"
   },
   "outputs": [
    {
     "data": {
      "image/png": "[encoded data removed]",
      "text/plain": [
       "<Figure size 432x288 with 2 Axes>"
      ]
     },
     "metadata": {
      "needs_background": "light"
     },
     "output_type": "display_data"
    },
    {
     "name": "stdout",
     "output_type": "stream",
     "text": [
      "    Ceiling\n",
      "    Accuracy 1: 1.00 5: 1.00 10: 1.00 Half: 1.00\n",
      "\n"
     ]
    },
    {
     "data": {
      "image/png": "[encoded data removed]",
      "text/plain": [
       "<Figure size 432x288 with 2 Axes>"
      ]
     },
     "metadata": {
      "needs_background": "light"
     },
     "output_type": "display_data"
    },
    {
     "name": "stdout",
     "output_type": "stream",
     "text": [
      "10 right over 10 tot\n",
      "1.0\n",
      "[[185   5   5]\n",
      " [  5 147 147]\n",
      " [117 194 194]\n",
      " [ 33 105 105]\n",
      " [ 72  79  79]\n",
      " [147 180 180]\n",
      " [ 46 125 125]\n",
      " [197 178 178]\n",
      " [ 53  29  29]\n",
      " [ 68  84  84]]\n",
      "(10, 2) (10, 2)\n",
      "Took : 6.23 s\n"
     ]
    }
   ],
   "source": [
    "A,B,X_A,X_B,B_shuff,B_idx_map = emb.get_data(n_systems,n_concepts,emb_dim,noise,n_epicentres,linearsep,sd,bplot=True)\n",
    "# Determine ceiling performance.\n",
    "acc_1, acc_5, acc_10, acc_half = utils.mapping_accuracy(X_A, X_B)\n",
    "print(template_ceil.format(acc_1, acc_5, acc_10, acc_half))\n",
    "#Print distance matrix local faetures\n",
    "start = time.time()\n",
    "D_XY = knn.get_DXY_angles(A,B_shuff,radius=rad,bplot = True)\n",
    "X_pretrain,Y_pretrain, matches = knn.get_corres_data(A,B_shuff,D_XY,Ncorr)\n",
    "acc , mat = knn.check_corresp(matches,B_idx_map)\n",
    "print(acc)\n",
    "print(mat)\n",
    "print(X_pretrain.shape,Y_pretrain.shape)\n",
    "end = time.time()\n",
    "print(\"Took : %.2f s\"%(end-start))"
   ]
  },
  {
   "cell_type": "code",
   "execution_count": 13,
   "metadata": {
    "colab": {},
    "colab_type": "code",
    "executionInfo": {
     "elapsed": 4607,
     "status": "ok",
     "timestamp": 1597281921126,
     "user": {
      "displayName": "Roseline",
      "photoUrl": "",
      "userId": "06567256556577965216"
     },
     "user_tz": -60
    },
    "id": "ecynlhoeBPIN"
   },
   "outputs": [],
   "source": [
    "def pretrain(model_f,model_g,optimizer,x_pretrain, y_pretrain):\n",
    "      with tf.GradientTape() as tape_pretrain_f:\n",
    "        f_x = model_f(x_pretrain)\n",
    "        corr_loss_f = tf.reduce_mean(tf.keras.losses.MSE(f_x, y_pretrain))\n",
    "      gradients_pretrain_f = tape_pretrain_f.gradient(corr_loss_f, model_f.trainable_variables)\n",
    "      with tf.GradientTape() as tape_pretrain_g:\n",
    "        g_y = model_g(y_pretrain)\n",
    "        corr_loss_g = tf.reduce_mean(tf.keras.losses.MSE(g_y, x_pretrain))\n",
    "      gradients_pretrain_g = tape_pretrain_g.gradient(corr_loss_g, model_g.trainable_variables)\n",
    "      # Combine gradients.\n",
    "      optimizer.apply_gradients(zip(gradients_pretrain_f, model_f.trainable_variables))\n",
    "      optimizer.apply_gradients(zip(gradients_pretrain_g, model_g.trainable_variables))\n",
    "      return corr_loss_f, corr_loss_g\n",
    "\n",
    "def train_batch_step(model_f,model_g,optimizer,x_batch, y_batch, loss_cycle_scale):\n",
    "        with tf.GradientTape(persistent=True) as tape_cycle:\n",
    "            x_c = model_g(model_f(x_batch))\n",
    "            y_c = model_f(model_g(y_batch))\n",
    "            cycle_loss = loss_cycle_scale * losses.flex_cycle_loss([x_batch,y_batch],[x_c,y_c], norm_type = 'l2')\n",
    "        gradients_cycle_f = tape_cycle.gradient(cycle_loss, model_f.trainable_variables)\n",
    "        gradients_cycle_g = tape_cycle.gradient(cycle_loss, model_g.trainable_variables)\n",
    "        del tape_cycle\n",
    "        optimizer.apply_gradients(zip(gradients_cycle_f, model_f.trainable_variables))\n",
    "        optimizer.apply_gradients(zip(gradients_cycle_g, model_g.trainable_variables))\n",
    "        return cycle_loss\n",
    "    \n",
    "def train_full_step(model_f,model_g,optimizer,x_all, y_all, loss_distr_scale,gmm_scale):\n",
    "        k = 5\n",
    "        beta = 0.1\n",
    "        loss_knn_scale = 1\n",
    "        with tf.GradientTape() as tape_f0:\n",
    "            f_x = model_f(x_all)\n",
    "            dist_loss_f = loss_distr_scale * losses.distribution_loss(y_all, f_x, gmm_scale)\n",
    "            knn_loss_f = 0 #loss_knn_scale * knn_loss_calcX(y_all,f_x,k,beta)\n",
    "            tot_loss_f = dist_loss_f + knn_loss_f\n",
    "        gradients_target_fx = tape_f0.gradient(tot_loss_f, model_f.trainable_variables)\n",
    "        with tf.GradientTape() as tape_g0:\n",
    "            g_y = model_g(y_all)\n",
    "            dist_loss_g = loss_distr_scale * losses.distribution_loss(x_all, g_y, gmm_scale)\n",
    "            knn_loss_g = 0 #loss_knn_scale * knn_loss_calcX(x_all,g_y,k,beta)\n",
    "            tot_loss_g = dist_loss_g + knn_loss_g\n",
    "        gradients_target_gy = tape_g0.gradient(tot_loss_g, model_g.trainable_variables)\n",
    "        # Combine gradients.\n",
    "        optimizer.apply_gradients(zip(gradients_target_fx, model_f.trainable_variables))\n",
    "        optimizer.apply_gradients(zip(gradients_target_gy, model_g.trainable_variables))\n",
    "        return dist_loss_f, dist_loss_g , knn_loss_f , knn_loss_g"
   ]
  },
  {
   "cell_type": "code",
   "execution_count": 16,
   "metadata": {
    "colab": {},
    "colab_type": "code",
    "executionInfo": {
     "elapsed": 3321,
     "status": "ok",
     "timestamp": 1597281921129,
     "user": {
      "displayName": "Roseline",
      "photoUrl": "",
      "userId": "06567256556577965216"
     },
     "user_tz": -60
    },
    "id": "RY52zUq7DOSL"
   },
   "outputs": [],
   "source": [
    "def train_models_one_restart(i_run,i_restart,sd_restart,x,y,y_idx_map,model_f,model_g,max_epoch,n_batch,x_0,x_1):\n",
    "    #LOOP THROUGH EPOCHS\n",
    "    epochs_dict_list = []\n",
    "    for i_epoch in range(max_epoch):\n",
    "        for x_batch, y_batch in utils.get_batch(x, y, batch_size):        \n",
    "            #cycle_loss = train.train_batch_step(model_f,model_g,optimizer,x_batch, y_batch, loss_cycle_scale)\n",
    "            cycle_loss = train_batch_step(model_f,model_g,optimizer,x_batch, y_batch, loss_cycle_scale)\n",
    "        #dist_loss_f, dist_loss_g, knn_loss = train.train_full_step(model_f,model_g,optimizer,x, y,loss_distr_scale,gmm_scale)\n",
    "        dist_loss_f, dist_loss_g, knn_loss_f , knn_loss_g = train_full_step(model_f,model_g,optimizer,x, y,loss_distr_scale,gmm_scale)\n",
    "        knn_loss = knn_loss_f + knn_loss_g\n",
    "        loss_total = dist_loss_f + dist_loss_g + cycle_loss + knn_loss\n",
    "        # Project concept using current models\n",
    "        f_x = model_f(x).numpy()\n",
    "        g_y = model_g(y).numpy()\n",
    "        #Get accuracies\n",
    "        if y_idx_map is not None:\n",
    "#             acc_f1, acc_f5, acc_f10, acc_fhalf = utils.mapping_accuracy(f_x, y.numpy()[y_idx_map]) #Does not work on local CPU\n",
    "#             acc_g1, acc_g5, acc_g10, acc_ghalf = utils.mapping_accuracy(g_y[y_idx_map], x.numpy()) #Does not work on local CPU\n",
    "            acc_f1, acc_f5, acc_f10, acc_fhalf = utils.mapping_accuracy(f_x, y[y_idx_map])\n",
    "            acc_g1, acc_g5, acc_g10, acc_ghalf = utils.mapping_accuracy(g_y[y_idx_map], x) \n",
    "        #Record all data in dict. \n",
    "        dict_entry = {'experiment_name':experiment_name,'experiment_id':experiment_id,'run':i_run,'restart':i_restart,'sd_restart':sd_restart,'epoch':i_epoch,'loss_total':loss_total.numpy(),\n",
    "                      'cycle_loss':cycle_loss.numpy(),'dist_loss_f':dist_loss_f.numpy(),'dist_loss_g':dist_loss_g.numpy(),\n",
    "                     'acc_f1':acc_f1, 'acc_f5':acc_f5, 'acc_f10':acc_f10, 'acc_fhalf':acc_fhalf,\n",
    "                     'acc_g1':acc_g1, 'acc_g5':acc_g5, 'acc_g10':acc_g10, 'acc_ghalf':acc_ghalf}\n",
    "        epochs_dict_list.append(dict_entry)\n",
    "        #Print current results\n",
    "        if i_epoch % max_epoch ==0 or i_epoch==max_epoch-1:\n",
    "            print(template_res.format(i_epoch,acc_f1,acc_fhalf,acc_g1,acc_ghalf,loss_total,cycle_loss,dist_loss_f,dist_loss_g))\n",
    "            #print('Epoch %d -'%i_epoch,template_acc.format('f(x)', acc_f1, acc_f5, acc_f10, acc_fhalf),template_acc.format('g(x)', acc_g1, acc_g5, acc_g10, acc_ghalf)) \n",
    "    #Plot final epoch\n",
    "    #utils.plot_systems_results(x,y,f_x,g_y,x_0,x_1)\n",
    "    return model_f,model_g,epochs_dict_list"
   ]
  },
  {
   "cell_type": "code",
   "execution_count": 17,
   "metadata": {
    "colab": {
     "base_uri": "https://localhost:8080/",
     "height": 1000,
     "referenced_widgets": [
      "d4718bca5cc44edab2dcadba46da2558",
      "c4762448f83f4af1963b97dd18baf530",
      "ac71ffba22e64c61821cccf8cdc1d765",
      "78f9e03937ba46329ef799734e0247e4",
      "ba63c95133fb4194a77c28f9e699bd60",
      "6569c5bdee244e138cbe850a37626ff7",
      "4baae098813944d99e92da3e19e9af95",
      "7047bf0632fb45148e7fcaadd828747a",
      "86eae87db847497b9a6e2de610252b9f",
      "6e5c9c7052b3440abcf2d6bd68342393",
      "4ff5bec1971a4cdc93ffc5e371e7e08a",
      "b1d3a67238b6485e907b8134d966ebac",
      "4a82be4f8528478f906e1a5504994ac8",
      "c9dfe152ce584fd1b9bec7e79c8677ed",
      "4d2326ff9189434b988949699bbb3e38",
      "ea21921ce7f44d809da8b5a80eb11068",
      "e306006c4ccc42fd9dfd2679dd2796a5",
      "67aedac9262943eaa55c410612a830c7",
      "c3df322f64bf4104a8405a02ec9cfea3",
      "c88ff8046392423c83f8e59eac59ce25",
      "3baf3355a5f94156b87eb2ced5ffcf59",
      "b7bf83f4af0f4496b40cbf9f95fa7276",
      "114ce083998341bda999e59a3259c4bf",
      "68dd4bc01333446db9d8d8f0946c6ed6"
     ]
    },
    "colab_type": "code",
    "executionInfo": {
     "elapsed": 36700,
     "status": "ok",
     "timestamp": 1597281955292,
     "user": {
      "displayName": "Roseline",
      "photoUrl": "",
      "userId": "06567256556577965216"
     },
     "user_tz": -60
    },
    "id": "1lg5dAk6DOSO",
    "outputId": "35f54e7c-e814-4f38-919a-a29e9ff3ce15"
   },
   "outputs": [
    {
     "name": "stdout",
     "output_type": "stream",
     "text": [
      "===============================\n",
      "======Run 0======\n",
      "===============================\n",
      "Seed :  4941\n"
     ]
    },
    {
     "data": {
      "image/png": "[encoded data removed]",
      "text/plain": [
       "<Figure size 432x288 with 2 Axes>"
      ]
     },
     "metadata": {
      "needs_background": "light"
     },
     "output_type": "display_data"
    },
    {
     "name": "stdout",
     "output_type": "stream",
     "text": [
      "    Ceiling\n",
      "    Accuracy 1: 0.99 5: 1.00 10: 1.00 Half: 1.00\n",
      "\n",
      "    Threshold accuracy : 0.89\n",
      "9 right over 10 tot\n"
     ]
    },
    {
     "data": {
      "application/vnd.jupyter.widget-view+json": {
       "model_id": "6300b447332444d396bfed93e4168e76",
       "version_major": 2,
       "version_minor": 0
      },
      "text/plain": [
       "HBox(children=(FloatProgress(value=0.0, max=110.0), HTML(value='')))"
      ]
     },
     "metadata": {},
     "output_type": "display_data"
    },
    {
     "name": "stdout",
     "output_type": "stream",
     "text": [
      "======Restart 0======\n",
      "    New model_f\n",
      "    New model_g\n",
      "0 = | f1: 0.18 | fhalf: 1.00 | g1: 0.21 | ghalf: 1.00 | total: 10.48 cycle: 7.96 | f_dist: 1.85 | g_dist: 0.67 \n",
      "29 = | f1: 0.98 | fhalf: 1.00 | g1: 0.99 | ghalf: 1.00 | total: 0.07 cycle: 0.04 | f_dist: 0.02 | g_dist: 0.02 \n",
      "    Beat best model_f.\n",
      "    Beat best model_g.\n",
      "1 restarts necessary\n",
      "======Restart 1======\n",
      "    New model_f\n",
      "    New model_g\n",
      "0 = | f1: 0.10 | fhalf: 1.00 | g1: 0.07 | ghalf: 1.00 | total: 57.99 cycle: 54.36 | f_dist: 1.57 | g_dist: 2.06 \n",
      "\n"
     ]
    },
    {
     "ename": "KeyboardInterrupt",
     "evalue": "",
     "output_type": "error",
     "traceback": [
      "\u001b[0;31m---------------------------------------------------------------------------\u001b[0m",
      "\u001b[0;31mKeyboardInterrupt\u001b[0m                         Traceback (most recent call last)",
      "\u001b[0;32m<ipython-input-17-d7425d275036>\u001b[0m in \u001b[0;36m<module>\u001b[0;34m\u001b[0m\n\u001b[1;32m     62\u001b[0m         \u001b[0;31m#==Train\u001b[0m\u001b[0;34m\u001b[0m\u001b[0;34m\u001b[0m\u001b[0;34m\u001b[0m\u001b[0m\n\u001b[1;32m     63\u001b[0m         model_f,model_g,epochs_dict_list = train_models_one_restart(i_run,i_restart,sd_restart,\n\u001b[0;32m---> 64\u001b[0;31m                                                                     x,y,y_idx_map,model_f,model_g,max_epoch,n_batch,X_A,X_B)\n\u001b[0m\u001b[1;32m     65\u001b[0m         \u001b[0;31m#Get final losses and accuracies\u001b[0m\u001b[0;34m\u001b[0m\u001b[0;34m\u001b[0m\u001b[0;34m\u001b[0m\u001b[0m\n\u001b[1;32m     66\u001b[0m         \u001b[0mlast_epoch_dict\u001b[0m \u001b[0;34m=\u001b[0m \u001b[0mepochs_dict_list\u001b[0m\u001b[0;34m[\u001b[0m\u001b[0;34m-\u001b[0m\u001b[0;36m1\u001b[0m\u001b[0;34m]\u001b[0m\u001b[0;34m\u001b[0m\u001b[0;34m\u001b[0m\u001b[0m\n",
      "\u001b[0;32m<ipython-input-16-b1dabc3ef987>\u001b[0m in \u001b[0;36mtrain_models_one_restart\u001b[0;34m(i_run, i_restart, sd_restart, x, y, y_idx_map, model_f, model_g, max_epoch, n_batch, x_0, x_1)\u001b[0m\n\u001b[1;32m      5\u001b[0m         \u001b[0;32mfor\u001b[0m \u001b[0mx_batch\u001b[0m\u001b[0;34m,\u001b[0m \u001b[0my_batch\u001b[0m \u001b[0;32min\u001b[0m \u001b[0mutils\u001b[0m\u001b[0;34m.\u001b[0m\u001b[0mget_batch\u001b[0m\u001b[0;34m(\u001b[0m\u001b[0mx\u001b[0m\u001b[0;34m,\u001b[0m \u001b[0my\u001b[0m\u001b[0;34m,\u001b[0m \u001b[0mbatch_size\u001b[0m\u001b[0;34m)\u001b[0m\u001b[0;34m:\u001b[0m\u001b[0;34m\u001b[0m\u001b[0;34m\u001b[0m\u001b[0m\n\u001b[1;32m      6\u001b[0m             \u001b[0;31m#cycle_loss = train.train_batch_step(model_f,model_g,optimizer,x_batch, y_batch, loss_cycle_scale)\u001b[0m\u001b[0;34m\u001b[0m\u001b[0;34m\u001b[0m\u001b[0;34m\u001b[0m\u001b[0m\n\u001b[0;32m----> 7\u001b[0;31m             \u001b[0mcycle_loss\u001b[0m \u001b[0;34m=\u001b[0m \u001b[0mtrain_batch_step\u001b[0m\u001b[0;34m(\u001b[0m\u001b[0mmodel_f\u001b[0m\u001b[0;34m,\u001b[0m\u001b[0mmodel_g\u001b[0m\u001b[0;34m,\u001b[0m\u001b[0moptimizer\u001b[0m\u001b[0;34m,\u001b[0m\u001b[0mx_batch\u001b[0m\u001b[0;34m,\u001b[0m \u001b[0my_batch\u001b[0m\u001b[0;34m,\u001b[0m \u001b[0mloss_cycle_scale\u001b[0m\u001b[0;34m)\u001b[0m\u001b[0;34m\u001b[0m\u001b[0;34m\u001b[0m\u001b[0m\n\u001b[0m\u001b[1;32m      8\u001b[0m         \u001b[0;31m#dist_loss_f, dist_loss_g, knn_loss = train.train_full_step(model_f,model_g,optimizer,x, y,loss_distr_scale,gmm_scale)\u001b[0m\u001b[0;34m\u001b[0m\u001b[0;34m\u001b[0m\u001b[0;34m\u001b[0m\u001b[0m\n\u001b[1;32m      9\u001b[0m         \u001b[0mdist_loss_f\u001b[0m\u001b[0;34m,\u001b[0m \u001b[0mdist_loss_g\u001b[0m\u001b[0;34m,\u001b[0m \u001b[0mknn_loss_f\u001b[0m \u001b[0;34m,\u001b[0m \u001b[0mknn_loss_g\u001b[0m \u001b[0;34m=\u001b[0m \u001b[0mtrain_full_step\u001b[0m\u001b[0;34m(\u001b[0m\u001b[0mmodel_f\u001b[0m\u001b[0;34m,\u001b[0m\u001b[0mmodel_g\u001b[0m\u001b[0;34m,\u001b[0m\u001b[0moptimizer\u001b[0m\u001b[0;34m,\u001b[0m\u001b[0mx\u001b[0m\u001b[0;34m,\u001b[0m \u001b[0my\u001b[0m\u001b[0;34m,\u001b[0m\u001b[0mloss_distr_scale\u001b[0m\u001b[0;34m,\u001b[0m\u001b[0mgmm_scale\u001b[0m\u001b[0;34m)\u001b[0m\u001b[0;34m\u001b[0m\u001b[0;34m\u001b[0m\u001b[0m\n",
      "\u001b[0;32m<ipython-input-13-b6f1027f9440>\u001b[0m in \u001b[0;36mtrain_batch_step\u001b[0;34m(model_f, model_g, optimizer, x_batch, y_batch, loss_cycle_scale)\u001b[0m\n\u001b[1;32m     22\u001b[0m         \u001b[0;32mdel\u001b[0m \u001b[0mtape_cycle\u001b[0m\u001b[0;34m\u001b[0m\u001b[0;34m\u001b[0m\u001b[0m\n\u001b[1;32m     23\u001b[0m         \u001b[0moptimizer\u001b[0m\u001b[0;34m.\u001b[0m\u001b[0mapply_gradients\u001b[0m\u001b[0;34m(\u001b[0m\u001b[0mzip\u001b[0m\u001b[0;34m(\u001b[0m\u001b[0mgradients_cycle_f\u001b[0m\u001b[0;34m,\u001b[0m \u001b[0mmodel_f\u001b[0m\u001b[0;34m.\u001b[0m\u001b[0mtrainable_variables\u001b[0m\u001b[0;34m)\u001b[0m\u001b[0;34m)\u001b[0m\u001b[0;34m\u001b[0m\u001b[0;34m\u001b[0m\u001b[0m\n\u001b[0;32m---> 24\u001b[0;31m         \u001b[0moptimizer\u001b[0m\u001b[0;34m.\u001b[0m\u001b[0mapply_gradients\u001b[0m\u001b[0;34m(\u001b[0m\u001b[0mzip\u001b[0m\u001b[0;34m(\u001b[0m\u001b[0mgradients_cycle_g\u001b[0m\u001b[0;34m,\u001b[0m \u001b[0mmodel_g\u001b[0m\u001b[0;34m.\u001b[0m\u001b[0mtrainable_variables\u001b[0m\u001b[0;34m)\u001b[0m\u001b[0;34m)\u001b[0m\u001b[0;34m\u001b[0m\u001b[0;34m\u001b[0m\u001b[0m\n\u001b[0m\u001b[1;32m     25\u001b[0m         \u001b[0;32mreturn\u001b[0m \u001b[0mcycle_loss\u001b[0m\u001b[0;34m\u001b[0m\u001b[0;34m\u001b[0m\u001b[0m\n\u001b[1;32m     26\u001b[0m \u001b[0;34m\u001b[0m\u001b[0m\n",
      "\u001b[0;32m/opt/anaconda3/lib/python3.7/site-packages/tensorflow_core/python/keras/optimizer_v2/optimizer_v2.py\u001b[0m in \u001b[0;36mapply_gradients\u001b[0;34m(self, grads_and_vars, name)\u001b[0m\n\u001b[1;32m    442\u001b[0m           \u001b[0mfunctools\u001b[0m\u001b[0;34m.\u001b[0m\u001b[0mpartial\u001b[0m\u001b[0;34m(\u001b[0m\u001b[0mself\u001b[0m\u001b[0;34m.\u001b[0m\u001b[0m_distributed_apply\u001b[0m\u001b[0;34m,\u001b[0m \u001b[0mapply_state\u001b[0m\u001b[0;34m=\u001b[0m\u001b[0mapply_state\u001b[0m\u001b[0;34m)\u001b[0m\u001b[0;34m,\u001b[0m\u001b[0;34m\u001b[0m\u001b[0;34m\u001b[0m\u001b[0m\n\u001b[1;32m    443\u001b[0m           \u001b[0margs\u001b[0m\u001b[0;34m=\u001b[0m\u001b[0;34m(\u001b[0m\u001b[0mgrads_and_vars\u001b[0m\u001b[0;34m,\u001b[0m\u001b[0;34m)\u001b[0m\u001b[0;34m,\u001b[0m\u001b[0;34m\u001b[0m\u001b[0;34m\u001b[0m\u001b[0m\n\u001b[0;32m--> 444\u001b[0;31m           kwargs={\"name\": name})\n\u001b[0m\u001b[1;32m    445\u001b[0m \u001b[0;34m\u001b[0m\u001b[0m\n\u001b[1;32m    446\u001b[0m   \u001b[0;32mdef\u001b[0m \u001b[0m_distributed_apply\u001b[0m\u001b[0;34m(\u001b[0m\u001b[0mself\u001b[0m\u001b[0;34m,\u001b[0m \u001b[0mdistribution\u001b[0m\u001b[0;34m,\u001b[0m \u001b[0mgrads_and_vars\u001b[0m\u001b[0;34m,\u001b[0m \u001b[0mname\u001b[0m\u001b[0;34m,\u001b[0m \u001b[0mapply_state\u001b[0m\u001b[0;34m)\u001b[0m\u001b[0;34m:\u001b[0m\u001b[0;34m\u001b[0m\u001b[0;34m\u001b[0m\u001b[0m\n",
      "\u001b[0;32m/opt/anaconda3/lib/python3.7/site-packages/tensorflow_core/python/distribute/distribute_lib.py\u001b[0m in \u001b[0;36mmerge_call\u001b[0;34m(self, merge_fn, args, kwargs)\u001b[0m\n\u001b[1;32m   1947\u001b[0m     \u001b[0;32mif\u001b[0m \u001b[0mkwargs\u001b[0m \u001b[0;32mis\u001b[0m \u001b[0;32mNone\u001b[0m\u001b[0;34m:\u001b[0m\u001b[0;34m\u001b[0m\u001b[0;34m\u001b[0m\u001b[0m\n\u001b[1;32m   1948\u001b[0m       \u001b[0mkwargs\u001b[0m \u001b[0;34m=\u001b[0m \u001b[0;34m{\u001b[0m\u001b[0;34m}\u001b[0m\u001b[0;34m\u001b[0m\u001b[0;34m\u001b[0m\u001b[0m\n\u001b[0;32m-> 1949\u001b[0;31m     \u001b[0;32mreturn\u001b[0m \u001b[0mself\u001b[0m\u001b[0;34m.\u001b[0m\u001b[0m_merge_call\u001b[0m\u001b[0;34m(\u001b[0m\u001b[0mmerge_fn\u001b[0m\u001b[0;34m,\u001b[0m \u001b[0margs\u001b[0m\u001b[0;34m,\u001b[0m \u001b[0mkwargs\u001b[0m\u001b[0;34m)\u001b[0m\u001b[0;34m\u001b[0m\u001b[0;34m\u001b[0m\u001b[0m\n\u001b[0m\u001b[1;32m   1950\u001b[0m \u001b[0;34m\u001b[0m\u001b[0m\n\u001b[1;32m   1951\u001b[0m   \u001b[0;32mdef\u001b[0m \u001b[0m_merge_call\u001b[0m\u001b[0;34m(\u001b[0m\u001b[0mself\u001b[0m\u001b[0;34m,\u001b[0m \u001b[0mmerge_fn\u001b[0m\u001b[0;34m,\u001b[0m \u001b[0margs\u001b[0m\u001b[0;34m,\u001b[0m \u001b[0mkwargs\u001b[0m\u001b[0;34m)\u001b[0m\u001b[0;34m:\u001b[0m\u001b[0;34m\u001b[0m\u001b[0;34m\u001b[0m\u001b[0m\n",
      "\u001b[0;32m/opt/anaconda3/lib/python3.7/site-packages/tensorflow_core/python/distribute/distribute_lib.py\u001b[0m in \u001b[0;36m_merge_call\u001b[0;34m(self, merge_fn, args, kwargs)\u001b[0m\n\u001b[1;32m   1954\u001b[0m         distribution_strategy_context._CrossReplicaThreadMode(self._strategy))  # pylint: disable=protected-access\n\u001b[1;32m   1955\u001b[0m     \u001b[0;32mtry\u001b[0m\u001b[0;34m:\u001b[0m\u001b[0;34m\u001b[0m\u001b[0;34m\u001b[0m\u001b[0m\n\u001b[0;32m-> 1956\u001b[0;31m       \u001b[0;32mreturn\u001b[0m \u001b[0mmerge_fn\u001b[0m\u001b[0;34m(\u001b[0m\u001b[0mself\u001b[0m\u001b[0;34m.\u001b[0m\u001b[0m_strategy\u001b[0m\u001b[0;34m,\u001b[0m \u001b[0;34m*\u001b[0m\u001b[0margs\u001b[0m\u001b[0;34m,\u001b[0m \u001b[0;34m**\u001b[0m\u001b[0mkwargs\u001b[0m\u001b[0;34m)\u001b[0m\u001b[0;34m\u001b[0m\u001b[0;34m\u001b[0m\u001b[0m\n\u001b[0m\u001b[1;32m   1957\u001b[0m     \u001b[0;32mfinally\u001b[0m\u001b[0;34m:\u001b[0m\u001b[0;34m\u001b[0m\u001b[0;34m\u001b[0m\u001b[0m\n\u001b[1;32m   1958\u001b[0m       \u001b[0m_pop_per_thread_mode\u001b[0m\u001b[0;34m(\u001b[0m\u001b[0;34m)\u001b[0m\u001b[0;34m\u001b[0m\u001b[0;34m\u001b[0m\u001b[0m\n",
      "\u001b[0;32m/opt/anaconda3/lib/python3.7/site-packages/tensorflow_core/python/keras/optimizer_v2/optimizer_v2.py\u001b[0m in \u001b[0;36m_distributed_apply\u001b[0;34m(self, distribution, grads_and_vars, name, apply_state)\u001b[0m\n\u001b[1;32m    486\u001b[0m           update_ops.extend(\n\u001b[1;32m    487\u001b[0m               distribution.extended.update(\n\u001b[0;32m--> 488\u001b[0;31m                   var, apply_grad_to_update_var, args=(grad,), group=False))\n\u001b[0m\u001b[1;32m    489\u001b[0m \u001b[0;34m\u001b[0m\u001b[0m\n\u001b[1;32m    490\u001b[0m       any_symbolic = any(isinstance(i, ops.Operation) or\n",
      "\u001b[0;32m/opt/anaconda3/lib/python3.7/site-packages/tensorflow_core/python/distribute/distribute_lib.py\u001b[0m in \u001b[0;36mupdate\u001b[0;34m(self, var, fn, args, kwargs, group)\u001b[0m\n\u001b[1;32m   1541\u001b[0m       \u001b[0mkwargs\u001b[0m \u001b[0;34m=\u001b[0m \u001b[0;34m{\u001b[0m\u001b[0;34m}\u001b[0m\u001b[0;34m\u001b[0m\u001b[0;34m\u001b[0m\u001b[0m\n\u001b[1;32m   1542\u001b[0m     \u001b[0;32mwith\u001b[0m \u001b[0mself\u001b[0m\u001b[0;34m.\u001b[0m\u001b[0m_container_strategy\u001b[0m\u001b[0;34m(\u001b[0m\u001b[0;34m)\u001b[0m\u001b[0;34m.\u001b[0m\u001b[0mscope\u001b[0m\u001b[0;34m(\u001b[0m\u001b[0;34m)\u001b[0m\u001b[0;34m:\u001b[0m\u001b[0;34m\u001b[0m\u001b[0;34m\u001b[0m\u001b[0m\n\u001b[0;32m-> 1543\u001b[0;31m       \u001b[0;32mreturn\u001b[0m \u001b[0mself\u001b[0m\u001b[0;34m.\u001b[0m\u001b[0m_update\u001b[0m\u001b[0;34m(\u001b[0m\u001b[0mvar\u001b[0m\u001b[0;34m,\u001b[0m \u001b[0mfn\u001b[0m\u001b[0;34m,\u001b[0m \u001b[0margs\u001b[0m\u001b[0;34m,\u001b[0m \u001b[0mkwargs\u001b[0m\u001b[0;34m,\u001b[0m \u001b[0mgroup\u001b[0m\u001b[0;34m)\u001b[0m\u001b[0;34m\u001b[0m\u001b[0;34m\u001b[0m\u001b[0m\n\u001b[0m\u001b[1;32m   1544\u001b[0m \u001b[0;34m\u001b[0m\u001b[0m\n\u001b[1;32m   1545\u001b[0m   \u001b[0;32mdef\u001b[0m \u001b[0m_update\u001b[0m\u001b[0;34m(\u001b[0m\u001b[0mself\u001b[0m\u001b[0;34m,\u001b[0m \u001b[0mvar\u001b[0m\u001b[0;34m,\u001b[0m \u001b[0mfn\u001b[0m\u001b[0;34m,\u001b[0m \u001b[0margs\u001b[0m\u001b[0;34m,\u001b[0m \u001b[0mkwargs\u001b[0m\u001b[0;34m,\u001b[0m \u001b[0mgroup\u001b[0m\u001b[0;34m)\u001b[0m\u001b[0;34m:\u001b[0m\u001b[0;34m\u001b[0m\u001b[0;34m\u001b[0m\u001b[0m\n",
      "\u001b[0;32m/opt/anaconda3/lib/python3.7/site-packages/tensorflow_core/python/distribute/distribute_lib.py\u001b[0m in \u001b[0;36m_update\u001b[0;34m(self, var, fn, args, kwargs, group)\u001b[0m\n\u001b[1;32m   2172\u001b[0m     \u001b[0;31m# The implementations of _update() and _update_non_slot() are identical\u001b[0m\u001b[0;34m\u001b[0m\u001b[0;34m\u001b[0m\u001b[0;34m\u001b[0m\u001b[0m\n\u001b[1;32m   2173\u001b[0m     \u001b[0;31m# except _update() passes `var` as the first argument to `fn()`.\u001b[0m\u001b[0;34m\u001b[0m\u001b[0;34m\u001b[0m\u001b[0;34m\u001b[0m\u001b[0m\n\u001b[0;32m-> 2174\u001b[0;31m     \u001b[0;32mreturn\u001b[0m \u001b[0mself\u001b[0m\u001b[0;34m.\u001b[0m\u001b[0m_update_non_slot\u001b[0m\u001b[0;34m(\u001b[0m\u001b[0mvar\u001b[0m\u001b[0;34m,\u001b[0m \u001b[0mfn\u001b[0m\u001b[0;34m,\u001b[0m \u001b[0;34m(\u001b[0m\u001b[0mvar\u001b[0m\u001b[0;34m,\u001b[0m\u001b[0;34m)\u001b[0m \u001b[0;34m+\u001b[0m \u001b[0mtuple\u001b[0m\u001b[0;34m(\u001b[0m\u001b[0margs\u001b[0m\u001b[0;34m)\u001b[0m\u001b[0;34m,\u001b[0m \u001b[0mkwargs\u001b[0m\u001b[0;34m,\u001b[0m \u001b[0mgroup\u001b[0m\u001b[0;34m)\u001b[0m\u001b[0;34m\u001b[0m\u001b[0;34m\u001b[0m\u001b[0m\n\u001b[0m\u001b[1;32m   2175\u001b[0m \u001b[0;34m\u001b[0m\u001b[0m\n\u001b[1;32m   2176\u001b[0m   \u001b[0;32mdef\u001b[0m \u001b[0m_update_non_slot\u001b[0m\u001b[0;34m(\u001b[0m\u001b[0mself\u001b[0m\u001b[0;34m,\u001b[0m \u001b[0mcolocate_with\u001b[0m\u001b[0;34m,\u001b[0m \u001b[0mfn\u001b[0m\u001b[0;34m,\u001b[0m \u001b[0margs\u001b[0m\u001b[0;34m,\u001b[0m \u001b[0mkwargs\u001b[0m\u001b[0;34m,\u001b[0m \u001b[0mshould_group\u001b[0m\u001b[0;34m)\u001b[0m\u001b[0;34m:\u001b[0m\u001b[0;34m\u001b[0m\u001b[0;34m\u001b[0m\u001b[0m\n",
      "\u001b[0;32m/opt/anaconda3/lib/python3.7/site-packages/tensorflow_core/python/distribute/distribute_lib.py\u001b[0m in \u001b[0;36m_update_non_slot\u001b[0;34m(self, colocate_with, fn, args, kwargs, should_group)\u001b[0m\n\u001b[1;32m   2178\u001b[0m     \u001b[0;31m# once that value is used for something.\u001b[0m\u001b[0;34m\u001b[0m\u001b[0;34m\u001b[0m\u001b[0;34m\u001b[0m\u001b[0m\n\u001b[1;32m   2179\u001b[0m     \u001b[0;32mwith\u001b[0m \u001b[0mUpdateContext\u001b[0m\u001b[0;34m(\u001b[0m\u001b[0mcolocate_with\u001b[0m\u001b[0;34m)\u001b[0m\u001b[0;34m:\u001b[0m\u001b[0;34m\u001b[0m\u001b[0;34m\u001b[0m\u001b[0m\n\u001b[0;32m-> 2180\u001b[0;31m       \u001b[0mresult\u001b[0m \u001b[0;34m=\u001b[0m \u001b[0mfn\u001b[0m\u001b[0;34m(\u001b[0m\u001b[0;34m*\u001b[0m\u001b[0margs\u001b[0m\u001b[0;34m,\u001b[0m \u001b[0;34m**\u001b[0m\u001b[0mkwargs\u001b[0m\u001b[0;34m)\u001b[0m\u001b[0;34m\u001b[0m\u001b[0;34m\u001b[0m\u001b[0m\n\u001b[0m\u001b[1;32m   2181\u001b[0m       \u001b[0;32mif\u001b[0m \u001b[0mshould_group\u001b[0m\u001b[0;34m:\u001b[0m\u001b[0;34m\u001b[0m\u001b[0;34m\u001b[0m\u001b[0m\n\u001b[1;32m   2182\u001b[0m         \u001b[0;32mreturn\u001b[0m \u001b[0mresult\u001b[0m\u001b[0;34m\u001b[0m\u001b[0;34m\u001b[0m\u001b[0m\n",
      "\u001b[0;32m/opt/anaconda3/lib/python3.7/site-packages/tensorflow_core/python/keras/optimizer_v2/optimizer_v2.py\u001b[0m in \u001b[0;36mapply_grad_to_update_var\u001b[0;34m(var, grad)\u001b[0m\n\u001b[1;32m    466\u001b[0m             grad.values, var, grad.indices, **apply_kwargs)\n\u001b[1;32m    467\u001b[0m \u001b[0;34m\u001b[0m\u001b[0m\n\u001b[0;32m--> 468\u001b[0;31m       \u001b[0;32mif\u001b[0m \u001b[0;34m\"apply_state\"\u001b[0m \u001b[0;32min\u001b[0m \u001b[0mself\u001b[0m\u001b[0;34m.\u001b[0m\u001b[0m_dense_apply_args\u001b[0m\u001b[0;34m:\u001b[0m\u001b[0;34m\u001b[0m\u001b[0;34m\u001b[0m\u001b[0m\n\u001b[0m\u001b[1;32m    469\u001b[0m         \u001b[0mapply_kwargs\u001b[0m\u001b[0;34m[\u001b[0m\u001b[0;34m\"apply_state\"\u001b[0m\u001b[0;34m]\u001b[0m \u001b[0;34m=\u001b[0m \u001b[0mapply_state\u001b[0m\u001b[0;34m\u001b[0m\u001b[0;34m\u001b[0m\u001b[0m\n\u001b[1;32m    470\u001b[0m       \u001b[0mupdate_op\u001b[0m \u001b[0;34m=\u001b[0m \u001b[0mself\u001b[0m\u001b[0;34m.\u001b[0m\u001b[0m_resource_apply_dense\u001b[0m\u001b[0;34m(\u001b[0m\u001b[0mgrad\u001b[0m\u001b[0;34m,\u001b[0m \u001b[0mvar\u001b[0m\u001b[0;34m,\u001b[0m \u001b[0;34m**\u001b[0m\u001b[0mapply_kwargs\u001b[0m\u001b[0;34m)\u001b[0m\u001b[0;34m\u001b[0m\u001b[0;34m\u001b[0m\u001b[0m\n",
      "\u001b[0;32m/opt/anaconda3/lib/python3.7/site-packages/tensorflow_core/python/keras/optimizer_v2/optimizer_v2.py\u001b[0m in \u001b[0;36m__getattribute__\u001b[0;34m(self, name)\u001b[0m\n\u001b[1;32m    542\u001b[0m     \u001b[0;34m\"\"\"Overridden to support hyperparameter access.\"\"\"\u001b[0m\u001b[0;34m\u001b[0m\u001b[0;34m\u001b[0m\u001b[0m\n\u001b[1;32m    543\u001b[0m     \u001b[0;32mtry\u001b[0m\u001b[0;34m:\u001b[0m\u001b[0;34m\u001b[0m\u001b[0;34m\u001b[0m\u001b[0m\n\u001b[0;32m--> 544\u001b[0;31m       \u001b[0;32mreturn\u001b[0m \u001b[0msuper\u001b[0m\u001b[0;34m(\u001b[0m\u001b[0mOptimizerV2\u001b[0m\u001b[0;34m,\u001b[0m \u001b[0mself\u001b[0m\u001b[0;34m)\u001b[0m\u001b[0;34m.\u001b[0m\u001b[0m__getattribute__\u001b[0m\u001b[0;34m(\u001b[0m\u001b[0mname\u001b[0m\u001b[0;34m)\u001b[0m\u001b[0;34m\u001b[0m\u001b[0;34m\u001b[0m\u001b[0m\n\u001b[0m\u001b[1;32m    545\u001b[0m     \u001b[0;32mexcept\u001b[0m \u001b[0mAttributeError\u001b[0m \u001b[0;32mas\u001b[0m \u001b[0me\u001b[0m\u001b[0;34m:\u001b[0m\u001b[0;34m\u001b[0m\u001b[0;34m\u001b[0m\u001b[0m\n\u001b[1;32m    546\u001b[0m       \u001b[0;31m# Needed to avoid infinite recursion with __setattr__.\u001b[0m\u001b[0;34m\u001b[0m\u001b[0;34m\u001b[0m\u001b[0;34m\u001b[0m\u001b[0m\n",
      "\u001b[0;31mKeyboardInterrupt\u001b[0m: "
     ]
    }
   ],
   "source": [
    "all_res = []\n",
    "summary_res = []\n",
    "for i_run in range(n_runs):\n",
    "    print('===============================')\n",
    "    print('======Run {0}======'.format(i_run))\n",
    "    print('===============================')\n",
    "    sd_run = utils.set_seed_np_tf(sd_run_list[i_run])\n",
    "    print(\"Seed : \", sd_run)\n",
    "    sd_restart_list = list(np.random.choice(10000, max_restart, replace=False))\n",
    "    run_folder = fp_save_models+'/run'+str(i_run)\n",
    "    utils.create_folder(run_folder+ '/final') #Same as last restart\n",
    "    #==Get data \n",
    "    A,B,X_A,X_B,B_shuff,B_idx_map = emb.get_data(n_systems,n_concepts,emb_dim,noise,n_epicentres,linearsep,sd_run,bplot=True)\n",
    "    ceil_acc_1, ceil_acc_5, ceil_acc_10, ceil_acc_half = utils.mapping_accuracy(X_A, X_B)\n",
    "    print(template_ceil.format(ceil_acc_1, ceil_acc_5, ceil_acc_10, ceil_acc_half))\n",
    "    thresh_acc = ceil_acc_1 * 0.9\n",
    "    print(\"    Threshold accuracy : %.2f\" %thresh_acc )\n",
    "    x, y , y_idx_map = A , B_shuff , B_idx_map\n",
    "#     x = tf.convert_to_tensor(x, dtype = np.float32()) #Does not work on local CPU\n",
    "#     y = tf.convert_to_tensor(y, dtype = np.float32()) #Does not work on local CPU\n",
    "    #==PRETRAIN - Get data\n",
    "    D_xy = knn.get_DXY_angles(x,y,radius=rad,bplot = False)\n",
    "    x_pretrain, y_pretrain, matches = knn.get_corres_data(x,y,D_xy,Ncorr)\n",
    "    matches_acc , matches_mat = knn.check_corresp(matches,y_idx_map)\n",
    "    #Save data\n",
    "    with open(str(run_folder)+'/x.pickle', 'wb') as handle:\n",
    "        pickle.dump(x, handle, protocol=pickle.HIGHEST_PROTOCOL)\n",
    "    with open(str(run_folder)+'/y.pickle', 'wb') as handle:\n",
    "        pickle.dump(y, handle, protocol=pickle.HIGHEST_PROTOCOL)\n",
    "    #print(x.shape,y.shape)\n",
    "    #==Loop through restarts\n",
    "    #=init best\n",
    "    loss_best = np.inf\n",
    "    best_model_f = models.MLP(emb_dim, emb_dim)\n",
    "    best_model_g = models.MLP(emb_dim, emb_dim)\n",
    "    dist_loss_g_best = np.inf\n",
    "    dist_loss_f_best = np.inf\n",
    "    #=Loop\n",
    "    last_restarts = []\n",
    "    restarts_dict_list = []\n",
    "    acc_f1, acc_g1 = 0,0\n",
    "    last_restart = -1\n",
    "    for i_restart in tqdm(range(max_restart)):\n",
    "        sd_restart = utils.set_seed_np_tf(sd_restart_list[i_restart])\n",
    "        print('======Restart {0}======'.format(i_restart))\n",
    "        #==init models\n",
    "        thresh = 0 #if 0, always a new model except if use_best_model=True. \n",
    "        force_best_model = (i_restart>=max_restart-10) #if True, use best mode, else, random depends on thresh\n",
    "        model_f,new_f = models.init_model(force_best_model,thresh,i_restart,sd_restart,emb_dim,best_model_f)\n",
    "        model_g,new_g = models.init_model(force_best_model,thresh,i_restart,sd_restart,emb_dim,best_model_g)\n",
    "        if new_f : print('    New model_f')\n",
    "        if new_g : print('    New model_g')\n",
    "        #==Pretrain\n",
    "        for i_epoch in range(max_epoch):\n",
    "          corr_loss_f, corr_loss_g = pretrain(model_f,model_g,optimizer,x_pretrain, y_pretrain)\n",
    "        # f_x = model_f(x).numpy()\n",
    "        # g_y = model_g(y).numpy()\n",
    "        # acc_f1, acc_f5, acc_f10, acc_fhalf = utils.mapping_accuracy(f_x, y.numpy()[y_idx_map])\n",
    "        # print(\"After pretraining...\")\n",
    "        # print(template_acc.format(-1,acc_f1,acc_f5,acc_f10,acc_fhalf))\n",
    "        # utils.plot_systems_results(x,y,f_x,g_y,X_A,X_B)\n",
    "        #==Train\n",
    "        model_f,model_g,epochs_dict_list = train_models_one_restart(i_run,i_restart,sd_restart,\n",
    "                                                                    x,y,y_idx_map,model_f,model_g,max_epoch,n_batch,X_A,X_B)\n",
    "        #Get final losses and accuracies\n",
    "        last_epoch_dict = epochs_dict_list[-1]\n",
    "        loss_total, cycle_loss, dist_loss_f, dist_loss_g = utils.get_losses_from_dict(last_epoch_dict)\n",
    "        acc_f1, acc_f5, acc_f10, acc_fhalf,acc_g1, acc_g5, acc_g10, acc_ghalf = utils.get_acc_from_dict(last_epoch_dict)\n",
    "        #Save best model\n",
    "        best_f,best_g = False,False\n",
    "        if dist_loss_f < dist_loss_f_best:\n",
    "                dist_loss_f_best = dist_loss_f\n",
    "                best_model_f = model_f\n",
    "                best_f = True\n",
    "                print('    Beat best model_f.')\n",
    "        if dist_loss_g < dist_loss_g_best:\n",
    "            dist_loss_g_best = dist_loss_g\n",
    "            best_model_g = model_g\n",
    "            best_g = True\n",
    "            print('    Beat best model_g.')  \n",
    "        #Add and Store data\n",
    "        for i in range(len(epochs_dict_list)):\n",
    "            epochs_dict_list[i]['new_f']=new_f\n",
    "            epochs_dict_list[i]['new_g']=new_g\n",
    "            epochs_dict_list[i]['best_f']=best_f\n",
    "            epochs_dict_list[i]['best_g']=best_g\n",
    "        restarts_dict_list.append(epochs_dict_list)\n",
    "        #====Save restart model\n",
    "        restart_folder = run_folder + '/restart' + str(i_restart)\n",
    "        utils.create_folder(restart_folder)\n",
    "        utils.save_models(model_f,model_g,restart_folder)\n",
    "        #====Breaking loop\n",
    "        if (acc_f1>thresh_acc and acc_g1>thresh_acc) and last_restart==-1: #last_restart = -1 if this does not happen\n",
    "            last_restart = i_restart\n",
    "            print(\"%d restarts necessary\" %(i_restart+1))\n",
    "            #break\n",
    "    if last_restart==-1: \n",
    "      last_restart = max_restart\n",
    "    all_dict_entries = utils.flatten_list_of_list(restarts_dict_list) \n",
    "    all_res.append(all_dict_entries)\n",
    "    #STORE FINAL RESULTS\n",
    "    summary_dict = {'experiment_name':experiment_name,'experiment_id':experiment_id,'sd_run':sd_run,'last_restart': last_restart,'loss_total':loss_total,'cycle_loss':cycle_loss,\n",
    "                    'dist_loss_f':dist_loss_f,'dist_loss_g':dist_loss_g,\n",
    "                    'acc_f1':acc_f1, 'acc_f5':acc_f5, 'acc_f10':acc_f10, 'acc_fhalf':acc_fhalf,\n",
    "                    'acc_g1':acc_g1, 'acc_g5':acc_g5, 'acc_g10':acc_g10, 'acc_ghalf':acc_ghalf,\n",
    "                    'ceil_acc_1':ceil_acc_1, 'ceil_acc_5':ceil_acc_5, 'ceil_acc_10':ceil_acc_10, 'ceil_acc_half':ceil_acc_half,\n",
    "                    'matches_acc':matches_acc,'matches_mat':matches_mat}\n",
    "    summary_res.append(summary_dict)\n",
    "    print(print('======Run Summary======'))\n",
    "    print(display(pd.DataFrame([summary_dict])))\n",
    "    #=====SAVE RUN MODEL====\n",
    "    utils.save_models(model_f,model_g,run_folder+ '/final')\n",
    "print('=========================')\n",
    "print('=======FINAL SUMMARY=====')\n",
    "print('=========================')\n",
    "df_summary = pd.DataFrame(summary_res)\n",
    "display(df_summary)\n",
    "#Save results\n",
    "with open(str(fp_save_runs)+'/all_res.pickle', 'wb') as handle:\n",
    "    pickle.dump(all_res, handle, protocol=pickle.HIGHEST_PROTOCOL)\n",
    "with open(str(fp_save_runs)+'/summary_res.pickle', 'wb') as handle:\n",
    "    pickle.dump(summary_res, handle, protocol=pickle.HIGHEST_PROTOCOL)"
   ]
  },
  {
   "cell_type": "code",
   "execution_count": null,
   "metadata": {
    "colab": {},
    "colab_type": "code",
    "id": "J3E_JBiNLYU5"
   },
   "outputs": [],
   "source": []
  }
 ],
 "metadata": {
  "accelerator": "GPU",
  "colab": {
   "collapsed_sections": [],
   "name": "Synthetic_same_dim_pretrain_angles_radius.ipynb",
   "provenance": []
  },
  "kernelspec": {
   "display_name": "Python 3",
   "language": "python",
   "name": "python3"
  },
  "language_info": {
   "codemirror_mode": {
    "name": "ipython",
    "version": 3
   },
   "file_extension": ".py",
   "mimetype": "text/x-python",
   "name": "python",
   "nbconvert_exporter": "python",
   "pygments_lexer": "ipython3",
   "version": "3.7.4"
  },
  "widgets": {
   "application/vnd.jupyter.widget-state+json": {
    "114ce083998341bda999e59a3259c4bf": {
     "model_module": "@jupyter-widgets/controls",
     "model_name": "DescriptionStyleModel",
     "state": {
      "_model_module": "@jupyter-widgets/controls",
      "_model_module_version": "1.5.0",
      "_model_name": "DescriptionStyleModel",
      "_view_count": null,
      "_view_module": "@jupyter-widgets/base",
      "_view_module_version": "1.2.0",
      "_view_name": "StyleView",
      "description_width": ""
     }
    },
    "3baf3355a5f94156b87eb2ced5ffcf59": {
     "model_module": "@jupyter-widgets/controls",
     "model_name": "ProgressStyleModel",
     "state": {
      "_model_module": "@jupyter-widgets/controls",
      "_model_module_version": "1.5.0",
      "_model_name": "ProgressStyleModel",
      "_view_count": null,
      "_view_module": "@jupyter-widgets/base",
      "_view_module_version": "1.2.0",
      "_view_name": "StyleView",
      "bar_color": null,
      "description_width": "initial"
     }
    },
    "4a82be4f8528478f906e1a5504994ac8": {
     "model_module": "@jupyter-widgets/controls",
     "model_name": "ProgressStyleModel",
     "state": {
      "_model_module": "@jupyter-widgets/controls",
      "_model_module_version": "1.5.0",
      "_model_name": "ProgressStyleModel",
      "_view_count": null,
      "_view_module": "@jupyter-widgets/base",
      "_view_module_version": "1.2.0",
      "_view_name": "StyleView",
      "bar_color": null,
      "description_width": "initial"
     }
    },
    "4baae098813944d99e92da3e19e9af95": {
     "model_module": "@jupyter-widgets/controls",
     "model_name": "DescriptionStyleModel",
     "state": {
      "_model_module": "@jupyter-widgets/controls",
      "_model_module_version": "1.5.0",
      "_model_name": "DescriptionStyleModel",
      "_view_count": null,
      "_view_module": "@jupyter-widgets/base",
      "_view_module_version": "1.2.0",
      "_view_name": "StyleView",
      "description_width": ""
     }
    },
    "4d2326ff9189434b988949699bbb3e38": {
     "model_module": "@jupyter-widgets/controls",
     "model_name": "DescriptionStyleModel",
     "state": {
      "_model_module": "@jupyter-widgets/controls",
      "_model_module_version": "1.5.0",
      "_model_name": "DescriptionStyleModel",
      "_view_count": null,
      "_view_module": "@jupyter-widgets/base",
      "_view_module_version": "1.2.0",
      "_view_name": "StyleView",
      "description_width": ""
     }
    },
    "4ff5bec1971a4cdc93ffc5e371e7e08a": {
     "model_module": "@jupyter-widgets/controls",
     "model_name": "FloatProgressModel",
     "state": {
      "_dom_classes": [],
      "_model_module": "@jupyter-widgets/controls",
      "_model_module_version": "1.5.0",
      "_model_name": "FloatProgressModel",
      "_view_count": null,
      "_view_module": "@jupyter-widgets/controls",
      "_view_module_version": "1.5.0",
      "_view_name": "ProgressView",
      "bar_style": "success",
      "description": "100%",
      "description_tooltip": null,
      "layout": "IPY_MODEL_c9dfe152ce584fd1b9bec7e79c8677ed",
      "max": 2,
      "min": 0,
      "orientation": "horizontal",
      "style": "IPY_MODEL_4a82be4f8528478f906e1a5504994ac8",
      "value": 2
     }
    },
    "6569c5bdee244e138cbe850a37626ff7": {
     "model_module": "@jupyter-widgets/base",
     "model_name": "LayoutModel",
     "state": {
      "_model_module": "@jupyter-widgets/base",
      "_model_module_version": "1.2.0",
      "_model_name": "LayoutModel",
      "_view_count": null,
      "_view_module": "@jupyter-widgets/base",
      "_view_module_version": "1.2.0",
      "_view_name": "LayoutView",
      "align_content": null,
      "align_items": null,
      "align_self": null,
      "border": null,
      "bottom": null,
      "display": null,
      "flex": null,
      "flex_flow": null,
      "grid_area": null,
      "grid_auto_columns": null,
      "grid_auto_flow": null,
      "grid_auto_rows": null,
      "grid_column": null,
      "grid_gap": null,
      "grid_row": null,
      "grid_template_areas": null,
      "grid_template_columns": null,
      "grid_template_rows": null,
      "height": null,
      "justify_content": null,
      "justify_items": null,
      "left": null,
      "margin": null,
      "max_height": null,
      "max_width": null,
      "min_height": null,
      "min_width": null,
      "object_fit": null,
      "object_position": null,
      "order": null,
      "overflow": null,
      "overflow_x": null,
      "overflow_y": null,
      "padding": null,
      "right": null,
      "top": null,
      "visibility": null,
      "width": null
     }
    },
    "67aedac9262943eaa55c410612a830c7": {
     "model_module": "@jupyter-widgets/base",
     "model_name": "LayoutModel",
     "state": {
      "_model_module": "@jupyter-widgets/base",
      "_model_module_version": "1.2.0",
      "_model_name": "LayoutModel",
      "_view_count": null,
      "_view_module": "@jupyter-widgets/base",
      "_view_module_version": "1.2.0",
      "_view_name": "LayoutView",
      "align_content": null,
      "align_items": null,
      "align_self": null,
      "border": null,
      "bottom": null,
      "display": null,
      "flex": null,
      "flex_flow": null,
      "grid_area": null,
      "grid_auto_columns": null,
      "grid_auto_flow": null,
      "grid_auto_rows": null,
      "grid_column": null,
      "grid_gap": null,
      "grid_row": null,
      "grid_template_areas": null,
      "grid_template_columns": null,
      "grid_template_rows": null,
      "height": null,
      "justify_content": null,
      "justify_items": null,
      "left": null,
      "margin": null,
      "max_height": null,
      "max_width": null,
      "min_height": null,
      "min_width": null,
      "object_fit": null,
      "object_position": null,
      "order": null,
      "overflow": null,
      "overflow_x": null,
      "overflow_y": null,
      "padding": null,
      "right": null,
      "top": null,
      "visibility": null,
      "width": null
     }
    },
    "68dd4bc01333446db9d8d8f0946c6ed6": {
     "model_module": "@jupyter-widgets/base",
     "model_name": "LayoutModel",
     "state": {
      "_model_module": "@jupyter-widgets/base",
      "_model_module_version": "1.2.0",
      "_model_name": "LayoutModel",
      "_view_count": null,
      "_view_module": "@jupyter-widgets/base",
      "_view_module_version": "1.2.0",
      "_view_name": "LayoutView",
      "align_content": null,
      "align_items": null,
      "align_self": null,
      "border": null,
      "bottom": null,
      "display": null,
      "flex": null,
      "flex_flow": null,
      "grid_area": null,
      "grid_auto_columns": null,
      "grid_auto_flow": null,
      "grid_auto_rows": null,
      "grid_column": null,
      "grid_gap": null,
      "grid_row": null,
      "grid_template_areas": null,
      "grid_template_columns": null,
      "grid_template_rows": null,
      "height": null,
      "justify_content": null,
      "justify_items": null,
      "left": null,
      "margin": null,
      "max_height": null,
      "max_width": null,
      "min_height": null,
      "min_width": null,
      "object_fit": null,
      "object_position": null,
      "order": null,
      "overflow": null,
      "overflow_x": null,
      "overflow_y": null,
      "padding": null,
      "right": null,
      "top": null,
      "visibility": null,
      "width": null
     }
    },
    "6e5c9c7052b3440abcf2d6bd68342393": {
     "model_module": "@jupyter-widgets/base",
     "model_name": "LayoutModel",
     "state": {
      "_model_module": "@jupyter-widgets/base",
      "_model_module_version": "1.2.0",
      "_model_name": "LayoutModel",
      "_view_count": null,
      "_view_module": "@jupyter-widgets/base",
      "_view_module_version": "1.2.0",
      "_view_name": "LayoutView",
      "align_content": null,
      "align_items": null,
      "align_self": null,
      "border": null,
      "bottom": null,
      "display": null,
      "flex": null,
      "flex_flow": null,
      "grid_area": null,
      "grid_auto_columns": null,
      "grid_auto_flow": null,
      "grid_auto_rows": null,
      "grid_column": null,
      "grid_gap": null,
      "grid_row": null,
      "grid_template_areas": null,
      "grid_template_columns": null,
      "grid_template_rows": null,
      "height": null,
      "justify_content": null,
      "justify_items": null,
      "left": null,
      "margin": null,
      "max_height": null,
      "max_width": null,
      "min_height": null,
      "min_width": null,
      "object_fit": null,
      "object_position": null,
      "order": null,
      "overflow": null,
      "overflow_x": null,
      "overflow_y": null,
      "padding": null,
      "right": null,
      "top": null,
      "visibility": null,
      "width": null
     }
    },
    "7047bf0632fb45148e7fcaadd828747a": {
     "model_module": "@jupyter-widgets/base",
     "model_name": "LayoutModel",
     "state": {
      "_model_module": "@jupyter-widgets/base",
      "_model_module_version": "1.2.0",
      "_model_name": "LayoutModel",
      "_view_count": null,
      "_view_module": "@jupyter-widgets/base",
      "_view_module_version": "1.2.0",
      "_view_name": "LayoutView",
      "align_content": null,
      "align_items": null,
      "align_self": null,
      "border": null,
      "bottom": null,
      "display": null,
      "flex": null,
      "flex_flow": null,
      "grid_area": null,
      "grid_auto_columns": null,
      "grid_auto_flow": null,
      "grid_auto_rows": null,
      "grid_column": null,
      "grid_gap": null,
      "grid_row": null,
      "grid_template_areas": null,
      "grid_template_columns": null,
      "grid_template_rows": null,
      "height": null,
      "justify_content": null,
      "justify_items": null,
      "left": null,
      "margin": null,
      "max_height": null,
      "max_width": null,
      "min_height": null,
      "min_width": null,
      "object_fit": null,
      "object_position": null,
      "order": null,
      "overflow": null,
      "overflow_x": null,
      "overflow_y": null,
      "padding": null,
      "right": null,
      "top": null,
      "visibility": null,
      "width": null
     }
    },
    "78f9e03937ba46329ef799734e0247e4": {
     "model_module": "@jupyter-widgets/controls",
     "model_name": "HTMLModel",
     "state": {
      "_dom_classes": [],
      "_model_module": "@jupyter-widgets/controls",
      "_model_module_version": "1.5.0",
      "_model_name": "HTMLModel",
      "_view_count": null,
      "_view_module": "@jupyter-widgets/controls",
      "_view_module_version": "1.5.0",
      "_view_name": "HTMLView",
      "description": "",
      "description_tooltip": null,
      "layout": "IPY_MODEL_7047bf0632fb45148e7fcaadd828747a",
      "placeholder": "​",
      "style": "IPY_MODEL_4baae098813944d99e92da3e19e9af95",
      "value": " 2/2 [00:18&lt;00:00,  9.46s/it]"
     }
    },
    "86eae87db847497b9a6e2de610252b9f": {
     "model_module": "@jupyter-widgets/controls",
     "model_name": "HBoxModel",
     "state": {
      "_dom_classes": [],
      "_model_module": "@jupyter-widgets/controls",
      "_model_module_version": "1.5.0",
      "_model_name": "HBoxModel",
      "_view_count": null,
      "_view_module": "@jupyter-widgets/controls",
      "_view_module_version": "1.5.0",
      "_view_name": "HBoxView",
      "box_style": "",
      "children": [
       "IPY_MODEL_4ff5bec1971a4cdc93ffc5e371e7e08a",
       "IPY_MODEL_b1d3a67238b6485e907b8134d966ebac"
      ],
      "layout": "IPY_MODEL_6e5c9c7052b3440abcf2d6bd68342393"
     }
    },
    "ac71ffba22e64c61821cccf8cdc1d765": {
     "model_module": "@jupyter-widgets/controls",
     "model_name": "FloatProgressModel",
     "state": {
      "_dom_classes": [],
      "_model_module": "@jupyter-widgets/controls",
      "_model_module_version": "1.5.0",
      "_model_name": "FloatProgressModel",
      "_view_count": null,
      "_view_module": "@jupyter-widgets/controls",
      "_view_module_version": "1.5.0",
      "_view_name": "ProgressView",
      "bar_style": "success",
      "description": "100%",
      "description_tooltip": null,
      "layout": "IPY_MODEL_6569c5bdee244e138cbe850a37626ff7",
      "max": 2,
      "min": 0,
      "orientation": "horizontal",
      "style": "IPY_MODEL_ba63c95133fb4194a77c28f9e699bd60",
      "value": 2
     }
    },
    "b1d3a67238b6485e907b8134d966ebac": {
     "model_module": "@jupyter-widgets/controls",
     "model_name": "HTMLModel",
     "state": {
      "_dom_classes": [],
      "_model_module": "@jupyter-widgets/controls",
      "_model_module_version": "1.5.0",
      "_model_name": "HTMLModel",
      "_view_count": null,
      "_view_module": "@jupyter-widgets/controls",
      "_view_module_version": "1.5.0",
      "_view_name": "HTMLView",
      "description": "",
      "description_tooltip": null,
      "layout": "IPY_MODEL_ea21921ce7f44d809da8b5a80eb11068",
      "placeholder": "​",
      "style": "IPY_MODEL_4d2326ff9189434b988949699bbb3e38",
      "value": " 2/2 [00:06&lt;00:00,  3.44s/it]"
     }
    },
    "b7bf83f4af0f4496b40cbf9f95fa7276": {
     "model_module": "@jupyter-widgets/base",
     "model_name": "LayoutModel",
     "state": {
      "_model_module": "@jupyter-widgets/base",
      "_model_module_version": "1.2.0",
      "_model_name": "LayoutModel",
      "_view_count": null,
      "_view_module": "@jupyter-widgets/base",
      "_view_module_version": "1.2.0",
      "_view_name": "LayoutView",
      "align_content": null,
      "align_items": null,
      "align_self": null,
      "border": null,
      "bottom": null,
      "display": null,
      "flex": null,
      "flex_flow": null,
      "grid_area": null,
      "grid_auto_columns": null,
      "grid_auto_flow": null,
      "grid_auto_rows": null,
      "grid_column": null,
      "grid_gap": null,
      "grid_row": null,
      "grid_template_areas": null,
      "grid_template_columns": null,
      "grid_template_rows": null,
      "height": null,
      "justify_content": null,
      "justify_items": null,
      "left": null,
      "margin": null,
      "max_height": null,
      "max_width": null,
      "min_height": null,
      "min_width": null,
      "object_fit": null,
      "object_position": null,
      "order": null,
      "overflow": null,
      "overflow_x": null,
      "overflow_y": null,
      "padding": null,
      "right": null,
      "top": null,
      "visibility": null,
      "width": null
     }
    },
    "ba63c95133fb4194a77c28f9e699bd60": {
     "model_module": "@jupyter-widgets/controls",
     "model_name": "ProgressStyleModel",
     "state": {
      "_model_module": "@jupyter-widgets/controls",
      "_model_module_version": "1.5.0",
      "_model_name": "ProgressStyleModel",
      "_view_count": null,
      "_view_module": "@jupyter-widgets/base",
      "_view_module_version": "1.2.0",
      "_view_name": "StyleView",
      "bar_color": null,
      "description_width": "initial"
     }
    },
    "c3df322f64bf4104a8405a02ec9cfea3": {
     "model_module": "@jupyter-widgets/controls",
     "model_name": "FloatProgressModel",
     "state": {
      "_dom_classes": [],
      "_model_module": "@jupyter-widgets/controls",
      "_model_module_version": "1.5.0",
      "_model_name": "FloatProgressModel",
      "_view_count": null,
      "_view_module": "@jupyter-widgets/controls",
      "_view_module_version": "1.5.0",
      "_view_name": "ProgressView",
      "bar_style": "success",
      "description": "100%",
      "description_tooltip": null,
      "layout": "IPY_MODEL_b7bf83f4af0f4496b40cbf9f95fa7276",
      "max": 2,
      "min": 0,
      "orientation": "horizontal",
      "style": "IPY_MODEL_3baf3355a5f94156b87eb2ced5ffcf59",
      "value": 2
     }
    },
    "c4762448f83f4af1963b97dd18baf530": {
     "model_module": "@jupyter-widgets/base",
     "model_name": "LayoutModel",
     "state": {
      "_model_module": "@jupyter-widgets/base",
      "_model_module_version": "1.2.0",
      "_model_name": "LayoutModel",
      "_view_count": null,
      "_view_module": "@jupyter-widgets/base",
      "_view_module_version": "1.2.0",
      "_view_name": "LayoutView",
      "align_content": null,
      "align_items": null,
      "align_self": null,
      "border": null,
      "bottom": null,
      "display": null,
      "flex": null,
      "flex_flow": null,
      "grid_area": null,
      "grid_auto_columns": null,
      "grid_auto_flow": null,
      "grid_auto_rows": null,
      "grid_column": null,
      "grid_gap": null,
      "grid_row": null,
      "grid_template_areas": null,
      "grid_template_columns": null,
      "grid_template_rows": null,
      "height": null,
      "justify_content": null,
      "justify_items": null,
      "left": null,
      "margin": null,
      "max_height": null,
      "max_width": null,
      "min_height": null,
      "min_width": null,
      "object_fit": null,
      "object_position": null,
      "order": null,
      "overflow": null,
      "overflow_x": null,
      "overflow_y": null,
      "padding": null,
      "right": null,
      "top": null,
      "visibility": null,
      "width": null
     }
    },
    "c88ff8046392423c83f8e59eac59ce25": {
     "model_module": "@jupyter-widgets/controls",
     "model_name": "HTMLModel",
     "state": {
      "_dom_classes": [],
      "_model_module": "@jupyter-widgets/controls",
      "_model_module_version": "1.5.0",
      "_model_name": "HTMLModel",
      "_view_count": null,
      "_view_module": "@jupyter-widgets/controls",
      "_view_module_version": "1.5.0",
      "_view_name": "HTMLView",
      "description": "",
      "description_tooltip": null,
      "layout": "IPY_MODEL_68dd4bc01333446db9d8d8f0946c6ed6",
      "placeholder": "​",
      "style": "IPY_MODEL_114ce083998341bda999e59a3259c4bf",
      "value": " 2/2 [00:06&lt;00:00,  3.49s/it]"
     }
    },
    "c9dfe152ce584fd1b9bec7e79c8677ed": {
     "model_module": "@jupyter-widgets/base",
     "model_name": "LayoutModel",
     "state": {
      "_model_module": "@jupyter-widgets/base",
      "_model_module_version": "1.2.0",
      "_model_name": "LayoutModel",
      "_view_count": null,
      "_view_module": "@jupyter-widgets/base",
      "_view_module_version": "1.2.0",
      "_view_name": "LayoutView",
      "align_content": null,
      "align_items": null,
      "align_self": null,
      "border": null,
      "bottom": null,
      "display": null,
      "flex": null,
      "flex_flow": null,
      "grid_area": null,
      "grid_auto_columns": null,
      "grid_auto_flow": null,
      "grid_auto_rows": null,
      "grid_column": null,
      "grid_gap": null,
      "grid_row": null,
      "grid_template_areas": null,
      "grid_template_columns": null,
      "grid_template_rows": null,
      "height": null,
      "justify_content": null,
      "justify_items": null,
      "left": null,
      "margin": null,
      "max_height": null,
      "max_width": null,
      "min_height": null,
      "min_width": null,
      "object_fit": null,
      "object_position": null,
      "order": null,
      "overflow": null,
      "overflow_x": null,
      "overflow_y": null,
      "padding": null,
      "right": null,
      "top": null,
      "visibility": null,
      "width": null
     }
    },
    "d4718bca5cc44edab2dcadba46da2558": {
     "model_module": "@jupyter-widgets/controls",
     "model_name": "HBoxModel",
     "state": {
      "_dom_classes": [],
      "_model_module": "@jupyter-widgets/controls",
      "_model_module_version": "1.5.0",
      "_model_name": "HBoxModel",
      "_view_count": null,
      "_view_module": "@jupyter-widgets/controls",
      "_view_module_version": "1.5.0",
      "_view_name": "HBoxView",
      "box_style": "",
      "children": [
       "IPY_MODEL_ac71ffba22e64c61821cccf8cdc1d765",
       "IPY_MODEL_78f9e03937ba46329ef799734e0247e4"
      ],
      "layout": "IPY_MODEL_c4762448f83f4af1963b97dd18baf530"
     }
    },
    "e306006c4ccc42fd9dfd2679dd2796a5": {
     "model_module": "@jupyter-widgets/controls",
     "model_name": "HBoxModel",
     "state": {
      "_dom_classes": [],
      "_model_module": "@jupyter-widgets/controls",
      "_model_module_version": "1.5.0",
      "_model_name": "HBoxModel",
      "_view_count": null,
      "_view_module": "@jupyter-widgets/controls",
      "_view_module_version": "1.5.0",
      "_view_name": "HBoxView",
      "box_style": "",
      "children": [
       "IPY_MODEL_c3df322f64bf4104a8405a02ec9cfea3",
       "IPY_MODEL_c88ff8046392423c83f8e59eac59ce25"
      ],
      "layout": "IPY_MODEL_67aedac9262943eaa55c410612a830c7"
     }
    },
    "ea21921ce7f44d809da8b5a80eb11068": {
     "model_module": "@jupyter-widgets/base",
     "model_name": "LayoutModel",
     "state": {
      "_model_module": "@jupyter-widgets/base",
      "_model_module_version": "1.2.0",
      "_model_name": "LayoutModel",
      "_view_count": null,
      "_view_module": "@jupyter-widgets/base",
      "_view_module_version": "1.2.0",
      "_view_name": "LayoutView",
      "align_content": null,
      "align_items": null,
      "align_self": null,
      "border": null,
      "bottom": null,
      "display": null,
      "flex": null,
      "flex_flow": null,
      "grid_area": null,
      "grid_auto_columns": null,
      "grid_auto_flow": null,
      "grid_auto_rows": null,
      "grid_column": null,
      "grid_gap": null,
      "grid_row": null,
      "grid_template_areas": null,
      "grid_template_columns": null,
      "grid_template_rows": null,
      "height": null,
      "justify_content": null,
      "justify_items": null,
      "left": null,
      "margin": null,
      "max_height": null,
      "max_width": null,
      "min_height": null,
      "min_width": null,
      "object_fit": null,
      "object_position": null,
      "order": null,
      "overflow": null,
      "overflow_x": null,
      "overflow_y": null,
      "padding": null,
      "right": null,
      "top": null,
      "visibility": null,
      "width": null
     }
    }
   }
  }
 },
 "nbformat": 4,
 "nbformat_minor": 1
}
